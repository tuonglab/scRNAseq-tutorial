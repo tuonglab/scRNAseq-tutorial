{
  "cells": [
    {
      "cell_type": "markdown",
      "metadata": {
        "id": "dKplgAn4HDd_"
      },
      "source": [
        "# scRNA-seq analysis in-depth tutorial for immunology/T cell data!\n",
        "\n",
        "This analysis notebook is meant to be a supplement to the existing tutorials out there but with a more in-depth focus on how we normally analyse immunology data. The example we will go through below is that of sorted T cell populations from human PBMC and we will go through the details as we progress. For now, we will do the first step which is to set-up the prerequisites and download the data:"
      ]
    },
    {
      "cell_type": "code",
      "execution_count": null,
      "metadata": {
        "id": "R5OS_FAtkT8A"
      },
      "outputs": [],
      "source": [
        "# setup the notebook\n",
        "!pip install -qqq scanpy[leiden] sc-dandelion bbknn\n",
        "!pip install -qqq git+https://www.github.com/tuonglab/kttools.git\n",
        "!pip install -qqq celltypist\n",
        "# the session might crash after running this step as we are installing numpy. Don't worry. just reconnect and then continue with the rest below.\n",
        "!celltypist --update-models\n",
        "# second thing to do is to clone the repository so that we have all the data and notebooks ready to go\n",
        "!git clone https://github.com/tuonglab/scRNAseq-tutorial.git"
      ]
    },
    {
      "cell_type": "code",
      "execution_count": null,
      "metadata": {
        "id": "0RYTFv97lsMm"
      },
      "outputs": [],
      "source": [
        "# change directory\n",
        "import os\n",
        "\n",
        "os.chdir(\"scRNAseq-tutorial\")\n",
        "[file for file in os.listdir() if not file.startswith(\".\")]"
      ]
    },
    {
      "cell_type": "code",
      "execution_count": null,
      "metadata": {
        "id": "euKOJd38Kxcz"
      },
      "outputs": [],
      "source": [
        "# just to make the the code run a bit quieter, i'm suppressing a few warnings here\n",
        "\n",
        "import warnings\n",
        "\n",
        "from numba.core.errors import NumbaDeprecationWarning, NumbaWarning\n",
        "\n",
        "for warn in [\n",
        "    NumbaDeprecationWarning,\n",
        "    NumbaWarning,\n",
        "    FutureWarning,\n",
        "    UserWarning,\n",
        "]:  # otherwise very noisy\n",
        "    warnings.filterwarnings(\"ignore\", category=warn)"
      ]
    },
    {
      "cell_type": "markdown",
      "metadata": {
        "id": "jyeGlt5HkR-O"
      },
      "source": [
        "# Tutorial: Single-cell RNA seq analysis using a T cell dataset (sorted from healthy PBMCs)"
      ]
    },
    {
      "cell_type": "markdown",
      "metadata": {
        "id": "p4LcZHPGkR-S"
      },
      "source": [
        "#### This tutorial will show you the steps involved to get you started on single cell analysis in Python using Scanpy, the toolkit for analysing single-cell gene expression.\n",
        "#### It includes preprocessing, visualization, clustering, trajectory inference and differential expression testing.\n",
        "#### Depending on the complexity of your analysis, you may need to modify and expand on these steps."
      ]
    },
    {
      "cell_type": "markdown",
      "metadata": {
        "id": "6tmvOCeWkR-T"
      },
      "source": [
        "# Double-Positive T scRNAseq analysis"
      ]
    },
    {
      "cell_type": "markdown",
      "metadata": {
        "id": "Dbk22jSnkR-T"
      },
      "source": [
        "## 1. Preprocessing and Quality Control"
      ]
    },
    {
      "cell_type": "markdown",
      "metadata": {
        "id": "20nZhDH6kR-U"
      },
      "source": [
        "First, import packages needed for single-cell RNA seq analysis.\n",
        "\n",
        "You can insert another line: `pip install \"package_name\"` or install them via conda/mamba/anaconda if those packages are not already installed prior to importing"
      ]
    },
    {
      "cell_type": "code",
      "execution_count": null,
      "metadata": {
        "id": "Damq_kOCkR-U"
      },
      "outputs": [],
      "source": [
        "import os\n",
        "import tools\n",
        "import scanpy as sc\n",
        "import pandas as pd\n",
        "import dandelion as ddl\n",
        "from tqdm import tqdm"
      ]
    },
    {
      "cell_type": "markdown",
      "metadata": {
        "id": "r-TLb5sqkR-W"
      },
      "source": [
        "Show current directory:"
      ]
    },
    {
      "cell_type": "code",
      "execution_count": null,
      "metadata": {
        "id": "RvBa0U0OkR-W",
        "scrolled": true
      },
      "outputs": [],
      "source": [
        "os.getcwd()"
      ]
    },
    {
      "cell_type": "markdown",
      "metadata": {
        "id": "lQ5WpsARkR-X"
      },
      "source": [
        "Print software versions:"
      ]
    },
    {
      "cell_type": "code",
      "execution_count": null,
      "metadata": {
        "id": "JDc30Ko6kR-X"
      },
      "outputs": [],
      "source": [
        "sc.logging.print_header()"
      ]
    },
    {
      "cell_type": "code",
      "execution_count": null,
      "metadata": {
        "id": "-XkC4c3NkR-X"
      },
      "outputs": [],
      "source": [
        "ddl.logging.print_header()"
      ]
    },
    {
      "cell_type": "markdown",
      "metadata": {
        "id": "fX-evF83HrNI"
      },
      "source": [
        "Set plotting parameters:"
      ]
    },
    {
      "cell_type": "code",
      "execution_count": null,
      "metadata": {
        "id": "wF17GwZrkR-X"
      },
      "outputs": [],
      "source": [
        "sc.settings.set_figure_params(dpi=80, facecolor=\"white\")"
      ]
    },
    {
      "cell_type": "markdown",
      "metadata": {
        "id": "ptMIeRZCkR-Y"
      },
      "source": [
        "### Reading in files for analysis\n",
        "\n",
        "For this tutorial, we have already saved the starting raw datafile as an `.h5ad` file. Hence we are reading it in with `sc.read_h5ad` to load up an `AnnData` object. However, for a normal use case, you would typically start with `cellranger` output files/folders. Therefore, refer to their [tutorial](https://scanpy.readthedocs.io/) to get an idea on how to read other file formats in."
      ]
    },
    {
      "cell_type": "code",
      "execution_count": null,
      "metadata": {
        "id": "4LpdCxz_kR-Y"
      },
      "outputs": [],
      "source": [
        "# we need to read each file separately and then concatenate them\n",
        "\n",
        "from pathlib import Path\n",
        "\n",
        "samples = [\n",
        "    \"CD4_L01\",\n",
        "    \"CD4_P01\",\n",
        "    \"CD4_WY\",\n",
        "    \"CD8_L01\",\n",
        "    \"CD8_P01\",\n",
        "    \"CD8_WY\",\n",
        "    \"DP_L01\",\n",
        "    \"DP_P01\",\n",
        "    \"DP_WY\",\n",
        "    \"V_CD4\",\n",
        "    \"V_CD8\",\n",
        "    \"V_DP\",\n",
        "]\n",
        "\n",
        "# use a for loop to read in each sample and then concatenate at the end\n",
        "adatas = []\n",
        "for sample in samples:\n",
        "    out_path = Path(\"data\") / (sample + \"_raw.h5ad\")  # \"../\" means go up one folder\n",
        "    adata = sc.read_h5ad(out_path)\n",
        "    adatas.append(adata)"
      ]
    },
    {
      "cell_type": "markdown",
      "metadata": {
        "id": "h-_835_3IHU4"
      },
      "source": [
        "### Concatenate\n",
        "\n",
        "Now that we have read them in and added them to a list, we want to join them all up (also known as concatenate). But how do we do that?"
      ]
    },
    {
      "cell_type": "code",
      "execution_count": null,
      "metadata": {
        "id": "X4g7VPSEkR-Y"
      },
      "outputs": [],
      "source": [
        "adata = sc.concat(adatas)\n",
        "adata"
      ]
    },
    {
      "cell_type": "markdown",
      "metadata": {
        "id": "AsJub22IC6lB"
      },
      "source": [
        "Note: this adata has gone through some pre-processing CALCULATIONS but have NOT been filtered..."
      ]
    },
    {
      "cell_type": "markdown",
      "metadata": {
        "id": "lAXB_DJBkR-Z"
      },
      "source": [
        "## Quality control\n"
      ]
    },
    {
      "cell_type": "markdown",
      "metadata": {
        "id": "lqyTHlnBkR-Z"
      },
      "source": [
        "These are the steps that Kelvin did to obtain some preprocessing parameters AFTER concatenating raw output from cell ranger, BEFORE saving it as \"raw_adata_v2.h5ad\"\n",
        "\n",
        "When Kelvin ran\n",
        "`ddl.pp.external.recipe_scanpy_qc(\n",
        "        tmp, max_genes=10000, mito_cutoff=None, mito_startswith=\"MT-\"\n",
        ")`, he applied a quick \"recipe\" function from ddl to help compute PP output using these parameters in this context: {cells need to have 10,000 genes, and no mito_cutoff done}. It uses a gaussian mixture model on the mitochondrial and total gene counts to decide which cells pass or not.\n",
        "\n",
        "It then creates a \"filter_rna\" column to store the final outoput, whether a cell passes QC (False), or not (True).\n",
        "\n",
        "\n"
      ]
    },
    {
      "cell_type": "markdown",
      "metadata": {
        "id": "8weRR43OkR-Z"
      },
      "source": [
        "#### What is a way to quickly look at the cells in our metadata with the observational file?\n",
        "\n",
        "Hint - where does `AnnData` store the `metadata`? What `type` is it?"
      ]
    },
    {
      "cell_type": "code",
      "execution_count": null,
      "metadata": {
        "id": "M2ClkD9ukR-Z"
      },
      "outputs": [],
      "source": [
        "adata.obs"
      ]
    },
    {
      "cell_type": "markdown",
      "metadata": {
        "id": "T7nRcsblkR-Z"
      },
      "source": [
        "#### What about genes in the metadata?\n",
        "\n",
        "Hint - in the variable level"
      ]
    },
    {
      "cell_type": "code",
      "execution_count": null,
      "metadata": {
        "id": "vkI7WQBVkR-Z"
      },
      "outputs": [],
      "source": [
        "adata.var"
      ]
    },
    {
      "cell_type": "markdown",
      "metadata": {
        "id": "7iZNptcN8X0b"
      },
      "source": [
        "Now let's visualise some QC metrics"
      ]
    },
    {
      "cell_type": "code",
      "execution_count": null,
      "metadata": {
        "id": "YJU3Br0vkR-Z"
      },
      "outputs": [],
      "source": [
        "sc.pl.scatter(adata, x=\"total_counts\", y=\"pct_counts_mt\", color=\"filter_rna\")\n",
        "sc.pl.scatter(adata, x=\"total_counts\", y=\"n_genes_by_counts\", color=\"filter_rna\")\n",
        "sc.pl.scatter(adata, x=\"pct_counts_mt\", y=\"n_genes_by_counts\", color=\"filter_rna\")"
      ]
    },
    {
      "cell_type": "markdown",
      "metadata": {
        "id": "UrcIOvSd8dID"
      },
      "source": [
        " - `n_genes_by_counts` = number of genes with positive counts in a cell (similar to `nFeature_RNA` in seurat)\n",
        "\n",
        " - `total_counts` = total number of counts for a cell, which is also known as library size (similar to `nCount_RNA` in seurat = nUMI)"
      ]
    },
    {
      "cell_type": "markdown",
      "metadata": {
        "id": "Hq50UXjo8l_T"
      },
      "source": [
        "Tabulate number of cells per sample...\n"
      ]
    },
    {
      "cell_type": "code",
      "execution_count": null,
      "metadata": {
        "id": "sEDgO-zEkR-Z"
      },
      "outputs": [],
      "source": [
        "pd.crosstab(adata.obs[\"sample\"], adata.obs[\"filter_rna\"])\n",
        "\n",
        "# cross tab: https://stackoverflow.com/questions/21247203/how-to-make-a-pandas-crosstab-with-percentages\n",
        "# https://pandas.pydata.org/docs/reference/api/pandas.crosstab.html\n",
        "# https://pbpython.com/pandas-crosstab.html"
      ]
    },
    {
      "cell_type": "code",
      "execution_count": null,
      "metadata": {
        "id": "jRS8NDj9kR-a",
        "scrolled": true
      },
      "outputs": [],
      "source": [
        "## Repeating this as a percentage\n",
        "# You'll just have the function that does row/row.sum(), and you use apply with axis=1 to apply it by row (or across and not within columns).\n",
        "\n",
        "pd.crosstab(adata.obs[\"sample\"], adata.obs[\"filter_rna\"]).apply(\n",
        "    lambda row: row / row.sum() * 100, axis=1\n",
        ")"
      ]
    },
    {
      "cell_type": "code",
      "execution_count": null,
      "metadata": {
        "id": "-pncrA0skR-a"
      },
      "outputs": [],
      "source": [
        "## Plotting violin plots for QC metrics too\n",
        "\n",
        "sc.pl.violin(\n",
        "    adata,\n",
        "    [\"total_counts\", \"n_genes_by_counts\", \"pct_counts_mt\"],\n",
        "    size=0.1,\n",
        "    groupby=\"sample\",\n",
        "    multi_panel=True,\n",
        "    rotation=90,\n",
        ")"
      ]
    },
    {
      "cell_type": "markdown",
      "metadata": {
        "id": "VRMfMvoJkR-a"
      },
      "source": [
        "Continue processing with \"good\" cells only.."
      ]
    },
    {
      "cell_type": "code",
      "execution_count": null,
      "metadata": {
        "id": "gFUet2zPkR-a"
      },
      "outputs": [],
      "source": [
        "adata = adata[adata.obs[\"filter_rna\"] == \"False\"].copy()"
      ]
    },
    {
      "cell_type": "markdown",
      "metadata": {
        "id": "25lhkpvcYytt"
      },
      "source": [
        "> Ask yourself, what are usual good cut-offs? Are they always appropriate?"
      ]
    },
    {
      "cell_type": "markdown",
      "metadata": {
        "id": "SoHzH-umkR-a"
      },
      "source": [
        "Redo QC plots with the \"good\" cells post-filtering"
      ]
    },
    {
      "cell_type": "code",
      "execution_count": null,
      "metadata": {
        "id": "kwRI5CJUkR-a"
      },
      "outputs": [],
      "source": [
        "sc.pl.scatter(adata, x=\"total_counts\", y=\"pct_counts_mt\", color=\"filter_rna\")\n",
        "sc.pl.scatter(adata, x=\"total_counts\", y=\"n_genes_by_counts\", color=\"filter_rna\")\n",
        "sc.pl.scatter(adata, x=\"pct_counts_mt\", y=\"n_genes_by_counts\", color=\"filter_rna\")"
      ]
    },
    {
      "cell_type": "code",
      "execution_count": null,
      "metadata": {
        "id": "-fF7RmDJkR-a"
      },
      "outputs": [],
      "source": [
        "# also via violin plot\n",
        "\n",
        "sc.pl.violin(\n",
        "    adata,\n",
        "    [\"total_counts\", \"n_genes_by_counts\", \"pct_counts_mt\"],\n",
        "    size=0.1,\n",
        "    groupby=\"sample\",\n",
        "    multi_panel=True,\n",
        "    rotation=90,\n",
        ")"
      ]
    },
    {
      "cell_type": "code",
      "execution_count": null,
      "metadata": {
        "id": "pbCmiUgDkR-b"
      },
      "outputs": [],
      "source": [
        "# maybe just do cutoff and see what happens...\n",
        "\n",
        "bdata = adata\n",
        "bdata"
      ]
    },
    {
      "cell_type": "code",
      "execution_count": null,
      "metadata": {
        "id": "SrCT7DsKkR-b"
      },
      "outputs": [],
      "source": [
        "bdata = bdata[bdata.obs.pct_counts_mt < 5, :]\n",
        "# I also want to filter out cells with low gene expression..\n",
        "bdata = bdata[bdata.obs.n_genes_by_counts > 200, :]\n",
        "bdata"
      ]
    },
    {
      "cell_type": "code",
      "execution_count": null,
      "metadata": {
        "id": "M9XOE8vkkR-b"
      },
      "outputs": [],
      "source": [
        "# also violin plot\n",
        "\n",
        "sc.pl.violin(\n",
        "    bdata,\n",
        "    [\"total_counts\", \"n_genes_by_counts\", \"pct_counts_mt\"],\n",
        "    size=0.1,\n",
        "    groupby=\"sample\",\n",
        "    multi_panel=True,\n",
        "    rotation=90,\n",
        ")\n",
        "\n",
        "# didn't change too much - so ignore.."
      ]
    },
    {
      "cell_type": "code",
      "execution_count": null,
      "metadata": {
        "id": "S7_VWflakR-b"
      },
      "outputs": [],
      "source": [
        "########### Anyway let's go back to the original data... adata\n",
        "\n",
        "# remove uninformative genes for now - this filters out genes that are not expressed in least 3 cells.\n",
        "\n",
        "sc.pp.filter_genes(adata, min_cells=3)\n",
        "adata"
      ]
    },
    {
      "cell_type": "markdown",
      "metadata": {
        "id": "TmqaPq28Hv9k"
      },
      "source": [
        "`n_obs` basically means number of observations (cells) and `n_vars` is number of variables (genes)."
      ]
    },
    {
      "cell_type": "markdown",
      "metadata": {
        "id": "hMTXCmYwkR-b"
      },
      "source": [
        "## Normalisation"
      ]
    },
    {
      "cell_type": "code",
      "execution_count": null,
      "metadata": {
        "id": "31GZf02qkR-j"
      },
      "outputs": [],
      "source": [
        "# Total-count normalize (library-size correct) the data matrix 𝐗 to 10,000 reads per cell, so that counts become comparable among cells.\n",
        "sc.pp.normalize_total(adata, target_sum=1e4)\n",
        "\n",
        "# Logarithmize the data:\n",
        "sc.pp.log1p(adata)\n",
        "\n",
        "# check the object\n",
        "adata"
      ]
    },
    {
      "cell_type": "markdown",
      "metadata": {
        "id": "LRKTZsfakR-k"
      },
      "source": [
        "# 2. Highly variable Genes"
      ]
    },
    {
      "cell_type": "markdown",
      "metadata": {
        "id": "nOtGQx1GkR-k"
      },
      "source": [
        "Identify and inspect highly-variable genes"
      ]
    },
    {
      "cell_type": "code",
      "execution_count": null,
      "metadata": {
        "id": "laIpQxySkR-k"
      },
      "outputs": [],
      "source": [
        "# (Expects logarithimised data)\n",
        "sc.pp.highly_variable_genes(adata, min_mean=0.0125, max_mean=3, min_disp=0.5)\n",
        "adata"
      ]
    },
    {
      "cell_type": "code",
      "execution_count": null,
      "metadata": {
        "id": "a3La6FRBkR-k"
      },
      "outputs": [],
      "source": [
        "# to see genes\n",
        "adata.var  # there is now a hvg column"
      ]
    },
    {
      "cell_type": "code",
      "execution_count": null,
      "metadata": {
        "id": "rBgOAoa_kR-k",
        "scrolled": true
      },
      "outputs": [],
      "source": [
        "### to get structure of dataframe\n",
        "adata.var.info()\n",
        "adata.obs.info()"
      ]
    },
    {
      "cell_type": "code",
      "execution_count": null,
      "metadata": {
        "id": "oMiB0JlfJf9J"
      },
      "outputs": [],
      "source": [
        "### to get the number of HV genes... because the column \"highly_variable\" is a boolean vector - ie it gives True (1) or False (0), you can use sum function to know...\n",
        "print(adata.var.highly_variable.sum())"
      ]
    },
    {
      "cell_type": "markdown",
      "metadata": {
        "id": "-2aze9kNkR-l"
      },
      "source": [
        "Plot out the number of highly variable genes"
      ]
    },
    {
      "cell_type": "code",
      "execution_count": null,
      "metadata": {
        "id": "gU3_8cpVkR-l",
        "scrolled": true
      },
      "outputs": [],
      "source": [
        "sc.pl.highly_variable_genes(adata)"
      ]
    },
    {
      "cell_type": "markdown",
      "metadata": {
        "id": "0q4jcSKLkR-l"
      },
      "source": [
        "To inspect HV genes, first, create a dataframe containing the info."
      ]
    },
    {
      "cell_type": "code",
      "execution_count": null,
      "metadata": {
        "id": "z5sLb9s-kR-l"
      },
      "outputs": [],
      "source": [
        "hvg = pd.DataFrame(adata.var.highly_variable)\n",
        "hvg"
      ]
    },
    {
      "cell_type": "code",
      "execution_count": null,
      "metadata": {
        "id": "fr80vMcwkR-l",
        "scrolled": true
      },
      "outputs": [],
      "source": [
        "# to know the str\n",
        "pd.DataFrame.info(hvg)"
      ]
    },
    {
      "cell_type": "markdown",
      "metadata": {
        "id": "UpZr872qkR-l"
      },
      "source": [
        "Add col name 'HV_status' and print hvg"
      ]
    },
    {
      "cell_type": "code",
      "execution_count": null,
      "metadata": {
        "id": "ZYepLCazkR-l",
        "scrolled": true
      },
      "outputs": [],
      "source": [
        "hvg.columns = [\"HV_status\"]\n",
        "print(hvg)"
      ]
    },
    {
      "cell_type": "markdown",
      "metadata": {
        "id": "XjOhFzCCkR-l"
      },
      "source": [
        "Get only the True ones.."
      ]
    },
    {
      "cell_type": "code",
      "execution_count": null,
      "metadata": {
        "id": "FemJPJhmkR-l"
      },
      "outputs": [],
      "source": [
        "hvg_T = hvg.loc[hvg[\"HV_status\"] == True]\n",
        "hvg_T[:50]"
      ]
    },
    {
      "cell_type": "code",
      "execution_count": null,
      "metadata": {
        "id": "Xy0oQeYBkR-m"
      },
      "outputs": [],
      "source": [
        "########### see all the variables here..   ##############\n",
        "%who_ls"
      ]
    },
    {
      "cell_type": "markdown",
      "metadata": {
        "id": "TUzeTkixkR-m"
      },
      "source": [
        "## Removing VDJ genes from HVG genes manually"
      ]
    },
    {
      "cell_type": "markdown",
      "metadata": {
        "id": "_T6e3bFDkR-m"
      },
      "source": [
        "### So how does T-cell receptor (TCR) differ from B-cell receptor (TCR)?\n",
        "TCR has a single pair of alpha and beta chains while BCR contains two pairs of light and heavy chains.\n",
        "\n",
        "In the examples below, TCR can be expressed as TR while BCR can be expressed as IG."
      ]
    },
    {
      "cell_type": "markdown",
      "metadata": {
        "id": "uFxm9kP2kR-m"
      },
      "source": [
        "**The code below is for BCR data.**\n",
        "\n",
        "Because this is 10x 5' data - there is a lot of VDJ genes that are picked up (in abundance), and because they do look different from each donor, it can be mis-computed as HVG - therefore, <b> REMOVE THEM </b>."
      ]
    },
    {
      "cell_type": "code",
      "execution_count": null,
      "metadata": {
        "id": "IkbCdyngkR-m",
        "scrolled": true
      },
      "outputs": [],
      "source": [
        "import re\n",
        "\n",
        "for i in adata.var.index:\n",
        "    if re.search(\"^IG[HKL][VDJC]\", i):\n",
        "        adata.var.at[i, \"highly_variable\"] = False"
      ]
    },
    {
      "cell_type": "markdown",
      "metadata": {
        "id": "ab9SfDdaAesa"
      },
      "source": [
        "It uses the `re` module, which stands for regular expressions, to search for specific patterns in the index values.\n",
        "\n",
        "Let's break down the code step by step:\n",
        "\n",
        " - `for i in adata.var.index` -> This initiates a loop that iterates over each value (i) in the index of the adata.var object.\n",
        "\n",
        " - `if re.search(\"^IG[HKL][VDJC]\", i)`\n",
        "    - This line uses regular expressions to check if the current index value (i) matches a specific pattern. The regular expression pattern is as follows:\n",
        "\n",
        "      - `^`: Asserts the position at the start of the string.\n",
        "      - `IG`: The first two characters match the characters \"IG\" literally.\n",
        "      - `[HKL]`: The next character matches either \"H\", \"K\", or \"L\".\n",
        "      - `[VDJC]`: The next character either \"V\", \"D\", \"J\", or \"C\".      \n",
        "\n",
        "Therefore, the regular expression is looking for index values that either start with \"IG\", followed by \"H\", \"K\", or \"L\", and then one of \"V\", \"D\", \"J\", or \"C\".\n",
        "\n",
        "  - `adata.var.at[i, \"highly_variable\"] = False` : If the regular expression matches the current index value (i), it sets the corresponding value of \"highly_variable\" in the adata.var object to False.\n",
        "\n",
        "In summary, this modified code is looping through the index values of the adata.var object and using a regular expression to identify specific patterns in the index values that match either the BCR V/D/J gene pattern. If a match is found, it sets the corresponding \"highly_variable\" value to False. This code could be used to mark certain entries in the adata.var object as not highly variable based on the new regular expression pattern. Just like before, it's important to ensure that you understand the data and the intention behind the code before executing it, as regular expressions can be tricky and their behavior can be sensitive to small changes in the pattern.\n",
        "\n",
        "The purpose of this code seems to be to mark certain entries in the adata.var object as \"not highly_variable\" based on the matching pattern defined in the regular expression."
      ]
    },
    {
      "cell_type": "markdown",
      "metadata": {
        "id": "6iloXesfkR-m"
      },
      "source": [
        "### Now, repeat the code but only do it from the TCR dataset\n",
        "\n",
        "Do you understand what the regex pattern is looking for now?"
      ]
    },
    {
      "cell_type": "code",
      "execution_count": null,
      "metadata": {
        "id": "oPsGbhi_kR-m"
      },
      "outputs": [],
      "source": [
        "for i in adata.var.index:\n",
        "    if re.search(\"^TR[AB][VDJ]\", i):\n",
        "        adata.var.at[i, \"highly_variable\"] = False"
      ]
    },
    {
      "cell_type": "markdown",
      "metadata": {
        "id": "gFTFMj45kR-m"
      },
      "source": [
        "### Now how to use one regex pattern to catch both TCR and BCR?"
      ]
    },
    {
      "cell_type": "code",
      "execution_count": null,
      "metadata": {
        "id": "wfXExXmnkR-n"
      },
      "outputs": [],
      "source": [
        "for i in adata.var.index:\n",
        "    if re.search(\"^TR[AB][VDJ]|^IG[HKL][VDJC]\", i):\n",
        "        adata.var.at[i, \"highly_variable\"] = False"
      ]
    },
    {
      "cell_type": "markdown",
      "metadata": {
        "id": "BfVmdgYBkR-n"
      },
      "source": [
        "Let's re-inspect the highly-variable gene list"
      ]
    },
    {
      "cell_type": "code",
      "execution_count": null,
      "metadata": {
        "id": "aJusgkwKkR-n"
      },
      "outputs": [],
      "source": [
        "hvg = pd.DataFrame(adata.var.highly_variable)\n",
        "hvg_T = hvg.loc[hvg[\"highly_variable\"] == True]\n",
        "hvg_T  # 2285 genes..."
      ]
    },
    {
      "cell_type": "code",
      "execution_count": null,
      "metadata": {
        "id": "DSgM0tYMkR-n"
      },
      "outputs": [],
      "source": [
        "sc.pl.highly_variable_genes(adata)"
      ]
    },
    {
      "cell_type": "markdown",
      "metadata": {
        "id": "dMUZRSFYkR-n"
      },
      "source": [
        "### Explain what adata.raw, adata.layers and adata.X mean; + include examples after 40 using numpy - normal vs log-transformed"
      ]
    },
    {
      "cell_type": "markdown",
      "metadata": {
        "id": "TAXfX5e_kR-n"
      },
      "source": [
        "### What is the difference between adata.raw, adata.X, and adata.raw.X?\n"
      ]
    },
    {
      "cell_type": "markdown",
      "metadata": {
        "id": "QGjvKWBskR-n"
      },
      "source": [
        "`adata.raw` = Setting the `.raw` attribute of the `AnnData` object to the normalized and logarithmized raw gene expression for later use in differential testing and visualizations of gene expression. This simply freezes the state of the AnnData object.\n",
        "\n",
        "The raw attribute is initialized with the current content of an object by setting:"
      ]
    },
    {
      "cell_type": "code",
      "execution_count": null,
      "metadata": {
        "id": "BikkOPTEkR-n"
      },
      "outputs": [],
      "source": [
        "adata.raw = adata"
      ]
    },
    {
      "cell_type": "markdown",
      "metadata": {
        "id": "ypSyLJXOkR-n"
      },
      "source": [
        "You can get back an AnnData of the object in .raw by calling .raw.to_adata()."
      ]
    },
    {
      "cell_type": "code",
      "execution_count": null,
      "metadata": {
        "id": "F3wbWfOnkR-n"
      },
      "outputs": [],
      "source": [
        "test_data = adata.raw.to_adata()\n",
        "test_data"
      ]
    },
    {
      "cell_type": "markdown",
      "metadata": {
        "id": "6SxuGKBikR-o"
      },
      "source": [
        "adata.X represents the data matrix of n_obs × n_var and so is referencing an explicit layer of .X"
      ]
    },
    {
      "cell_type": "markdown",
      "metadata": {
        "id": "tOeveiMGkR-o"
      },
      "source": [
        "But in our case we will need the .raw attribute to run the next line"
      ]
    },
    {
      "cell_type": "markdown",
      "metadata": {
        "id": "Ob6rvq5DkR-o"
      },
      "source": [
        "# 3. Perform Dimensionality Reduction"
      ]
    },
    {
      "cell_type": "markdown",
      "metadata": {
        "id": "Vu0IpuaAkR-o"
      },
      "source": [
        "## 3a. PCA"
      ]
    },
    {
      "cell_type": "code",
      "execution_count": null,
      "metadata": {
        "id": "ujCYgSqikR-o",
        "scrolled": true
      },
      "outputs": [],
      "source": [
        "# Actually do the filtering for PCA\n",
        "adata = adata[\n",
        "    :, adata.var.highly_variable\n",
        "].copy()  # all rows/indexes : columns only selecting for those within high_variable, and then making a copy of itself\n",
        "adata"
      ]
    },
    {
      "cell_type": "markdown",
      "metadata": {
        "id": "SpJWxehWkR-o"
      },
      "source": [
        "#### Regress out effects of \"total_counts\" per cell and percentage of mt genes expressed (\"pct_counts_mt\")."
      ]
    },
    {
      "cell_type": "code",
      "execution_count": null,
      "metadata": {
        "id": "FJnkYcs4kR-p"
      },
      "outputs": [],
      "source": [
        "sc.pp.regress_out(adata, [\"total_counts\", \"pct_counts_mt\"])"
      ]
    },
    {
      "cell_type": "markdown",
      "metadata": {
        "id": "42fj9mNVkR-p"
      },
      "source": [
        "#### Scale each gene to unit variance. Clip values exceeding std of 10."
      ]
    },
    {
      "cell_type": "code",
      "execution_count": null,
      "metadata": {
        "id": "ek0WgP_6kR-p"
      },
      "outputs": [],
      "source": [
        "sc.pp.scale(adata, max_value=10)"
      ]
    },
    {
      "cell_type": "markdown",
      "metadata": {
        "id": "A_-iOqLQkR-p"
      },
      "source": [
        "Why do we need to scale the data?"
      ]
    },
    {
      "cell_type": "code",
      "execution_count": null,
      "metadata": {
        "id": "teCcK9a9kR-p"
      },
      "outputs": [],
      "source": [
        "## get PCA\n",
        "sc.tl.pca(adata, svd_solver=\"arpack\")"
      ]
    },
    {
      "cell_type": "code",
      "execution_count": null,
      "metadata": {
        "id": "mcpaEBtGkR-p"
      },
      "outputs": [],
      "source": [
        "# get elbow plot to see variance contribution by each pc\n",
        "sc.pl.pca_variance_ratio(adata, log=True, n_pcs=50)"
      ]
    },
    {
      "cell_type": "code",
      "execution_count": null,
      "metadata": {
        "id": "hRv3VFrkkR-p"
      },
      "outputs": [],
      "source": [
        "## Computing neighbourhood graph - here UMAP\n",
        "sc.pp.neighbors(adata, n_neighbors=10, n_pcs=40)\n",
        "\n",
        "## n_neighbor: The size of local neighborhood (in terms of number of neighboring data\n",
        "# points) used for manifold approximation. Larger values result in more\n",
        "# global views of the manifold, while smaller values result in more local\n",
        "# data being preserved. In general values should be in the range 2 to 100.\n",
        "# If `knn` is `True`, number of nearest neighbors to be searched. If `knn`\n",
        "# is `False`, a Gaussian kernel width is set to the distance of the\n",
        "# `n_neighbors` neighbor."
      ]
    },
    {
      "cell_type": "markdown",
      "metadata": {
        "id": "FtYnUP9CkR-p"
      },
      "source": [
        "## 3b. UMAP Visualisation"
      ]
    },
    {
      "cell_type": "markdown",
      "metadata": {
        "id": "6E3XVolNkR-p"
      },
      "source": [
        "Embedding the neighbourhood graph using UMAP"
      ]
    },
    {
      "cell_type": "code",
      "execution_count": null,
      "metadata": {
        "id": "0iNxC3D2kR-q"
      },
      "outputs": [],
      "source": [
        "sc.tl.umap(adata, min_dist=0.3)  # 0.3 is personal preference"
      ]
    },
    {
      "cell_type": "markdown",
      "metadata": {
        "id": "AXE8XTElkR-q"
      },
      "source": [
        "#### Visualise UMAP:"
      ]
    },
    {
      "cell_type": "code",
      "execution_count": null,
      "metadata": {
        "id": "wESPRZGBkR-q"
      },
      "outputs": [],
      "source": [
        "sc.pl.umap(\n",
        "    adata,\n",
        "    color=[\n",
        "        \"sample\",\n",
        "        \"sort_type\",\n",
        "        \"donor\",\n",
        "    ],\n",
        "    ncols=1,\n",
        ")"
      ]
    },
    {
      "cell_type": "code",
      "execution_count": null,
      "metadata": {
        "id": "toaOGO_UkR-q"
      },
      "outputs": [],
      "source": [
        "#### plotting multiple small umaps of the same parameter, similar to faceting/split.by\n",
        "\n",
        "\n",
        "## https://github.com/scverse/scanpy/issues/955\n",
        "def cluster_small_multiples(\n",
        "    adata, clust_key, size=30, frameon=False, legend_loc=None, **kwargs\n",
        "):\n",
        "    tmp = adata.copy()\n",
        "\n",
        "    for i, clust in enumerate(adata.obs[clust_key].cat.categories):\n",
        "        tmp.obs[clust] = adata.obs[clust_key].isin([clust]).astype(\"category\")\n",
        "        tmp.uns[clust + \"_colors\"] = [\"#d3d3d3\", adata.uns[clust_key + \"_colors\"][i]]\n",
        "\n",
        "    sc.pl.umap(\n",
        "        tmp,\n",
        "        groups=tmp.obs[clust].cat.categories[1:].values,\n",
        "        color=adata.obs[clust_key].cat.categories.tolist(),\n",
        "        size=size,\n",
        "        frameon=frameon,\n",
        "        legend_loc=legend_loc,\n",
        "        **kwargs\n",
        "    )"
      ]
    },
    {
      "cell_type": "code",
      "execution_count": null,
      "metadata": {
        "id": "ntMI0LDgkR-q"
      },
      "outputs": [],
      "source": [
        "cluster_small_multiples(adata, \"sort_type\")"
      ]
    },
    {
      "cell_type": "code",
      "execution_count": null,
      "metadata": {
        "id": "5k3v3RINkR-q"
      },
      "outputs": [],
      "source": [
        "cluster_small_multiples(adata, \"donor\")\n",
        "# not too much donor biasness.."
      ]
    },
    {
      "cell_type": "markdown",
      "metadata": {
        "id": "gZWTFqDekR-q"
      },
      "source": [
        "Next, I want to visualise key lineage genes on the UMAP that is subset by their sort_type.\n",
        "\n",
        "#### Can I do a quick QC: subset data by sort type, and plot the relevant marker genes on them?\n",
        "\n",
        "We can create an object by sorting for CD4 and then check the table of variables:"
      ]
    },
    {
      "cell_type": "code",
      "execution_count": null,
      "metadata": {
        "id": "t_Eu2vepkR-q"
      },
      "outputs": [],
      "source": [
        "adata.obs.info()\n",
        "adata_CD4 = adata[adata.obs[\"sort_type\"] == \"CD4\"]\n",
        "adata_CD4.obs"
      ]
    },
    {
      "cell_type": "markdown",
      "metadata": {
        "id": "g0LgAIUKkR-q"
      },
      "source": [
        "## What are relevant genes for CD4 and CD8?"
      ]
    },
    {
      "cell_type": "markdown",
      "metadata": {
        "id": "Mtht94W2kR-q"
      },
      "source": [
        "### Plot CD8 on adata_CD4\n",
        "Check what CD8 gene is annotated as...\n",
        "\n",
        "How would you colour the plot by?\n",
        "\n",
        "(Instruction to host: Remove everything after colour =...)"
      ]
    },
    {
      "cell_type": "code",
      "execution_count": null,
      "metadata": {
        "id": "93zj_MjWkR-r",
        "scrolled": true
      },
      "outputs": [],
      "source": [
        "sc.pl.umap(adata_CD4, color=[\"sort_type\", \"CD4\", \"CD8B\"], ncols=3)"
      ]
    },
    {
      "cell_type": "markdown",
      "metadata": {
        "id": "rclqbXENkR-r"
      },
      "source": [
        "### How would you sort for CD8?\n",
        "#### Create an object for CD8 sorted cells and plot it as a UMAP\n"
      ]
    },
    {
      "cell_type": "code",
      "execution_count": null,
      "metadata": {
        "id": "2DGc-Sg7kR-r",
        "scrolled": true
      },
      "outputs": [],
      "source": [
        "adata_CD8 = adata[adata.obs[\"sort_type\"] == \"CD8\"]\n",
        "adata_CD8.obs\n",
        "sc.pl.umap(adata_CD8, color=[\"sort_type\", \"CD4\", \"CD8B\"], ncols=3)"
      ]
    },
    {
      "cell_type": "markdown",
      "metadata": {
        "id": "UVjhvALTkR-r"
      },
      "source": [
        "### Repeat for DP sort.."
      ]
    },
    {
      "cell_type": "code",
      "execution_count": null,
      "metadata": {
        "id": "MRL_ePU4kR-r"
      },
      "outputs": [],
      "source": [
        "adata_DP = adata[adata.obs[\"sort_type\"] == \"DP\"]\n",
        "adata_DP.obs\n",
        "sc.pl.umap(adata_DP, color=[\"sort_type\", \"CD4\", \"CD8B\"], ncols=3)\n",
        "\n",
        "## expression of CD4 in general isn't great... But most of the DP sorted cells seem to sit closer to the middle where CD4-sorted cells are."
      ]
    },
    {
      "cell_type": "markdown",
      "metadata": {
        "id": "E2X-6HSXkR-r"
      },
      "source": [
        "## Another way of plotting..."
      ]
    },
    {
      "cell_type": "markdown",
      "metadata": {
        "id": "bsPBQirakR-r"
      },
      "source": [
        "## How would you visualise different T cell marker genes?\n",
        "\n",
        "Earlier, we saw genes CD4, CD8B. What are other cell surface markers found on T cells?\n",
        "\n",
        "Some hints from https://www.nature.com/articles/s41467-019-12464-3"
      ]
    },
    {
      "cell_type": "code",
      "execution_count": null,
      "metadata": {
        "id": "6oD7dsU4kR-r"
      },
      "outputs": [],
      "source": [
        "sc.pl.umap(\n",
        "    adata,\n",
        "    color=[\n",
        "        \"CD4\",\n",
        "        \"CD8B\",\n",
        "        \"FOXP3\",\n",
        "        \"SELL\",\n",
        "        \"CCR7\",\n",
        "        \"MKI67\",\n",
        "        \"NKG7\",\n",
        "        \"GATA3\",\n",
        "        \"RORC\",\n",
        "        \"CXCR5\",\n",
        "        \"CD69\",\n",
        "        \"GZMK\",\n",
        "    ],\n",
        "    ncols=3,\n",
        "    size=5,\n",
        "    color_map=tools.cmp(),\n",
        ")"
      ]
    },
    {
      "cell_type": "code",
      "execution_count": null,
      "metadata": {
        "id": "pRheEhJYkR-s"
      },
      "outputs": [],
      "source": [
        "adata.uns[\"log1p\"]\n",
        "# {'base': None}"
      ]
    },
    {
      "cell_type": "markdown",
      "metadata": {
        "id": "reeCERKfkR-s"
      },
      "source": [
        "Let's just save this..."
      ]
    },
    {
      "cell_type": "code",
      "execution_count": null,
      "metadata": {
        "id": "Y_B9FBMHkR-s"
      },
      "outputs": [],
      "source": [
        "adata.write_h5ad(\"adata_processed_v2_MS_070823.h5ad\", compression=\"gzip\")"
      ]
    },
    {
      "cell_type": "markdown",
      "metadata": {
        "id": "UANOpkXakR-s"
      },
      "source": [
        "# 4. Batch Correction"
      ]
    },
    {
      "cell_type": "markdown",
      "metadata": {
        "id": "hIHX7ui9kR-s"
      },
      "source": [
        "##### There are a number of methods or algorithms that can combine diverse datasets and remove batch effects. We call that batch correction.\n",
        "\n",
        "##### Batch balanced k nearest neighbour (BBKNN) is a fairly recent algorithm that is \"one to two orders of magnitude faster than existing methods\". More info: https://academic.oup.com/bioinformatics/article/36/3/964/5545955\n",
        "\n",
        "##### BBKNN is batch effect removal tool that can be directly used in the scanpy workflow.\n",
        "##### It serves as an alternative to scanpy.pp.neighbors(), with both functions creating a neighbour graph for subsequent use in clustering, pseudotime and UMAP visualisation"
      ]
    },
    {
      "cell_type": "markdown",
      "metadata": {
        "id": "tK9hyCevkR-s"
      },
      "source": [
        "## Batch correction with BBKNN"
      ]
    },
    {
      "cell_type": "markdown",
      "metadata": {
        "id": "bKKeXBfPkR-s"
      },
      "source": [
        "Running BBKNN\n",
        "https://scanpy-tutorials.readthedocs.io/en/latest/integrating-data-using-ingest.html\n",
        "\n",
        "To run BBKNN, we need to start from pre-harmony object so import the file you have previously saved in:"
      ]
    },
    {
      "cell_type": "code",
      "execution_count": null,
      "metadata": {
        "id": "HMrUAduIkR-s"
      },
      "outputs": [],
      "source": [
        "adata = sc.read_h5ad(\"adata_processed_v2_MS_070823.h5ad\")"
      ]
    },
    {
      "cell_type": "code",
      "execution_count": null,
      "metadata": {
        "id": "1jBVHuIYkR-s",
        "scrolled": true
      },
      "outputs": [],
      "source": [
        "adata.uns[\"log1p\"]"
      ]
    },
    {
      "cell_type": "markdown",
      "metadata": {
        "id": "Gp-REA6LkR-s"
      },
      "source": [
        "Note it is empty now - this happens after the save h5ad step! https://github.com/scverse/scanpy/issues/2239"
      ]
    },
    {
      "cell_type": "markdown",
      "metadata": {
        "id": "esrupPagkR-t"
      },
      "source": [
        "Install `bbknn` if you haven't. Just uncomment the next line and run it."
      ]
    },
    {
      "cell_type": "code",
      "execution_count": null,
      "metadata": {
        "id": "Qth14LgVkR-t",
        "scrolled": true
      },
      "outputs": [],
      "source": [
        "# !pip install bbknn"
      ]
    },
    {
      "cell_type": "markdown",
      "metadata": {
        "id": "8YDMPLQtkR-t"
      },
      "source": [
        "#### Apply bbknn to batch correct by sample"
      ]
    },
    {
      "cell_type": "code",
      "execution_count": null,
      "metadata": {
        "id": "vSa1S1_QkR-t"
      },
      "outputs": [],
      "source": [
        "sc.external.pp.bbknn(adata, batch_key=\"sample\")"
      ]
    },
    {
      "cell_type": "code",
      "execution_count": null,
      "metadata": {
        "id": "dEWeVMuQkR-t"
      },
      "outputs": [],
      "source": [
        "try:\n",
        "    adata.uns.pop(\"log1p\")\n",
        "except:\n",
        "    pass\n",
        "# if you don't use the saved h5ad, but just continues... output: 'base' : None\n",
        "# this code chunk will automatically remove the problematic slot if it's there."
      ]
    },
    {
      "cell_type": "markdown",
      "metadata": {
        "id": "l0GuOX34kR-t"
      },
      "source": [
        "### Plotting the neighbourhood graph using bbknn\n",
        "\n",
        "Note: we skip neighbourhood construction step as bbknn does that already\n",
        "min_dist : float (default: 0.5).\n",
        "\n",
        "The effective minimum distance between embedded points. Smaller values will result in a more clustered/clumped embedding where nearby points on the manifold are drawn closer together, while larger values will result on a more even dispersal of points. The value should be set relative to the spread value, which determines the scale at which embedded points will be spread out.\n",
        "\n",
        "The default in the umap-learn package is 0.1. Try inserting different values to find your personal preference in the next few steps through visualisation."
      ]
    },
    {
      "cell_type": "code",
      "execution_count": null,
      "metadata": {
        "id": "MCrYWuoykR-t"
      },
      "outputs": [],
      "source": [
        "sc.tl.umap(adata, min_dist=0.3)"
      ]
    },
    {
      "cell_type": "markdown",
      "metadata": {
        "id": "ate1Tv4gkR-t"
      },
      "source": [
        "#### How would you visualise this across the three main T cell types? You can do a loop too"
      ]
    },
    {
      "cell_type": "code",
      "execution_count": null,
      "metadata": {
        "id": "kX4naHxAkR-t"
      },
      "outputs": [],
      "source": [
        "for g in [\"CD4\", \"CD8\", \"DP\"]:\n",
        "    sc.pl.umap(\n",
        "        adata,\n",
        "        color=[\"sort_type\"],\n",
        "        groups=g,\n",
        "        na_in_legend=False,\n",
        "    )"
      ]
    },
    {
      "cell_type": "markdown",
      "metadata": {
        "id": "kXmkBkRkkR-u"
      },
      "source": [
        "#### How would you visualise by donor? Create a different loop this time and plot the UMAP:"
      ]
    },
    {
      "cell_type": "code",
      "execution_count": null,
      "metadata": {
        "id": "eqN1MJaHkR-u",
        "scrolled": true
      },
      "outputs": [],
      "source": [
        "adata.obs[\"donor\"]  # L01, P01, V, WY\n",
        "# visualise this..\n",
        "for d in [\"L01\", \"P01\", \"V\", \"WY\"]:\n",
        "    sc.pl.umap(\n",
        "        adata,\n",
        "        color=[\"donor\"],\n",
        "        groups=d,\n",
        "        na_in_legend=False,\n",
        "    )"
      ]
    },
    {
      "cell_type": "markdown",
      "metadata": {
        "id": "9AvNNcuBkR-u"
      },
      "source": [
        "### Inspect the changes post-batch correction.\n",
        "\n",
        "#### Now how do you sort for CD4 T cells? And then display them in UMAPs?"
      ]
    },
    {
      "cell_type": "code",
      "execution_count": null,
      "metadata": {
        "id": "CxGzWxAskR-u",
        "scrolled": true
      },
      "outputs": [],
      "source": [
        "adata_CD4 = adata[adata.obs[\"sort_type\"] == \"CD4\"]\n",
        "adata_CD4.obs\n",
        "sc.pl.umap(adata_CD4, color=[\"sort_type\", \"donor\", \"CD4\", \"CD8B\"], ncols=4, size=20)"
      ]
    },
    {
      "cell_type": "markdown",
      "metadata": {
        "id": "fzZYD19VkR-u"
      },
      "source": [
        "### Inspect changes post-batch correction\n",
        "\n",
        "#### Now how do you sort for CD8 T cells? And then display them in UMAPs?"
      ]
    },
    {
      "cell_type": "code",
      "execution_count": null,
      "metadata": {
        "id": "Ht-Bh5fRkR-u",
        "scrolled": true
      },
      "outputs": [],
      "source": [
        "adata_CD8 = adata[adata.obs[\"sort_type\"] == \"CD8\"]\n",
        "adata_CD8.obs\n",
        "sc.pl.umap(adata_CD8, color=[\"sort_type\", \"donor\", \"CD4\", \"CD8B\"], ncols=4, size=20)"
      ]
    },
    {
      "cell_type": "markdown",
      "metadata": {
        "id": "hI7EGixikR-u"
      },
      "source": [
        "#### Now how do you sort for DP T cells? And then display them in UMAPs?"
      ]
    },
    {
      "cell_type": "code",
      "execution_count": null,
      "metadata": {
        "id": "UzuO15GwkR-u"
      },
      "outputs": [],
      "source": [
        "adata_DP = adata[adata.obs[\"sort_type\"] == \"DP\"]\n",
        "adata_DP.obs\n",
        "sc.pl.umap(adata_DP, color=[\"sort_type\", \"donor\", \"CD4\", \"CD8B\"], ncols=4, size=20)"
      ]
    },
    {
      "cell_type": "markdown",
      "metadata": {
        "id": "Zk7PHYPVkR-u"
      },
      "source": [
        "Why is there are there CD4-sorted T cells also found in the CD8 cluster, but with low expression of CD4??\n",
        "\n",
        "Let's visualise some QC metrics..   Nothing seem too out of the blue.\n",
        "Maybe downstream, if needed can just recluster and compare. The tail bit of umap seems to be a bit higher in mito content.\n"
      ]
    },
    {
      "cell_type": "code",
      "execution_count": null,
      "metadata": {
        "id": "wj7FnJ5_kR-u",
        "scrolled": true
      },
      "outputs": [],
      "source": [
        "adata.obs\n",
        "# n_genes_by_counts, total_cpunts, pct_count_mt, filter_rna\n",
        "\n",
        "sc.pl.umap(\n",
        "    adata,\n",
        "    color=[\"n_genes_by_counts\", \"total_counts\", \"pct_counts_mt\"],\n",
        "    ncols=3,\n",
        "    size=20,\n",
        "    color_map=tools.cmp(),\n",
        ")"
      ]
    },
    {
      "cell_type": "markdown",
      "metadata": {
        "id": "XwBlWOOwkR-v"
      },
      "source": [
        "### How do you visualize the expression of common T cell markers across the entire data set in three columns?\n",
        "\n",
        "Hint: Using the same markers as we did earlier?"
      ]
    },
    {
      "cell_type": "code",
      "execution_count": null,
      "metadata": {
        "id": "2LdqMLbvkR-v"
      },
      "outputs": [],
      "source": [
        "sc.pl.umap(\n",
        "    adata,\n",
        "    color=[\n",
        "        \"CD4\",\n",
        "        \"CD8B\",\n",
        "        \"FOXP3\",\n",
        "        \"SELL\",\n",
        "        \"CCR7\",\n",
        "        \"MKI67\",\n",
        "        \"NKG7\",\n",
        "        \"GATA3\",\n",
        "        \"RORC\",\n",
        "        \"CXCR5\",\n",
        "        \"CD69\",\n",
        "        \"GZMK\",\n",
        "    ],\n",
        "    ncols=3,\n",
        "    size=5,\n",
        "    color_map=tools.cmp(),\n",
        ")"
      ]
    },
    {
      "cell_type": "markdown",
      "metadata": {
        "id": "C_YgsI8skR-v"
      },
      "source": [
        "### Comments:\n",
        "These cells are not too different transcriptionally - because they are simply T cells?\n",
        "Also, umap seems to cluster more based on \"activation status\" and then \"cell lineage\"\n",
        "But we can see that most of the DP cells are located within the middle where the bulk of CD4 cells are."
      ]
    },
    {
      "cell_type": "markdown",
      "metadata": {
        "id": "mzHz4EgTkR-v"
      },
      "source": [
        "## Save post-BBKNN"
      ]
    },
    {
      "cell_type": "code",
      "execution_count": null,
      "metadata": {
        "id": "6StZn0pukR-v"
      },
      "outputs": [],
      "source": [
        "adata.write_h5ad(\"adata_processed_v2_BBKNN_MS_100823.h5ad\", compression=\"gzip\")"
      ]
    },
    {
      "cell_type": "code",
      "execution_count": null,
      "metadata": {
        "id": "BY2mTxubkR-v"
      },
      "outputs": [],
      "source": [
        "sc.external.pp.bbknn(adata, batch_key=\"donor\")"
      ]
    },
    {
      "cell_type": "code",
      "execution_count": null,
      "metadata": {
        "id": "5-ZDdezRkR-v"
      },
      "outputs": [],
      "source": [
        "sc.tl.umap(adata, min_dist=0.3)"
      ]
    },
    {
      "cell_type": "markdown",
      "metadata": {
        "id": "sihozZZskR-v"
      },
      "source": [
        "### How do you visualise CD4, CD8 and DP T cells by donor post-BBKNN batch correction?"
      ]
    },
    {
      "cell_type": "code",
      "execution_count": null,
      "metadata": {
        "id": "JVXRAJ-CkR-v"
      },
      "outputs": [],
      "source": [
        "for g in [\"CD4\", \"CD8\", \"DP\"]:\n",
        "    sc.pl.umap(\n",
        "        adata,\n",
        "        color=[\"sort_type\"],\n",
        "        groups=g,\n",
        "        na_in_legend=False,\n",
        "    )"
      ]
    },
    {
      "cell_type": "markdown",
      "metadata": {
        "id": "IQGi1nQ0E6mL"
      },
      "source": [
        "### How to visualise individual UMAPS based of each donor type?"
      ]
    },
    {
      "cell_type": "code",
      "execution_count": null,
      "metadata": {
        "id": "lvOm5SHQkR-w"
      },
      "outputs": [],
      "source": [
        "adata.obs[\"donor\"]  # L01, P01, V, WY\n",
        "\n",
        "for d in [\"L01\", \"P01\", \"V\", \"WY\"]:\n",
        "    sc.pl.umap(\n",
        "        adata,\n",
        "        color=[\"donor\"],\n",
        "        groups=d,\n",
        "        na_in_legend=False,\n",
        "    )"
      ]
    },
    {
      "cell_type": "markdown",
      "metadata": {
        "id": "4Kg_FWXMkR-w"
      },
      "source": [
        "Not much difference... So just go back to previous"
      ]
    },
    {
      "cell_type": "markdown",
      "metadata": {
        "id": "vy8a8XeukR-w"
      },
      "source": [
        "# Read in Data post-BBKNN"
      ]
    },
    {
      "cell_type": "code",
      "execution_count": null,
      "metadata": {
        "id": "vvYvrRnAkR-w"
      },
      "outputs": [],
      "source": [
        "adata = sc.read_h5ad(\"adata_processed_v2_BBKNN_MS_100823.h5ad\")\n",
        "try:\n",
        "    adata.uns.pop(\"log1p\")\n",
        "except:\n",
        "    pass"
      ]
    },
    {
      "cell_type": "code",
      "execution_count": null,
      "metadata": {
        "id": "4QhCzf2EkR-w"
      },
      "outputs": [],
      "source": [
        "sc.tl.umap(adata, min_dist=0.3)"
      ]
    },
    {
      "cell_type": "markdown",
      "metadata": {
        "id": "zt5azf7CkR-w"
      },
      "source": [
        "#### Visualise this, you can do it with a loop too:"
      ]
    },
    {
      "cell_type": "code",
      "execution_count": null,
      "metadata": {
        "id": "NPu08cjnkR-w"
      },
      "outputs": [],
      "source": [
        "for g in [\"CD4\", \"CD8\", \"DP\"]:\n",
        "    sc.pl.umap(adata, color=[\"sort_type\"], groups=g, size=20)"
      ]
    },
    {
      "cell_type": "markdown",
      "metadata": {
        "id": "rZmafZwBkR-w"
      },
      "source": [
        "### How do I view proportion of CD4 expression in CD8+ cells?\n",
        "\n",
        "Hint: you can use a method of score_genes under scanpy. Then visualise the score by plotting the umap."
      ]
    },
    {
      "cell_type": "code",
      "execution_count": null,
      "metadata": {
        "id": "rdn60t1bkR-w"
      },
      "outputs": [],
      "source": [
        "sc.tl.score_genes(adata, gene_list=[\"CD4\", \"CD8B\", \"CD8A\"], score_name=\"CD4.CD8.score\")"
      ]
    },
    {
      "cell_type": "code",
      "execution_count": null,
      "metadata": {
        "id": "dCZhJ8b0kR-w"
      },
      "outputs": [],
      "source": [
        "sc.pl.umap(adata, color=\"CD4.CD8.score\", size=10)"
      ]
    },
    {
      "cell_type": "markdown",
      "metadata": {
        "id": "xLBi-tMnkR-x"
      },
      "source": [
        "### Now that we've seen what a batch corrected data is visualised on a UMAP, let's compare it with the UMAP of our adata:\n",
        "We'll name the previous non-batch corrected data as \"preadata\""
      ]
    },
    {
      "cell_type": "code",
      "execution_count": null,
      "metadata": {
        "id": "jQRgBv6vkR-x"
      },
      "outputs": [],
      "source": [
        "preadata = sc.read_h5ad(\"adata_processed_v2_MS_070823.h5ad\")\n",
        "try:\n",
        "    preadata.uns.pop(\"log1p\")\n",
        "except:\n",
        "    pass"
      ]
    },
    {
      "cell_type": "code",
      "execution_count": null,
      "metadata": {
        "id": "UbVN8V0-kR-x"
      },
      "outputs": [],
      "source": [
        "sc.tl.umap(preadata, min_dist=0.3)"
      ]
    },
    {
      "cell_type": "code",
      "execution_count": null,
      "metadata": {
        "id": "-QIbflU4kR-x"
      },
      "outputs": [],
      "source": [
        "sc.tl.score_genes(\n",
        "    preadata, gene_list=[\"CD4\", \"CD8B\", \"CD8A\"], score_name=\"CD4.CD8.score\"\n",
        ")"
      ]
    },
    {
      "cell_type": "code",
      "execution_count": null,
      "metadata": {
        "id": "8h5WFYK_kR-x"
      },
      "outputs": [],
      "source": [
        "sc.pl.umap(preadata, color=\"CD4.CD8.score\", size=10)"
      ]
    },
    {
      "cell_type": "markdown",
      "metadata": {
        "id": "fBgaUUnukR-x"
      },
      "source": [
        " - So can you see the difference in the UMAPs pre- and post-batch correction?\n",
        "\n",
        "Now, moving back to our batch corrected adata object, let's check the annotations of variables:"
      ]
    },
    {
      "cell_type": "code",
      "execution_count": null,
      "metadata": {
        "id": "iceXkDT7kR-y"
      },
      "outputs": [],
      "source": [
        "adata.var"
      ]
    },
    {
      "cell_type": "markdown",
      "metadata": {
        "id": "0vepDG3nkR-y"
      },
      "source": [
        "Next, let's use an existing CD4/CD8 gene set from Szabo et al. to score the expression of various CD4/CD8 markers on our dataset.\n",
        "\n",
        "Read in the csv file and label it \"szabo\""
      ]
    },
    {
      "cell_type": "code",
      "execution_count": null,
      "metadata": {
        "id": "1GxTibyukR-y"
      },
      "outputs": [],
      "source": [
        "szabo = pd.read_csv(\"geneset/Szabo_T_cell_gene_modules.txt\", sep=\"\\t\")\n",
        "szabo"
      ]
    },
    {
      "cell_type": "markdown",
      "metadata": {
        "id": "9zJ5ZYY5kR-y"
      },
      "source": [
        "Embed a score to the Szabo's \"CD4/CD8\" gene list and name the score as \"CD4/CD8_geneset\""
      ]
    },
    {
      "cell_type": "code",
      "execution_count": null,
      "metadata": {
        "id": "jRjsro43kR-y",
        "scrolled": true
      },
      "outputs": [],
      "source": [
        "sc.tl.score_genes(adata, gene_list=szabo[\"CD4/CD8\"], score_name=\"CD4/CD8_geneset\")\n",
        "\n",
        "# So if it scores higher = it is more CD4-like..."
      ]
    },
    {
      "cell_type": "markdown",
      "metadata": {
        "id": "k28T7HufDlLH"
      },
      "source": [
        "Plot the usual CD4, CD8 genes together with two other T cell markers: CD44 and CD27 which are involved in acquiring activation, whereas CD27 is high on naive cells and lost upon activation."
      ]
    },
    {
      "cell_type": "code",
      "execution_count": null,
      "metadata": {
        "id": "_NxyJy_mkR-y"
      },
      "outputs": [],
      "source": [
        "sc.pl.umap(\n",
        "    adata,\n",
        "    color=[\"CD4/CD8_geneset\", \"sort_type\", \"CD4\", \"CD8B\", \"CD27\", \"CD44\"],\n",
        "    ncols=3,\n",
        "    size=5,\n",
        ")"
      ]
    },
    {
      "cell_type": "markdown",
      "metadata": {
        "id": "2g6W9aBrkR-y"
      },
      "source": [
        "It's a bit weird but the CD/CD8 marker expression doesn't fully coincide with the CD4/CD8 lineage of sorted identities.\n",
        "\n",
        "Let's do unsupervised clustering and see if there is any way we can understand CD4 vs CD8 on clusters."
      ]
    },
    {
      "cell_type": "markdown",
      "metadata": {
        "id": "jXUBjZwDkR-z"
      },
      "source": [
        "# 5. Redo UMAP\n",
        "\n",
        "# Try running Leiden unsupervised clustering:"
      ]
    },
    {
      "cell_type": "markdown",
      "metadata": {
        "id": "3GfugU5LkR-z"
      },
      "source": [
        "Run leiden clustering with scanpy (BBKNN already has a neighbourhood construction step so can skip this)"
      ]
    },
    {
      "cell_type": "code",
      "execution_count": null,
      "metadata": {
        "id": "hC0yD9h8kR-z"
      },
      "outputs": [],
      "source": [
        "sc.tl.leiden(adata, resolution=2.0)"
      ]
    },
    {
      "cell_type": "markdown",
      "metadata": {
        "id": "B7w-GrwikR-z"
      },
      "source": [
        "#### Plot a UMAP and choose a resolution (\"size\") of 20 clusters:\n",
        "\n",
        "Reference for what other types of resolution mean:\n",
        "\n",
        "resolution 1.0 (10 clusters), resolution 1.5 (12 clusters), resolution 1.8 (15 clusters), resolution 2.0 (16 clusters) - but looks heaps better!\n"
      ]
    },
    {
      "cell_type": "code",
      "execution_count": null,
      "metadata": {
        "id": "MZ0UGxiMkR-z"
      },
      "outputs": [],
      "source": [
        "sc.pl.umap(adata, color=\"leiden\", size=20)"
      ]
    },
    {
      "cell_type": "code",
      "execution_count": null,
      "metadata": {
        "id": "XgZglIJlkR-z",
        "scrolled": true
      },
      "outputs": [],
      "source": [
        "# putting legend on top\n",
        "sc.pl.umap(adata, color=\"leiden\", legend_loc=\"on data\", legend_fontoutline=2, size=10)"
      ]
    },
    {
      "cell_type": "code",
      "execution_count": null,
      "metadata": {
        "id": "sdCIyTdZkR-z"
      },
      "outputs": [],
      "source": [
        "### just getting how many cells are there per cluster\n",
        "adata.obs.groupby([\"leiden\"]).apply(len)"
      ]
    },
    {
      "cell_type": "markdown",
      "metadata": {
        "id": "JirPLK9SkR-z"
      },
      "source": [
        "Creating bar plot distribution per cluster"
      ]
    },
    {
      "cell_type": "code",
      "execution_count": null,
      "metadata": {
        "id": "67TXxg9XkR-z"
      },
      "outputs": [],
      "source": [
        "import matplotlib.pyplot as plt\n",
        "\n",
        "#  https://pbpython.com/pandas-crosstab.html\n",
        "# basically, cross-tabbing relates to two columns/ series together...\n",
        "\n",
        "pd.crosstab(adata.obs[\"donor\"], adata.obs[\"leiden\"])"
      ]
    },
    {
      "cell_type": "code",
      "execution_count": null,
      "metadata": {
        "id": "MRSTNOiakR-z"
      },
      "outputs": [],
      "source": [
        "########   generating it as frequency...\n",
        "# axis : t specifies the axis along which the means are computed\n",
        "# https://stackoverflow.com/questions/22149584/what-does-axis-in-pandas-mean\n",
        "#   Usually axis=0 is said to be \"column-wise\" (and axis=1 \"row-wise\")\n",
        "\n",
        "pd.crosstab(adata.obs[\"donor\"], adata.obs[\"leiden\"]).apply(\n",
        "    lambda r: r / r.sum() * 100, axis=1\n",
        ")"
      ]
    },
    {
      "cell_type": "markdown",
      "metadata": {
        "id": "FXL1UvefkR-z"
      },
      "source": [
        "##### Quick jump to see what axis = 0 or 1 works...\n",
        "\n",
        "```python\n",
        "data = {\"A\": [1, 2, 3], \"B\": [4, 5, 6], \"C\": [7, 8, 9]}\n",
        "\n",
        "df = pd.DataFrame(data)\n",
        "\n",
        "print(df)\n",
        "\n",
        "column_sums = df.sum(axis=0)\n",
        "print(column_sums)\n",
        "\n",
        "row_sums = df.sum(axis=1)\n",
        "print(row_sums)\n",
        "```"
      ]
    },
    {
      "cell_type": "code",
      "execution_count": null,
      "metadata": {
        "id": "kyipEQJdkR-0"
      },
      "outputs": [],
      "source": [
        "#### Creating a stacked bar\n",
        "pd.crosstab(adata.obs[\"sort_type\"], adata.obs[\"leiden\"]).apply(\n",
        "    lambda r: r / r.sum() * 100, axis=1\n",
        ").plot.bar(stacked=True)\n",
        "plt.legend(bbox_to_anchor=(1, 0.5), loc=\"center left\", frameon=False)"
      ]
    },
    {
      "cell_type": "markdown",
      "metadata": {
        "id": "2vx1SZEbLKyH"
      },
      "source": [
        " - `bbox_to_anchor=(1, 0.5)`: This parameter specifies the position of the legend in relation to the axes. In this case, (1, 0.5) means the legend will be placed at the right side of the plot, and vertically centered (at 50% height of the plot).\n",
        " - `loc='center left'`: This parameter determines where the legend should be anchored within the bounding box specified by bbox_to_anchor. In this case, the legend will be positioned along the center-left edge of the bounding box.\n",
        " - `frameon=False`: This parameter specifies whether to draw a frame around the legend. By setting it to False, you're indicating that the legend should not have a visible frame."
      ]
    },
    {
      "cell_type": "code",
      "execution_count": null,
      "metadata": {
        "id": "G_tJT2E8kR-0"
      },
      "outputs": [],
      "source": [
        "### Quickly plot Violin plots for QC...\n",
        "sc.pl.violin(\n",
        "    adata,\n",
        "    [\"total_counts\", \"n_genes_by_counts\", \"pct_counts_mt\"],\n",
        "    size=0.1,\n",
        "    groupby=\"leiden\",\n",
        "    multi_panel=True,\n",
        "    rotation=90,\n",
        ")\n",
        "\n",
        "# cluster 12 - a lot of mito genes, cluster 15 is basically non-existent!"
      ]
    },
    {
      "cell_type": "code",
      "execution_count": null,
      "metadata": {
        "id": "J0368RI8kR-0"
      },
      "outputs": [],
      "source": [
        "## check CD4/CD8 score over cluster.. - higher score = more CD4.. - cluster 2,3,4, 6,7,8, 11,13,14\n",
        "sc.pl.matrixplot(adata, \"CD4/CD8_geneset\", groupby=\"leiden\")"
      ]
    },
    {
      "cell_type": "markdown",
      "metadata": {
        "id": "5ftdEGktkR-0"
      },
      "source": [
        "This is in line with UMAP structure governed mainly by activation etc... Whereas lineage of CD4/CD8 of sorted identities are not distinct in the UMAP. CD4-like cells tend to sit on the upper half!"
      ]
    },
    {
      "cell_type": "code",
      "execution_count": null,
      "metadata": {
        "id": "qeWEHsdakR-0",
        "scrolled": true
      },
      "outputs": [],
      "source": [
        "sc.pl.violin(\n",
        "    adata,\n",
        "    [\"CD4\", \"CD8A\", \"CD8B\"],\n",
        "    size=0.1,\n",
        "    groupby=\"leiden\",\n",
        "    multi_panel=True,\n",
        "    rotation=90,\n",
        ")"
      ]
    },
    {
      "cell_type": "markdown",
      "metadata": {
        "id": "aEseggWhkR-0"
      },
      "source": [
        "# 6. Refining clusters based on marker gene expression\n",
        "# (Manual way #1)"
      ]
    },
    {
      "cell_type": "markdown",
      "metadata": {
        "id": "qrO4QLO8kR-0"
      },
      "source": [
        "Using the Leiden clusters, rank the highly expressed genes for each cluster using a dot plot.\n",
        "Try adding a new key to refine the number of clusters. Label it as \"leiden_A\""
      ]
    },
    {
      "cell_type": "code",
      "execution_count": null,
      "metadata": {
        "id": "22vOr7oxkR-0",
        "scrolled": true
      },
      "outputs": [],
      "source": [
        "sc.tl.leiden(adata, key_added=\"leiden_A\")\n",
        "sc.pl.umap(\n",
        "    adata, color=[\"leiden\", \"leiden_A\"], legend_fontoutline=2, legend_loc=\"on data\"\n",
        ")"
      ]
    },
    {
      "cell_type": "code",
      "execution_count": null,
      "metadata": {
        "id": "xb8YHbRukR-0"
      },
      "outputs": [],
      "source": [
        "sc.tl.rank_genes_groups(adata, groupby=\"leiden_A\", method=\"wilcoxon\")"
      ]
    },
    {
      "cell_type": "code",
      "execution_count": null,
      "metadata": {
        "id": "NyS3EaB7kR-0"
      },
      "outputs": [],
      "source": [
        "sc.pl.rank_genes_groups_dotplot(\n",
        "    adata, n_genes=5, min_logfoldchange=0.5, standard_scale=\"var\", color_map=\"viridis\"\n",
        ")"
      ]
    },
    {
      "cell_type": "markdown",
      "metadata": {
        "id": "NoKgd0O7kR-1"
      },
      "source": [
        "Now label each cluster with an annotation based on the most highly expressed genes while genes that are housekeeping or non-specific can be assigned to \"Ambiguous\" if they are not genes of interest.\n",
        "Also consider the fraction of cells and their mean gene expression in tandem"
      ]
    },
    {
      "cell_type": "markdown",
      "metadata": {
        "id": "8xXjjbfBkR-1"
      },
      "source": [
        "You can also look at the genes in a tabular format for easier viewing. Still, use it in tandem with the dotplot above."
      ]
    },
    {
      "cell_type": "code",
      "execution_count": null,
      "metadata": {
        "id": "mF3RG025kR-1",
        "scrolled": true
      },
      "outputs": [],
      "source": [
        "pd.DataFrame(adata.uns[\"rank_genes_groups\"][\"names\"]).head(10)"
      ]
    },
    {
      "cell_type": "markdown",
      "metadata": {
        "id": "3IYSDJLukR-1"
      },
      "source": [
        "#### Now name the clusters based on the listed genes together with references to literature.\n",
        "\n",
        "Notice that most of the clusters have lots of non-specific annd/or housekeeping genes that makes it hard to name the clusters.\n",
        "\n",
        "So you can also just manually inspect and plot a few genes using a cell marker dictionary that we will then used to label the above clusters.\n",
        "\n",
        "**I am leaving the next few lines of code partlially blank so that you can decide what kind genes to plot and how to annotate your celltypes. If you just run as it, you will encounter errors.**"
      ]
    },
    {
      "cell_type": "code",
      "execution_count": null,
      "metadata": {
        "id": "8hQqq_xYkR-1"
      },
      "outputs": [],
      "source": [
        "cellmarker_dict = {\n",
        "    \"T cell\": [\"CD3D\", \"TRAC\"],\n",
        "    \"NK\": [\"NCAM1\", \"NCR1\"],\n",
        "    \"CD4 vs CD8\": [\"CD4\", \"CD8B\"],\n",
        "    \"Memory\": [\"SELL\", \"CCR7\", \"CD44\"],\n",
        "    \"Th1\": [],\n",
        "    \"Cytokines\": [],\n",
        "    \"Chemokines\": [],\n",
        "    \"Exhausted\": [],\n",
        "    \"Other\": [],\n",
        "}"
      ]
    },
    {
      "cell_type": "code",
      "execution_count": null,
      "metadata": {
        "id": "sYeqWqN7kR-2"
      },
      "outputs": [],
      "source": [
        "sc.pl.dotplot(\n",
        "    adata, cellmarker_dict, groupby=\"leiden_A\", standard_scale=\"var\", color_map=\"Blues\"\n",
        ")"
      ]
    },
    {
      "cell_type": "markdown",
      "metadata": {
        "id": "h3Xn0b15M0U6"
      },
      "source": [
        "### To map the identified clusters to a cell type annotation label"
      ]
    },
    {
      "cell_type": "code",
      "execution_count": null,
      "metadata": {
        "id": "avfTKXo9kR-2"
      },
      "outputs": [],
      "source": [
        "celltypesannot = {\n",
        "    \"0\": \"\",\n",
        "    \"1\": \"\",\n",
        "    \"2\": \"\",\n",
        "    \"3\": \"\",\n",
        "    \"4\": \"\",\n",
        "    \"5\": \"\",\n",
        "    \"6\": \"\",\n",
        "    \"7\": \"\",\n",
        "    \"8\": \"\",\n",
        "    \"9\": \"\",\n",
        "}\n",
        "# add a new '.obs'column called 'cell type' by mapping clusters to annotation using pandas 'map'function\n",
        "adata.obs[\"cell type\"] = adata.obs[\"leiden_A\"].map(celltypesannot).astype(\"category\")"
      ]
    },
    {
      "cell_type": "code",
      "execution_count": null,
      "metadata": {
        "id": "ZlImUtkgkR-5"
      },
      "outputs": [],
      "source": [
        "sc.pl.umap(\n",
        "    adata,\n",
        "    color=\"cell type\",\n",
        "    legend_loc=\"on data\",\n",
        "    frameon=False,\n",
        "    legend_fontsize=7,\n",
        "    legend_fontoutline=2,\n",
        ")"
      ]
    },
    {
      "cell_type": "code",
      "execution_count": null,
      "metadata": {
        "id": "5wJWPE8qkR-5"
      },
      "outputs": [],
      "source": [
        "adata2 = adata[\n",
        "    adata.obs[\"cell type\"].isin(\n",
        "        [\n",
        "            \"\",\n",
        "            \"\",\n",
        "            \"\",\n",
        "        ]\n",
        "    )\n",
        "].copy()\n",
        "sc.pl.umap(adata2, color=\"cell type\")"
      ]
    },
    {
      "cell_type": "code",
      "execution_count": null,
      "metadata": {
        "id": "x_YGbcCYkR-5"
      },
      "outputs": [],
      "source": [
        "adata2.write(\"celltypes_annot_01.h5ad\")"
      ]
    },
    {
      "cell_type": "code",
      "execution_count": null,
      "metadata": {
        "id": "S5bwB4ZykR-5"
      },
      "outputs": [],
      "source": [
        "adata2 = sc.read_h5ad(\"celltypes_annot_01.h5ad\")  # run this if reimporting\n",
        "adata2"
      ]
    },
    {
      "cell_type": "markdown",
      "metadata": {
        "id": "B19_YxcCkR-6"
      },
      "source": [
        "So the above steps would be how you run a manual annotation and you can refine the clusters further using your newly labeled object \"adata2\""
      ]
    },
    {
      "cell_type": "markdown",
      "metadata": {
        "id": "oBy2TqiMkR-6"
      },
      "source": [
        "# 7. Other ways of refining cluster annotations:"
      ]
    },
    {
      "cell_type": "markdown",
      "metadata": {
        "id": "KwrAw8ZakR-6"
      },
      "source": [
        "## Alternative method of cluster annotations: Automated Celltypist annotation"
      ]
    },
    {
      "cell_type": "markdown",
      "metadata": {
        "id": "7zSYvNhEkR-6"
      },
      "source": [
        "### First, write out the raw data for input for celltypist"
      ]
    },
    {
      "cell_type": "code",
      "execution_count": null,
      "metadata": {
        "id": "i6_prrt7kR-6"
      },
      "outputs": [],
      "source": [
        "adata.raw.to_adata().write_h5ad(\n",
        "    \"adata_processed_v2_BBKNN_MS_raw-for_celltypist_300823.h5ad\", compression=\"gzip\"\n",
        ")\n",
        "\n",
        "#### Quick note... Kelvin also did a comparison on the pre-batch-correction data, but since we are happy with batch correction.. just continue on."
      ]
    },
    {
      "cell_type": "markdown",
      "metadata": {
        "id": "f9xrOmMskR-6"
      },
      "source": [
        "### Make a directory for the output after running celltypist on our data"
      ]
    },
    {
      "cell_type": "code",
      "execution_count": null,
      "metadata": {
        "id": "_q9VQs88kR-6"
      },
      "outputs": [],
      "source": [
        "!mkdir celltypist_bbknn"
      ]
    },
    {
      "cell_type": "markdown",
      "metadata": {
        "id": "TiknLv6VkR-7"
      },
      "source": [
        "#### Run celltypist on our processed-BBKNN-batch corrected data and allow it to predict labels on each single cell with all the specifications needed.\n",
        "\n",
        "#### The labels will be given a variable name of \"majority_voting\""
      ]
    },
    {
      "cell_type": "code",
      "execution_count": null,
      "metadata": {
        "id": "G2-sq_19kR-7",
        "scrolled": true
      },
      "outputs": [],
      "source": [
        "!celltypist --indata adata_processed_v2_BBKNN_MS_raw-for_celltypist_300823.h5ad --model Immune_All_Low.pkl --outdir celltypist_bbknn --majority-voting"
      ]
    },
    {
      "cell_type": "markdown",
      "metadata": {
        "id": "75pXC60BkR-7"
      },
      "source": [
        "#### Import and label the object for predicted_labels.csv as \"celltypistdf1\" and set an index_col=0.\n",
        "\n",
        "index_col: This is to allow you to set which columns to be used as the index of the dataframe. The default value is None, and pandas will add a new column start from 0 to specify the index column. It can be set as a column name or column index, which will be used as the index column.\n",
        "\n",
        "#### Then run the new object\n",
        "\n",
        "majority_voting: predicted labels after majority voting in local subclusters"
      ]
    },
    {
      "cell_type": "code",
      "execution_count": null,
      "metadata": {
        "id": "51k1VytakR-7"
      },
      "outputs": [],
      "source": [
        "celltypistdf1 = pd.read_csv(\"celltypist_bbknn/predicted_labels.csv\", index_col=0)\n",
        "celltypistdf1"
      ]
    },
    {
      "cell_type": "markdown",
      "metadata": {
        "id": "w-h1EqRTkR-7"
      },
      "source": [
        "#### Check the columns of adata:"
      ]
    },
    {
      "cell_type": "code",
      "execution_count": null,
      "metadata": {
        "id": "zeHodwzmkR-7"
      },
      "outputs": [],
      "source": [
        "adata.obs"
      ]
    },
    {
      "cell_type": "markdown",
      "metadata": {
        "id": "nmP06wn_kR-7"
      },
      "source": [
        "#### Include the majority_voting data from celltypistdf1 in the adata - Label it as \"celltypist_majority_voting\""
      ]
    },
    {
      "cell_type": "code",
      "execution_count": null,
      "metadata": {
        "id": "XUvbACgokR-7"
      },
      "outputs": [],
      "source": [
        "adata.obs[\"celltypist_majority_voting\"] = pd.Series(celltypistdf1[\"majority_voting\"])\n",
        "adata.obs.info()"
      ]
    },
    {
      "cell_type": "markdown",
      "metadata": {
        "id": "gtf0uzBSkR-7"
      },
      "source": [
        "#### Check the columns that you've added the new column in correctly:"
      ]
    },
    {
      "cell_type": "code",
      "execution_count": null,
      "metadata": {
        "id": "vyNDV_eQkR-7"
      },
      "outputs": [],
      "source": [
        "adata.obs"
      ]
    },
    {
      "cell_type": "markdown",
      "metadata": {
        "id": "bOPECKwkkR-7"
      },
      "source": [
        "#### Data can also be imported this way without \"pd.Series\" at the start - not sure what difference is!:\n",
        "\n",
        "adata.obs[\"celltypist_majority_voting\"] = celltypistdf1[\"majority_voting\"]"
      ]
    },
    {
      "cell_type": "markdown",
      "metadata": {
        "id": "f1SL00YukR-8"
      },
      "source": [
        "#### Visualise the data via umap\n",
        "\n",
        "##### Hint: color it by your new celltypist labels"
      ]
    },
    {
      "cell_type": "code",
      "execution_count": null,
      "metadata": {
        "id": "D_v6QdiYkR-8",
        "scrolled": true
      },
      "outputs": [],
      "source": [
        "sc.pl.umap(adata, color=[\"celltypist_majority_voting\"], size=20)"
      ]
    },
    {
      "cell_type": "markdown",
      "metadata": {
        "id": "IWsab63TkR-8"
      },
      "source": [
        "### Plot distribution by sorting by cell type"
      ]
    },
    {
      "cell_type": "code",
      "execution_count": null,
      "metadata": {
        "id": "iLYc5e28kR-8",
        "scrolled": true
      },
      "outputs": [],
      "source": [
        "pd.crosstab(adata.obs[\"sort_type\"], adata.obs[\"celltypist_majority_voting\"]).apply(\n",
        "    lambda r: r / r.sum() * 100, axis=1\n",
        ").plot.bar(stacked=True)\n",
        "plt.legend(bbox_to_anchor=(1, 0.5), loc=\"center left\", frameon=False)"
      ]
    },
    {
      "cell_type": "markdown",
      "metadata": {
        "id": "qAStiscYkR-8"
      },
      "source": [
        "### Plot a crosstab chart by sorting into CD4, CD8 and DP using the package matplotlib.pyplot:"
      ]
    },
    {
      "cell_type": "code",
      "execution_count": null,
      "metadata": {
        "id": "PmXUxXeckR-8"
      },
      "outputs": [],
      "source": [
        "import matplotlib.pyplot as plt\n",
        "\n",
        "pd.crosstab(\n",
        "    adata.obs[\"celltypist_majority_voting\"],\n",
        "    adata.obs[\"sort_type\"],\n",
        ").apply(\n",
        "    lambda r: r / r.sum() * 100, axis=1\n",
        ").plot.bar(stacked=True)\n",
        "plt.legend(bbox_to_anchor=(1, 0.5), loc=\"center left\", frameon=False)"
      ]
    },
    {
      "cell_type": "markdown",
      "metadata": {
        "id": "ayvHDgRqkR-8"
      },
      "source": [
        "### Plot a UMAP and colour it by leiden and place the legend 'on data'"
      ]
    },
    {
      "cell_type": "code",
      "execution_count": null,
      "metadata": {
        "id": "BQEx4yshkR-8"
      },
      "outputs": [],
      "source": [
        "sc.pl.umap(adata, color=\"leiden\", legend_loc=\"on data\", legend_fontoutline=2, size=10)"
      ]
    },
    {
      "cell_type": "code",
      "execution_count": null,
      "metadata": {
        "id": "t19t7zKqkR-8"
      },
      "outputs": [],
      "source": [
        "pd.crosstab(adata.obs[\"leiden\"], adata.obs[\"celltypist_majority_voting\"]).apply(\n",
        "    lambda r: r / r.sum() * 100, axis=1\n",
        ").plot.bar(stacked=True)\n",
        "plt.legend(bbox_to_anchor=(1, 0.5), loc=\"center left\", frameon=False)"
      ]
    },
    {
      "cell_type": "markdown",
      "metadata": {
        "id": "tp43zOBlkR-9"
      },
      "source": [
        "At the end of all these, a theme has emerged:\n",
        "CD4 sorted cells are mostly \"naive\"-like\n",
        "CD8 sorted cells are mostly \"cytotoxic\"\n",
        "DP are more related to CD4s, but have some differentianted Th cells"
      ]
    },
    {
      "cell_type": "markdown",
      "metadata": {
        "id": "NZT3HsMAkR-9"
      },
      "source": [
        "#### But if this is the case, none of the current annotation will have DP cells as a whole - the question is are DP cells more related to CD4/CD8 cells. So... we will group all DP cells and annotate them as DP cells without further clustering etc.\n",
        "\n",
        "#### So next, create a new column in adata called  \"celltypist_annotation\":"
      ]
    },
    {
      "cell_type": "code",
      "execution_count": null,
      "metadata": {
        "id": "qR4T5i_EkR-9"
      },
      "outputs": [],
      "source": [
        "adata.obs[\"celltypist_annotation\"] = adata.obs[\"celltypist_majority_voting\"]\n",
        "adata.obs.info()"
      ]
    },
    {
      "cell_type": "code",
      "execution_count": null,
      "metadata": {
        "id": "4RwQJqHnkR-9"
      },
      "outputs": [],
      "source": [
        "# convert from category to object so I can play around...\n",
        "adata.obs[\"celltypist_annotation\"] = adata.obs[\"celltypist_annotation\"].astype(\"object\")\n",
        "adata.obs.info()"
      ]
    },
    {
      "cell_type": "code",
      "execution_count": null,
      "metadata": {
        "id": "_buP4J7BkR-9"
      },
      "outputs": [],
      "source": [
        "### This function works only on object but NOT category!\n",
        "for i in adata.obs.index:\n",
        "    if adata.obs.at[i, \"sort_type\"] == \"DP\":\n",
        "        adata.obs.at[i, \"celltypist_annotation\"] = \"DP\"\n",
        "adata.obs.info()"
      ]
    },
    {
      "cell_type": "code",
      "execution_count": null,
      "metadata": {
        "id": "80G01-jZkR-9"
      },
      "outputs": [],
      "source": [
        "adata.obs"
      ]
    },
    {
      "cell_type": "markdown",
      "metadata": {
        "id": "ynT6W3L3kR-9"
      },
      "source": [
        "### Plot a umap and color it by the celltypist annotations."
      ]
    },
    {
      "cell_type": "code",
      "execution_count": null,
      "metadata": {
        "id": "bw4wdyKHkR-9"
      },
      "outputs": [],
      "source": [
        "sc.pl.umap(adata, color=[\"celltypist_annotation\"], size=20, ncols=2)"
      ]
    },
    {
      "cell_type": "markdown",
      "metadata": {
        "id": "19VLzIwJkR-9"
      },
      "source": [
        "## Stop here.... and save and do marker genes etc...."
      ]
    },
    {
      "cell_type": "code",
      "execution_count": null,
      "metadata": {
        "id": "hVsBECLikR--"
      },
      "outputs": [],
      "source": [
        "adata.write_h5ad(\n",
        "    \"adata_processed_v2_BBKNN_celltypist_MS_300823.h5ad\", compression=\"gzip\"\n",
        ")"
      ]
    },
    {
      "cell_type": "code",
      "execution_count": null,
      "metadata": {
        "id": "V3vevcedkR--"
      },
      "outputs": [],
      "source": [
        "adata = sc.read_h5ad(\"adata_processed_v2_BBKNN_celltypist_MS_300823.h5ad\")\n",
        "#### NOTE: This step is only necessary if you are running from any of the SAVED H5ad object, because adata.uns['log1p'] is an empty dictionary! So will trigger error when running any DGEA..\n",
        "# pop is used to remove and return an element from a collection (if assigned to something), here it is to simply remove log1p\n",
        "try:\n",
        "    adata.uns.pop(\"log1p\")\n",
        "except:\n",
        "    pass\n",
        "adata"
      ]
    },
    {
      "cell_type": "markdown",
      "metadata": {
        "id": "d5hijhIskR--"
      },
      "source": [
        "## Finding Marker Genes Manually"
      ]
    },
    {
      "cell_type": "code",
      "execution_count": null,
      "metadata": {
        "id": "TYw4IVdxkR-_"
      },
      "outputs": [],
      "source": [
        "sc.tl.rank_genes_groups(adata, groupby=\"leiden\", method=\"wilcoxon\")"
      ]
    },
    {
      "cell_type": "markdown",
      "metadata": {
        "id": "KXpR4ra1kR-_"
      },
      "source": [
        "Plot the above out:"
      ]
    },
    {
      "cell_type": "code",
      "execution_count": null,
      "metadata": {
        "id": "cyN2SAOMkR-_",
        "scrolled": true
      },
      "outputs": [],
      "source": [
        "sc.pl.rank_genes_groups(adata, n_genes=25, sharey=False)  # sharey means each panel"
      ]
    },
    {
      "cell_type": "markdown",
      "metadata": {
        "id": "jDmVVD4dkR-_"
      },
      "source": [
        "Plot it out as dotplot:"
      ]
    },
    {
      "cell_type": "code",
      "execution_count": null,
      "metadata": {
        "id": "wWHVTLGhkR-_"
      },
      "outputs": [],
      "source": [
        "sc.pl.rank_genes_groups_dotplot(\n",
        "    adata, n_genes=5, standard_scale=\"var\", color_map=\"viridis\", min_logfoldchange=1\n",
        ")"
      ]
    },
    {
      "cell_type": "markdown",
      "metadata": {
        "id": "mSp0-nMbkR-_"
      },
      "source": [
        "Let's try to plot my marker genes of \"CD4\", \"CD8B\", \"FOXP3\", \"CTLA4\", \"SELL\", \"CCR7\", \"MKI67\", \"NKG7\", \"GATA3\", \"RORC\", \"CXCR5\", \"CD69\", \"GZMK\", \"BCL6\", \"TRAV1-2\" - label this set of genes as \"my_genes\", and plot it as a dotplot"
      ]
    },
    {
      "cell_type": "code",
      "execution_count": null,
      "metadata": {
        "id": "5drLOpWpkR-_",
        "scrolled": true
      },
      "outputs": [],
      "source": [
        "my_genes = [\n",
        "    \"CD4\",\n",
        "    \"CD8B\",\n",
        "    \"FOXP3\",\n",
        "    \"CTLA4\",\n",
        "    \"SELL\",\n",
        "    \"CCR7\",\n",
        "    \"MKI67\",\n",
        "    \"NKG7\",\n",
        "    \"GATA3\",\n",
        "    \"RORC\",\n",
        "    \"CXCR5\",\n",
        "    \"CD69\",\n",
        "    \"GZMK\",\n",
        "    \"BCL6\",\n",
        "    \"TRAV1-2\",\n",
        "]\n",
        "sc.pl.dotplot(adata, var_names=my_genes, groupby=\"leiden\", color_map=\"viridis\")"
      ]
    },
    {
      "cell_type": "markdown",
      "metadata": {
        "id": "-Txl1ffWkR-_"
      },
      "source": [
        "Plot Violin plots for QC using the stacked_violin function:"
      ]
    },
    {
      "cell_type": "code",
      "execution_count": null,
      "metadata": {
        "id": "KOVtDjn-kR-_"
      },
      "outputs": [],
      "source": [
        "sc.pl.stacked_violin(\n",
        "    adata,\n",
        "    my_genes,\n",
        "    groupby=\"leiden\",\n",
        "    row_palette=\"viridis\",\n",
        "    colorbar_title=\"median expression\",\n",
        ")"
      ]
    },
    {
      "cell_type": "markdown",
      "metadata": {
        "id": "1kmzSoNmkR_A"
      },
      "source": [
        "Plot a stacked_violin chart again but groupby as 'celltypist_annotation'"
      ]
    },
    {
      "cell_type": "code",
      "execution_count": null,
      "metadata": {
        "id": "r6qLcflmkR_A"
      },
      "outputs": [],
      "source": [
        "sc.pl.stacked_violin(\n",
        "    adata,\n",
        "    my_genes,\n",
        "    groupby=\"celltypist_annotation\",\n",
        "    row_palette=\"viridis\",\n",
        "    colorbar_title=\"median expression\",\n",
        ")"
      ]
    },
    {
      "cell_type": "markdown",
      "metadata": {
        "id": "3qmj_gqAkR_A"
      },
      "source": [
        "Show the top 10 ranked genes for each cluster as a dataframe using the `rank_genes_groups` function"
      ]
    },
    {
      "cell_type": "code",
      "execution_count": null,
      "metadata": {
        "id": "aGhSKfKnkR_A",
        "scrolled": true
      },
      "outputs": [],
      "source": [
        "pd.DataFrame(adata.uns[\"rank_genes_groups\"][\"names\"]).head(10)"
      ]
    },
    {
      "cell_type": "markdown",
      "metadata": {
        "id": "p9Iw9D01kR_A"
      },
      "source": [
        "Plot the umap and color by 'leiden' and set a size of 20:"
      ]
    },
    {
      "cell_type": "code",
      "execution_count": null,
      "metadata": {
        "id": "Qe_ZNXyQkR_A"
      },
      "outputs": [],
      "source": [
        "sc.pl.umap(adata, color=\"leiden\", size=20)"
      ]
    },
    {
      "cell_type": "markdown",
      "metadata": {
        "id": "iMmFe1qSkR_A"
      },
      "source": [
        "Redo the above steps with celltypist_annotation:"
      ]
    },
    {
      "cell_type": "code",
      "execution_count": null,
      "metadata": {
        "id": "qD0kJsCzkR_A"
      },
      "outputs": [],
      "source": [
        "sc.tl.rank_genes_groups(adata, groupby=\"celltypist_annotation\", method=\"wilcoxon\")"
      ]
    },
    {
      "cell_type": "markdown",
      "metadata": {
        "id": "mv1oBylhkR_A"
      },
      "source": [
        "Plot it out as dotplot with rank_genes_groups"
      ]
    },
    {
      "cell_type": "code",
      "execution_count": null,
      "metadata": {
        "id": "RheNhkOlkR_A"
      },
      "outputs": [],
      "source": [
        "sc.pl.rank_genes_groups_dotplot(\n",
        "    adata, n_genes=10, standard_scale=\"var\", color_map=\"viridis\", min_logfoldchange=1\n",
        ")"
      ]
    },
    {
      "cell_type": "markdown",
      "metadata": {
        "id": "F455lU-XkR_B"
      },
      "source": [
        "Plot violin plots for QC with 'my_genes':"
      ]
    },
    {
      "cell_type": "code",
      "execution_count": null,
      "metadata": {
        "id": "JnhdinAfkR_B"
      },
      "outputs": [],
      "source": [
        "my_genes = [\n",
        "    \"CD4\",\n",
        "    \"CD8B\",\n",
        "    \"FOXP3\",\n",
        "    \"IL2RA\",\n",
        "    \"CTLA4\",\n",
        "    \"GZMK\",\n",
        "    \"NKG7\",\n",
        "    \"CCL5\",\n",
        "    \"SELL\",\n",
        "    \"CCR7\",\n",
        "    \"CD44\",\n",
        "    \"CD27\",\n",
        "    \"TRAV1-2\",\n",
        "    \"KLRG1\",\n",
        "    \"CX3CR1\",\n",
        "    \"CD69\",\n",
        "    \"ITGA1\",\n",
        "    \"CXCR6\",\n",
        "]\n",
        "sc.pl.stacked_violin(\n",
        "    adata,\n",
        "    my_genes,\n",
        "    groupby=\"celltypist_annotation\",\n",
        "    row_palette=\"viridis\",\n",
        "    colorbar_title=\"median expression\",\n",
        ")"
      ]
    },
    {
      "cell_type": "markdown",
      "metadata": {
        "id": "onqJoAvnkR_B"
      },
      "source": [
        "\n",
        "Plot umap with clusters coloured by celltypist_annotation"
      ]
    },
    {
      "cell_type": "code",
      "execution_count": null,
      "metadata": {
        "id": "pUCE8PNHkR_B"
      },
      "outputs": [],
      "source": [
        "sc.pl.umap(adata, color=\"celltypist_annotation\", size=10)"
      ]
    },
    {
      "cell_type": "markdown",
      "metadata": {
        "id": "6w44z2gdkR_B"
      },
      "source": [
        "Show the top 10 ranked genes for each cluster as a dataframe using 'rank_genes_groups'"
      ]
    },
    {
      "cell_type": "code",
      "execution_count": null,
      "metadata": {
        "id": "bZF7fTsgkR_B"
      },
      "outputs": [],
      "source": [
        "pd.DataFrame(adata.uns[\"rank_genes_groups\"][\"names\"]).head(10)"
      ]
    },
    {
      "cell_type": "markdown",
      "metadata": {
        "id": "w5YC62rsN_Ff"
      },
      "source": [
        "Do you want to try and give each cluster your own annotation and see if it agrees with the celltypist ones?"
      ]
    },
    {
      "cell_type": "markdown",
      "metadata": {
        "id": "nNjdC73HkR_B"
      },
      "source": [
        "This marks the end of the tutorial. Good job!"
      ]
    },
    {
      "cell_type": "code",
      "execution_count": null,
      "metadata": {
        "id": "j4wGknhjGoNz"
      },
      "outputs": [],
      "source": []
    }
  ],
  "metadata": {
    "colab": {
      "provenance": []
    },
    "kernelspec": {
      "display_name": "Python 3 (ipykernel)",
      "language": "python",
      "name": "python3"
    },
    "language_info": {
      "codemirror_mode": {
        "name": "ipython",
        "version": 3
      },
      "file_extension": ".py",
      "mimetype": "text/x-python",
      "name": "python",
      "nbconvert_exporter": "python",
      "pygments_lexer": "ipython3",
      "version": "3.10.12"
    }
  },
  "nbformat": 4,
  "nbformat_minor": 0
}