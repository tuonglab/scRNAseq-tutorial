{
  "cells": [
    {
      "cell_type": "markdown",
      "metadata": {
        "colab_type": "text",
        "id": "view-in-github"
      },
      "source": [
        "<a href=\"https://colab.research.google.com/github/tuonglab/scRNAseq-tutorial/blob/master/notebook/tuong_dpt_TCR_tutorial.ipynb\" target=\"_parent\"><img src=\"https://colab.research.google.com/assets/colab-badge.svg\" alt=\"Open In Colab\"/></a>"
      ]
    },
    {
      "cell_type": "markdown",
      "metadata": {
        "id": "dKplgAn4HDd_"
      },
      "source": [
        "# scRNA-seq analysis in-depth tutorial for immunology/T cell data!\n",
        "\n",
        "This analysis notebook is meant to be a supplement to the existing tutorials out there but with a more in-depth focus on how we normally analyse immunology data. The example we will go through below is that of sorted T cell populations from human PBMC and we will go through the details as we progress. For now, we will do the first step which is to set-up the prerequisites and download the data:"
      ]
    },
    {
      "cell_type": "code",
      "execution_count": null,
      "metadata": {
        "colab": {
          "base_uri": "https://localhost:8080/"
        },
        "id": "R5OS_FAtkT8A",
        "outputId": "ec0ea17f-9c0c-4aaa-c795-bb4ddf94853b"
      },
      "outputs": [],
      "source": [
        "# setup the notebook\n",
        "!pip install -qqq scanpy[leiden] sc-dandelion bbknn\n",
        "!pip install -qqq git+https://www.github.com/tuonglab/kttools.git\n",
        "!pip install -qqq celltypist\n",
        "# the session might crash after running this step as we are installing numpy. Don't worry. just reconnect and then continue with the rest below.\n",
        "!celltypist --update-models\n",
        "# second thing to do is to clone the repository so that we have all the data and notebooks ready to go\n",
        "!git clone https://github.com/tuonglab/scRNAseq-tutorial.git"
      ]
    },
    {
      "cell_type": "code",
      "execution_count": null,
      "metadata": {
        "colab": {
          "base_uri": "https://localhost:8080/"
        },
        "id": "0RYTFv97lsMm",
        "outputId": "1e9ba7e6-10ac-4968-9bb3-6e2749f73739"
      },
      "outputs": [],
      "source": [
        "# change directory\n",
        "import os\n",
        "\n",
        "os.chdir(\"scRNAseq-tutorial\")\n",
        "[file for file in os.listdir() if not file.startswith(\".\")]"
      ]
    },
    {
      "cell_type": "code",
      "execution_count": null,
      "metadata": {
        "id": "euKOJd38Kxcz"
      },
      "outputs": [],
      "source": [
        "# just to make the the code run a bit quieter, i'm suppressing a few warnings here\n",
        "\n",
        "import warnings\n",
        "\n",
        "from numba.core.errors import NumbaDeprecationWarning, NumbaWarning\n",
        "\n",
        "for warn in [\n",
        "    NumbaDeprecationWarning,\n",
        "    NumbaWarning,\n",
        "    FutureWarning,\n",
        "    UserWarning,\n",
        "]:  # otherwise very noisy\n",
        "    warnings.filterwarnings(\"ignore\", category=warn)"
      ]
    },
    {
      "cell_type": "markdown",
      "metadata": {
        "id": "jyeGlt5HkR-O"
      },
      "source": [
        "# Tutorial: Single-cell RNA seq analysis using a T cell dataset (sorted from healthy PBMCs)"
      ]
    },
    {
      "cell_type": "markdown",
      "metadata": {
        "id": "p4LcZHPGkR-S"
      },
      "source": [
        "#### This tutorial will show you the steps involved to get you started on single cell analysis in Python using Scanpy, the toolkit for analysing single-cell gene expression.\n",
        "#### It includes preprocessing, visualization, clustering, trajectory inference and differential expression testing.\n",
        "#### Depending on the complexity of your analysis, you may need to modify and expand on these steps."
      ]
    },
    {
      "cell_type": "markdown",
      "metadata": {
        "id": "6tmvOCeWkR-T"
      },
      "source": [
        "# Double-Positive T scRNAseq analysis"
      ]
    },
    {
      "cell_type": "markdown",
      "metadata": {
        "id": "Dbk22jSnkR-T"
      },
      "source": [
        "## 1. Preprocessing and Quality Control"
      ]
    },
    {
      "cell_type": "markdown",
      "metadata": {
        "id": "20nZhDH6kR-U"
      },
      "source": [
        "First, import packages needed for single-cell RNA seq analysis.\n",
        "\n",
        "You can insert another line: `pip install \"package_name\"` or install them via conda/mamba/anaconda if those packages are not already installed prior to importing"
      ]
    },
    {
      "cell_type": "code",
      "execution_count": null,
      "metadata": {
        "id": "Damq_kOCkR-U"
      },
      "outputs": [],
      "source": [
        "import os\n",
        "import tools\n",
        "import scanpy as sc\n",
        "import pandas as pd\n",
        "import dandelion as ddl\n",
        "from tqdm import tqdm"
      ]
    },
    {
      "cell_type": "markdown",
      "metadata": {
        "id": "r-TLb5sqkR-W"
      },
      "source": [
        "Show current directory:"
      ]
    },
    {
      "cell_type": "code",
      "execution_count": null,
      "metadata": {
        "colab": {
          "base_uri": "https://localhost:8080/",
          "height": 35
        },
        "id": "RvBa0U0OkR-W",
        "outputId": "33d8f8ce-5fd0-4ce9-e91c-eae50f763e38",
        "scrolled": true
      },
      "outputs": [],
      "source": [
        "os.getcwd()"
      ]
    },
    {
      "cell_type": "markdown",
      "metadata": {
        "id": "lQ5WpsARkR-X"
      },
      "source": [
        "Print software versions:"
      ]
    },
    {
      "cell_type": "code",
      "execution_count": null,
      "metadata": {
        "colab": {
          "base_uri": "https://localhost:8080/"
        },
        "id": "JDc30Ko6kR-X",
        "outputId": "92a58c05-0e41-4f17-9658-01aeb7fcb9fb"
      },
      "outputs": [],
      "source": [
        "sc.logging.print_header()"
      ]
    },
    {
      "cell_type": "code",
      "execution_count": null,
      "metadata": {
        "colab": {
          "base_uri": "https://localhost:8080/"
        },
        "id": "-XkC4c3NkR-X",
        "outputId": "e479dd7f-52d7-45a3-d0a4-003c217ac208"
      },
      "outputs": [],
      "source": [
        "ddl.logging.print_header()"
      ]
    },
    {
      "cell_type": "markdown",
      "metadata": {
        "id": "fX-evF83HrNI"
      },
      "source": [
        "Set plotting parameters:"
      ]
    },
    {
      "cell_type": "code",
      "execution_count": null,
      "metadata": {
        "id": "wF17GwZrkR-X"
      },
      "outputs": [],
      "source": [
        "sc.settings.set_figure_params(dpi=80, facecolor=\"white\")"
      ]
    },
    {
      "cell_type": "markdown",
      "metadata": {
        "id": "ptMIeRZCkR-Y"
      },
      "source": [
        "### Reading in files for analysis\n",
        "\n",
        "For this tutorial, we have already saved the starting raw datafile as an `.h5ad` file. Hence we are reading it in with `sc.read_h5ad` to load up an `AnnData` object. However, for a normal use case, you would typically start with `cellranger` output files/folders. Therefore, refer to their [tutorial](https://scanpy.readthedocs.io/) to get an idea on how to read other file formats in."
      ]
    },
    {
      "cell_type": "code",
      "execution_count": null,
      "metadata": {
        "id": "4LpdCxz_kR-Y"
      },
      "outputs": [],
      "source": [
        "# we need to read each file separately and then concatenate them\n",
        "\n",
        "from pathlib import Path\n",
        "\n",
        "samples = [\n",
        "    \"CD4_L01\",\n",
        "    \"CD4_P01\",\n",
        "    \"CD4_WY\",\n",
        "    \"CD8_L01\",\n",
        "    \"CD8_P01\",\n",
        "    \"CD8_WY\",\n",
        "    \"DP_L01\",\n",
        "    \"DP_P01\",\n",
        "    \"DP_WY\",\n",
        "    \"V_CD4\",\n",
        "    \"V_CD8\",\n",
        "    \"V_DP\",\n",
        "]\n",
        "\n",
        "# use a for loop to read in each sample and then concatenate at the end\n",
        "adatas = []\n",
        "for sample in samples:\n",
        "    out_path = Path(\"data\") / (sample + \"_raw.h5ad\")  # \"../\" means go up one folder\n",
        "    adata = sc.read_h5ad(out_path)\n",
        "    adatas.append(adata)"
      ]
    },
    {
      "cell_type": "markdown",
      "metadata": {
        "id": "h-_835_3IHU4"
      },
      "source": [
        "### Concatenate\n",
        "\n",
        "Now that we have read them in and added them to a list, we want to join them all up (also known as concatenate). But how do we do that?"
      ]
    },
    {
      "cell_type": "code",
      "execution_count": null,
      "metadata": {
        "colab": {
          "base_uri": "https://localhost:8080/"
        },
        "id": "X4g7VPSEkR-Y",
        "outputId": "78161302-06e7-46c5-86ea-77bc15071824"
      },
      "outputs": [],
      "source": [
        "adata = sc.concat(adatas)\n",
        "adata"
      ]
    },
    {
      "cell_type": "markdown",
      "metadata": {
        "id": "AsJub22IC6lB"
      },
      "source": [
        "Note: this adata has gone through some pre-processing CALCULATIONS but have NOT been filtered..."
      ]
    },
    {
      "cell_type": "markdown",
      "metadata": {
        "id": "lAXB_DJBkR-Z"
      },
      "source": [
        "## Quality control\n"
      ]
    },
    {
      "cell_type": "markdown",
      "metadata": {
        "id": "lqyTHlnBkR-Z"
      },
      "source": [
        "These are the steps that Kelvin did to obtain some preprocessing parameters AFTER concatenating raw output from cell ranger, BEFORE saving it as \"raw_adata_v2.h5ad\"\n",
        "\n",
        "When Kelvin ran\n",
        "`ddl.pp.external.recipe_scanpy_qc(\n",
        "        tmp, max_genes=10000, mito_cutoff=None, mito_startswith=\"MT-\"\n",
        ")`, he applied a quick \"recipe\" function from ddl to help compute PP output using these parameters in this context: {cells need to have 10,000 genes, and no mito_cutoff done}. It uses a gaussian mixture model on the mitochondrial and total gene counts to decide which cells pass or not.\n",
        "\n",
        "It then creates a \"filter_rna\" column to store the final outoput, whether a cell passes QC (False), or not (True).\n",
        "\n",
        "\n"
      ]
    },
    {
      "cell_type": "markdown",
      "metadata": {
        "id": "8weRR43OkR-Z"
      },
      "source": [
        "❓#### What is a way to quickly look at the cells in our metadata with the observational file?\n",
        "\n",
        "Hint - where does `AnnData` store the `metadata`? What `type` is it?"
      ]
    },
    {
      "cell_type": "code",
      "execution_count": null,
      "metadata": {
        "colab": {
          "base_uri": "https://localhost:8080/",
          "height": 513
        },
        "id": "M2ClkD9ukR-Z",
        "outputId": "c8d3b5c9-0369-493a-aa29-77ffa6926464"
      },
      "outputs": [],
      "source": [
        "adata.obs"
      ]
    },
    {
      "cell_type": "markdown",
      "metadata": {
        "id": "T7nRcsblkR-Z"
      },
      "source": [
        "#### What about genes in the metadata?\n",
        "\n",
        "Hint - in the variable level"
      ]
    },
    {
      "cell_type": "code",
      "execution_count": null,
      "metadata": {
        "colab": {
          "base_uri": "https://localhost:8080/",
          "height": 406
        },
        "id": "vkI7WQBVkR-Z",
        "outputId": "ed9f4ea9-d06f-4a19-bd08-7b4cacf547ae"
      },
      "outputs": [],
      "source": [
        "adata.var"
      ]
    },
    {
      "cell_type": "markdown",
      "metadata": {
        "id": "7iZNptcN8X0b"
      },
      "source": [
        "Now let's visualise some QC metrics. Ask yourself what is each plot trying to tell you? Eg Plot 1 = cells with highest mito content tend to also have lower read counts, suggesting low quality cells."
      ]
    },
    {
      "cell_type": "code",
      "execution_count": null,
      "metadata": {
        "colab": {
          "base_uri": "https://localhost:8080/",
          "height": 973
        },
        "id": "YJU3Br0vkR-Z",
        "outputId": "311c82ca-fd74-4bc9-fec2-6969cb983f03"
      },
      "outputs": [],
      "source": [
        "sc.pl.scatter(adata, x=\"total_counts\", y=\"pct_counts_mt\", color=\"filter_rna\")\n",
        "sc.pl.scatter(adata, x=\"total_counts\", y=\"n_genes_by_counts\", color=\"filter_rna\")\n",
        "sc.pl.scatter(adata, x=\"pct_counts_mt\", y=\"n_genes_by_counts\", color=\"filter_rna\")"
      ]
    },
    {
      "cell_type": "markdown",
      "metadata": {
        "id": "UrcIOvSd8dID"
      },
      "source": [
        " - `n_genes_by_counts` = number of genes with positive counts in a cell (similar to `nFeature_RNA` in seurat)\n",
        "\n",
        " - `total_counts` = total number of counts for a cell, which is also known as library size (similar to `nCount_RNA` in seurat = nUMI)"
      ]
    },
    {
      "cell_type": "markdown",
      "metadata": {
        "id": "Hq50UXjo8l_T"
      },
      "source": [
        "🔔 Look out for bell signs as they are extra handy tips for coding in general!\n",
        "**Tabulate number of cells per sample...**"
      ]
    },
    {
      "cell_type": "code",
      "execution_count": null,
      "metadata": {
        "colab": {
          "base_uri": "https://localhost:8080/",
          "height": 457
        },
        "id": "sEDgO-zEkR-Z",
        "outputId": "c6781449-bd97-47e0-c6a1-5f3148ccd848"
      },
      "outputs": [],
      "source": [
        "pd.crosstab(adata.obs[\"sample\"], adata.obs[\"filter_rna\"])\n",
        "\n",
        "# cross tab: https://stackoverflow.com/questions/21247203/how-to-make-a-pandas-crosstab-with-percentages\n",
        "# https://pandas.pydata.org/docs/reference/api/pandas.crosstab.html\n",
        "# https://pbpython.com/pandas-crosstab.html"
      ]
    },
    {
      "cell_type": "code",
      "execution_count": null,
      "metadata": {
        "colab": {
          "base_uri": "https://localhost:8080/",
          "height": 457
        },
        "id": "jRS8NDj9kR-a",
        "outputId": "28a7ccd5-9f03-44fe-8235-b75cf43571ce",
        "scrolled": true
      },
      "outputs": [],
      "source": [
        "## Repeating this as a percentage\n",
        "# You'll just have the function that does row/row.sum(), and you use apply with axis=1 to apply it by row (or across and not within columns).\n",
        "\n",
        "pd.crosstab(adata.obs[\"sample\"], adata.obs[\"filter_rna\"]).apply(\n",
        "    lambda row: row / row.sum() * 100, axis=1\n",
        ")"
      ]
    },
    {
      "cell_type": "code",
      "execution_count": null,
      "metadata": {
        "colab": {
          "base_uri": "https://localhost:8080/",
          "height": 353
        },
        "id": "-pncrA0skR-a",
        "outputId": "a3debf6d-c915-4da1-8b19-29ca8dae13a3"
      },
      "outputs": [],
      "source": [
        "## Plotting violin plots for QC metrics too\n",
        "\n",
        "sc.pl.violin(\n",
        "    adata,\n",
        "    [\"total_counts\", \"n_genes_by_counts\", \"pct_counts_mt\"],\n",
        "    size=0.1,\n",
        "    groupby=\"sample\",\n",
        "    multi_panel=True,\n",
        "    rotation=90,\n",
        ")"
      ]
    },
    {
      "cell_type": "markdown",
      "metadata": {
        "id": "VRMfMvoJkR-a"
      },
      "source": [
        "Continue processing with \"good\" cells only.."
      ]
    },
    {
      "cell_type": "code",
      "execution_count": null,
      "metadata": {
        "id": "gFUet2zPkR-a"
      },
      "outputs": [],
      "source": [
        "adata = adata[adata.obs[\"filter_rna\"] == \"False\"].copy()"
      ]
    },
    {
      "cell_type": "code",
      "execution_count": null,
      "metadata": {
        "colab": {
          "base_uri": "https://localhost:8080/"
        },
        "id": "GKbLY_D5Xz0d",
        "outputId": "4327ac64-21c1-4a15-d38c-e063073eafab"
      },
      "outputs": [],
      "source": [
        "## always check after you have done some subsetting to make sure changes are applied correctly..\n",
        "adata  # i filtered out ~10K cells"
      ]
    },
    {
      "cell_type": "markdown",
      "metadata": {
        "id": "25lhkpvcYytt"
      },
      "source": [
        "❓> Ask yourself, what are usual good cut-offs? Are they always appropriate?"
      ]
    },
    {
      "cell_type": "markdown",
      "metadata": {
        "id": "SoHzH-umkR-a"
      },
      "source": [
        "Redo QC plots with the \"good\" cells post-filtering"
      ]
    },
    {
      "cell_type": "code",
      "execution_count": null,
      "metadata": {
        "colab": {
          "base_uri": "https://localhost:8080/",
          "height": 973
        },
        "id": "kwRI5CJUkR-a",
        "outputId": "b2e70e34-638e-4b16-f609-69d69116b74c"
      },
      "outputs": [],
      "source": [
        "sc.pl.scatter(adata, x=\"total_counts\", y=\"pct_counts_mt\", color=\"filter_rna\")\n",
        "sc.pl.scatter(adata, x=\"total_counts\", y=\"n_genes_by_counts\", color=\"filter_rna\")\n",
        "sc.pl.scatter(adata, x=\"pct_counts_mt\", y=\"n_genes_by_counts\", color=\"filter_rna\")"
      ]
    },
    {
      "cell_type": "code",
      "execution_count": null,
      "metadata": {
        "colab": {
          "base_uri": "https://localhost:8080/",
          "height": 353
        },
        "id": "-fF7RmDJkR-a",
        "outputId": "fc8972cb-7c47-4276-9641-d25ced12dff8"
      },
      "outputs": [],
      "source": [
        "# also via violin plot\n",
        "\n",
        "sc.pl.violin(\n",
        "    adata,\n",
        "    [\"total_counts\", \"n_genes_by_counts\", \"pct_counts_mt\"],\n",
        "    size=0.1,\n",
        "    groupby=\"sample\",\n",
        "    multi_panel=True,\n",
        "    rotation=90,\n",
        ")"
      ]
    },
    {
      "cell_type": "markdown",
      "metadata": {
        "id": "Tmi3nIesoyt9"
      },
      "source": [
        "🔔*The steps below are optional - So this is me thinking about how generic workflows would apply some cutoff on things like mito content. I want to see if it helps the dataset better as I can see in my violin plots there are some cells with >5% mito content.*\n",
        "\n",
        "\n"
      ]
    },
    {
      "cell_type": "code",
      "execution_count": null,
      "metadata": {
        "colab": {
          "base_uri": "https://localhost:8080/"
        },
        "id": "pbCmiUgDkR-b",
        "outputId": "544ad2b7-12d0-4bf6-db72-4d7dfd2a6fec"
      },
      "outputs": [],
      "source": [
        "# first i make an extra copy of the adata so I don't overwrite the MAIN object I am working on.\n",
        "bdata = adata.copy()\n",
        "bdata"
      ]
    },
    {
      "cell_type": "code",
      "execution_count": null,
      "metadata": {
        "colab": {
          "base_uri": "https://localhost:8080/"
        },
        "id": "SrCT7DsKkR-b",
        "outputId": "ffc98321-1b73-4145-95be-62c21fb38f65"
      },
      "outputs": [],
      "source": [
        "bdata = bdata[bdata.obs.pct_counts_mt < 5, :]\n",
        "# I also want to filter out cells with low gene expression..\n",
        "bdata = bdata[bdata.obs.n_genes_by_counts > 200, :]\n",
        "bdata  # here I can see that it has only filtered out another 20+ cells suggesting minimal changes, and the original QC metrics applied was probably stringent enough."
      ]
    },
    {
      "cell_type": "code",
      "execution_count": null,
      "metadata": {
        "colab": {
          "base_uri": "https://localhost:8080/",
          "height": 353
        },
        "id": "M9XOE8vkkR-b",
        "outputId": "c41bc7ba-b087-47e2-c27b-c104840c2351"
      },
      "outputs": [],
      "source": [
        "# also violin plot\n",
        "\n",
        "sc.pl.violin(\n",
        "    bdata,\n",
        "    [\"total_counts\", \"n_genes_by_counts\", \"pct_counts_mt\"],\n",
        "    size=0.1,\n",
        "    groupby=\"sample\",\n",
        "    multi_panel=True,\n",
        "    rotation=90,\n",
        ")\n",
        "\n",
        "# didn't change too much - so ignore.."
      ]
    },
    {
      "cell_type": "markdown",
      "metadata": {
        "id": "TeCocREEpPCg"
      },
      "source": [
        "### **I am happy with the original QC metrics used. And will go back to my original data stored as `adata`**"
      ]
    },
    {
      "cell_type": "code",
      "execution_count": null,
      "metadata": {
        "colab": {
          "base_uri": "https://localhost:8080/"
        },
        "id": "S7_VWflakR-b",
        "outputId": "b2c42bad-7231-4f2a-ddd5-6090a71af79b"
      },
      "outputs": [],
      "source": [
        "# Remove uninformative genes - this filters out genes that are not expressed in least 3 cells.\n",
        "\n",
        "sc.pp.filter_genes(adata, min_cells=3)\n",
        "adata"
      ]
    },
    {
      "cell_type": "markdown",
      "metadata": {
        "id": "TmqaPq28Hv9k"
      },
      "source": [
        "`n_obs` basically means number of observations (cells) and `n_vars` is number of variables (genes)."
      ]
    },
    {
      "cell_type": "markdown",
      "metadata": {
        "id": "hMTXCmYwkR-b"
      },
      "source": [
        "## Normalisation"
      ]
    },
    {
      "cell_type": "markdown",
      "metadata": {
        "id": "H-8l1igDvmOQ"
      },
      "source": [
        "🔔 #### OPTIONAL - THESE NEXT FEW STEPS IS JUST TO ILLUSTRATE WHAT LOG-NORMALISATION DOES AND WHAT YOU SHOULD EXPECT.."
      ]
    },
    {
      "cell_type": "code",
      "execution_count": null,
      "metadata": {
        "colab": {
          "base_uri": "https://localhost:8080/",
          "height": 530
        },
        "id": "XZPIACNsanb4",
        "outputId": "d22b1b91-7b28-4dcf-eb52-d9a8491baeb1"
      },
      "outputs": [],
      "source": [
        "# create a separate dataframe to compare.. this df is the gex matrix BEFORE normalisation\n",
        "prenorm_df = adata.to_df()\n",
        "prenorm_df"
      ]
    },
    {
      "cell_type": "code",
      "execution_count": null,
      "metadata": {
        "colab": {
          "base_uri": "https://localhost:8080/"
        },
        "id": "-ABd-VCibFcI",
        "outputId": "dd77ada1-2c4c-4a52-e0ab-4e542033f00f"
      },
      "outputs": [],
      "source": [
        "## OPTIONAL - Now, prior to normalisation, gene values can range from 0 - 10K/100K reads.\n",
        "# To see this, we can either perform a rowsum of all genes for each cell or just ask what is the max read of a gene for each cell.\n",
        "# Calculate row sums and find the maximum\n",
        "max_row_sum = prenorm_df.sum(axis=1).max()\n",
        "print(\"Max total gene counts in a cell is\", max_row_sum)\n",
        "\n",
        "# Find the maximum value in all rows combined\n",
        "max_value_all_rows = prenorm_df.max().max()\n",
        "print(\"Max gene count in a cell is\", max_value_all_rows)"
      ]
    },
    {
      "cell_type": "markdown",
      "metadata": {
        "id": "Eaniil6pwAxu"
      },
      "source": [
        "### Perform Normalisation:\n",
        "Total-count normalize (library-size correct) the data matrix 𝐗 to 10,000 reads per cell, so that counts become comparable among cells."
      ]
    },
    {
      "cell_type": "code",
      "execution_count": null,
      "metadata": {
        "colab": {
          "base_uri": "https://localhost:8080/"
        },
        "id": "31GZf02qkR-j",
        "outputId": "4da15bd5-b80e-45c5-bb25-c237a0c3dd3d"
      },
      "outputs": [],
      "source": [
        "sc.pp.normalize_total(adata, target_sum=1e4)\n",
        "\n",
        "# Logarithmize the data:\n",
        "sc.pp.log1p(adata)\n",
        "\n",
        "# check the object\n",
        "adata"
      ]
    },
    {
      "cell_type": "markdown",
      "metadata": {
        "id": "f4CveeQkZg5w"
      },
      "source": [
        "❓> What are some changes that you can see to confirm that normalisation has taken\n",
        "place? HINT - \"look for log1p\" Are there any other ways to confirm?"
      ]
    },
    {
      "cell_type": "code",
      "execution_count": null,
      "metadata": {
        "colab": {
          "base_uri": "https://localhost:8080/",
          "height": 530
        },
        "id": "j4R6xVNwZoPE",
        "outputId": "5b5579ce-e923-4fe7-8d40-990fe8b3ceb3"
      },
      "outputs": [],
      "source": [
        "## OPTIONAL - We can look into our gene matrix again to manually confirm....\n",
        "\n",
        "postnorm_df = adata.to_df()\n",
        "postnorm_df"
      ]
    },
    {
      "cell_type": "code",
      "execution_count": null,
      "metadata": {
        "colab": {
          "base_uri": "https://localhost:8080/"
        },
        "id": "QVHd17cLbU81",
        "outputId": "9d87f62b-8584-4096-8b59-1467b52a7f29"
      },
      "outputs": [],
      "source": [
        "## OPTIONAL - Now, post-normalisation, gene values are a lot \"narrower\" in range.\n",
        "# To see this again, we can either perform a rowsum of all genes for each cell or just ask what is the max read of a gene for each cell.\n",
        "# Calculate row sums and find the maximum\n",
        "max_row_sum = postnorm_df.sum(axis=1).max()\n",
        "print(\"Max total gene counts in a cell is\", max_row_sum)\n",
        "\n",
        "# Find the maximum value in all rows combined\n",
        "max_value_all_rows = postnorm_df.max().max()\n",
        "print(\"Max gene count in a cell is\", max_value_all_rows)"
      ]
    },
    {
      "cell_type": "markdown",
      "metadata": {
        "id": "LRKTZsfakR-k"
      },
      "source": [
        "# 2. Highly variable Genes"
      ]
    },
    {
      "cell_type": "markdown",
      "metadata": {
        "id": "nOtGQx1GkR-k"
      },
      "source": [
        "Identify and inspect highly-variable genes"
      ]
    },
    {
      "cell_type": "code",
      "execution_count": null,
      "metadata": {
        "colab": {
          "base_uri": "https://localhost:8080/"
        },
        "id": "laIpQxySkR-k",
        "outputId": "098c2d1f-dcd1-4bad-ff69-197ce13bea0e"
      },
      "outputs": [],
      "source": [
        "# (Expects logarithimised data)\n",
        "sc.pp.highly_variable_genes(adata, min_mean=0.0125, max_mean=3, min_disp=0.5)\n",
        "adata"
      ]
    },
    {
      "cell_type": "code",
      "execution_count": null,
      "metadata": {
        "colab": {
          "base_uri": "https://localhost:8080/",
          "height": 424
        },
        "id": "a3La6FRBkR-k",
        "outputId": "16c2575a-7b21-410a-cdcf-5f50f7831a6e"
      },
      "outputs": [],
      "source": [
        "# to see genes\n",
        "adata.var  # there is now a hvg column"
      ]
    },
    {
      "cell_type": "markdown",
      "metadata": {
        "id": "ewtC4e8Qwfrh"
      },
      "source": [
        "##### 🔔to get structure of dataframe"
      ]
    },
    {
      "cell_type": "code",
      "execution_count": null,
      "metadata": {
        "colab": {
          "base_uri": "https://localhost:8080/"
        },
        "id": "rBgOAoa_kR-k",
        "outputId": "5b05c373-8452-4533-95db-7dc475af76c6",
        "scrolled": true
      },
      "outputs": [],
      "source": [
        "adata.var.info()\n",
        "adata.obs.info()"
      ]
    },
    {
      "cell_type": "markdown",
      "metadata": {
        "id": "YSoZTnwixG5d"
      },
      "source": [
        "##### 🔔 to get the number of HV genes... because the column \"highly_variable\" is a boolean vector - ie it gives True (1) or False (0), you can use sum function to know..."
      ]
    },
    {
      "cell_type": "code",
      "execution_count": null,
      "metadata": {
        "colab": {
          "base_uri": "https://localhost:8080/"
        },
        "id": "oMiB0JlfJf9J",
        "outputId": "8743b8fc-47ec-4c32-dc46-1aa4dc970b88"
      },
      "outputs": [],
      "source": [
        "print(adata.var.highly_variable.sum())"
      ]
    },
    {
      "cell_type": "markdown",
      "metadata": {
        "id": "-2aze9kNkR-l"
      },
      "source": [
        "Plot out the number of highly variable genes"
      ]
    },
    {
      "cell_type": "code",
      "execution_count": null,
      "metadata": {
        "colab": {
          "base_uri": "https://localhost:8080/",
          "height": 317
        },
        "id": "gU3_8cpVkR-l",
        "outputId": "f9d05162-4f95-4072-877d-a8cab0faed8a",
        "scrolled": true
      },
      "outputs": [],
      "source": [
        "sc.pl.highly_variable_genes(adata)"
      ]
    },
    {
      "cell_type": "markdown",
      "metadata": {
        "id": "0q4jcSKLkR-l"
      },
      "source": [
        "🔔 Other ways to inspect HV genes matrix, first, create a dataframe containing the info."
      ]
    },
    {
      "cell_type": "code",
      "execution_count": null,
      "metadata": {
        "id": "z5sLb9s-kR-l"
      },
      "outputs": [],
      "source": [
        "hvg = pd.DataFrame(adata.var.highly_variable)"
      ]
    },
    {
      "cell_type": "markdown",
      "metadata": {
        "id": "UpZr872qkR-l"
      },
      "source": [
        "🔔 Add col name 'HV_status' and print hvg of only True values."
      ]
    },
    {
      "cell_type": "code",
      "execution_count": null,
      "metadata": {
        "colab": {
          "base_uri": "https://localhost:8080/",
          "height": 424
        },
        "id": "ZYepLCazkR-l",
        "outputId": "50f98fde-981e-44ea-a270-936cc4a1e286",
        "scrolled": true
      },
      "outputs": [],
      "source": [
        "hvg.columns = [\"HV_status\"]\n",
        "hvg_T = hvg.loc[hvg[\"HV_status\"] == True]\n",
        "hvg_T"
      ]
    },
    {
      "cell_type": "markdown",
      "metadata": {
        "id": "A5XJx253znXO"
      },
      "source": [
        "🔔 how to list all variables you have so far"
      ]
    },
    {
      "cell_type": "code",
      "execution_count": null,
      "metadata": {
        "colab": {
          "base_uri": "https://localhost:8080/"
        },
        "id": "Xy0oQeYBkR-m",
        "outputId": "2513791f-1a4d-4fd2-bd1a-6443624a6907"
      },
      "outputs": [],
      "source": [
        "%who_ls"
      ]
    },
    {
      "cell_type": "markdown",
      "metadata": {
        "id": "TUzeTkixkR-m"
      },
      "source": [
        "## Removing VDJ genes from HVG genes manually"
      ]
    },
    {
      "cell_type": "markdown",
      "metadata": {
        "id": "_T6e3bFDkR-m"
      },
      "source": [
        "### So how does T-cell receptor (TCR) differ from B-cell receptor (TCR)?\n",
        "TCR has a single pair of alpha and beta chains while BCR contains two pairs of light and heavy chains.\n",
        "\n",
        "In the examples below, TCR can be expressed as TR while BCR can be expressed as IG."
      ]
    },
    {
      "cell_type": "markdown",
      "metadata": {
        "id": "uFxm9kP2kR-m"
      },
      "source": [
        "**The code below is for BCR data.**\n",
        "\n",
        "Because this is 10x 5' data - there is a lot of VDJ genes that are picked up (in abundance), and because they do look different from each donor, it can be mis-computed as HVG - therefore, <b> REMOVE THEM </b>."
      ]
    },
    {
      "cell_type": "code",
      "execution_count": null,
      "metadata": {
        "id": "IkbCdyngkR-m",
        "scrolled": true
      },
      "outputs": [],
      "source": [
        "import re\n",
        "\n",
        "for i in adata.var.index:\n",
        "    if re.search(\"^IG[HKL][VDJC]\", i):\n",
        "        adata.var.at[i, \"highly_variable\"] = False"
      ]
    },
    {
      "cell_type": "markdown",
      "metadata": {
        "id": "ab9SfDdaAesa"
      },
      "source": [
        "It uses the `re` module, which stands for regular expressions, to search for specific patterns in the index values.\n",
        "\n",
        "Let's break down the code step by step:\n",
        "\n",
        " - `for i in adata.var.index` -> This initiates a loop that iterates over each value (i) in the index of the adata.var object.\n",
        "\n",
        " - `if re.search(\"^IG[HKL][VDJC]\", i)`\n",
        "    - This line uses regular expressions to check if the current index value (i) matches a specific pattern. The regular expression pattern is as follows:\n",
        "\n",
        "      - `^`: Asserts the position at the start of the string.\n",
        "      - `IG`: The first two characters match the characters \"IG\" literally.\n",
        "      - `[HKL]`: The next character matches either \"H\", \"K\", or \"L\".\n",
        "      - `[VDJC]`: The next character either \"V\", \"D\", \"J\", or \"C\".      \n",
        "\n",
        "Therefore, the regular expression is looking for index values that either start with \"IG\", followed by \"H\", \"K\", or \"L\", and then one of \"V\", \"D\", \"J\", or \"C\".\n",
        "\n",
        "  - `adata.var.at[i, \"highly_variable\"] = False` : If the regular expression matches the current index value (i), it sets the corresponding value of \"highly_variable\" in the adata.var object to False.\n",
        "\n",
        "In summary, this modified code is looping through the index values of the adata.var object and using a regular expression to identify specific patterns in the index values that match either the BCR V/D/J gene pattern. If a match is found, it sets the corresponding \"highly_variable\" value to False. This code could be used to mark certain entries in the adata.var object as not highly variable based on the new regular expression pattern. Just like before, it's important to ensure that you understand the data and the intention behind the code before executing it, as regular expressions can be tricky and their behavior can be sensitive to small changes in the pattern.\n",
        "\n",
        "The purpose of this code seems to be to mark certain entries in the adata.var object as \"not highly_variable\" based on the matching pattern defined in the regular expression."
      ]
    },
    {
      "cell_type": "markdown",
      "metadata": {
        "id": "6iloXesfkR-m"
      },
      "source": [
        "### Now, repeat the code but only do it from the TCR dataset\n",
        "\n",
        "Do you understand what the regex pattern is looking for now?"
      ]
    },
    {
      "cell_type": "code",
      "execution_count": null,
      "metadata": {
        "id": "oPsGbhi_kR-m"
      },
      "outputs": [],
      "source": [
        "import re\n",
        "\n",
        "for i in adata.var.index:\n",
        "    if re.search(\"^TR[AB][VDJ]\", i):\n",
        "        adata.var.at[i, \"highly_variable\"] = False"
      ]
    },
    {
      "cell_type": "markdown",
      "metadata": {
        "id": "gFTFMj45kR-m"
      },
      "source": [
        "### Now how to use one regex pattern to catch both TCR and BCR?"
      ]
    },
    {
      "cell_type": "code",
      "execution_count": null,
      "metadata": {
        "id": "wfXExXmnkR-n"
      },
      "outputs": [],
      "source": [
        "import re\n",
        "\n",
        "for i in adata.var.index:\n",
        "    if re.search(\"^TR[AB][VDJ]|^IG[HKL][VDJC]\", i):\n",
        "        adata.var.at[i, \"highly_variable\"] = False"
      ]
    },
    {
      "cell_type": "markdown",
      "metadata": {
        "id": "BfVmdgYBkR-n"
      },
      "source": [
        "Let's re-inspect the highly-variable gene list"
      ]
    },
    {
      "cell_type": "code",
      "execution_count": null,
      "metadata": {
        "colab": {
          "base_uri": "https://localhost:8080/",
          "height": 424
        },
        "id": "aJusgkwKkR-n",
        "outputId": "9903b126-4786-4ef8-ba21-dcb600c9a76c"
      },
      "outputs": [],
      "source": [
        "hvg = pd.DataFrame(adata.var.highly_variable)\n",
        "hvg_T = hvg.loc[hvg[\"highly_variable\"] == True]\n",
        "hvg_T  # 2915 genes..."
      ]
    },
    {
      "cell_type": "code",
      "execution_count": null,
      "metadata": {
        "colab": {
          "base_uri": "https://localhost:8080/",
          "height": 317
        },
        "id": "DSgM0tYMkR-n",
        "outputId": "7a84f843-ea21-4d48-a541-d30da76d0c13"
      },
      "outputs": [],
      "source": [
        "sc.pl.highly_variable_genes(adata)"
      ]
    },
    {
      "cell_type": "markdown",
      "metadata": {
        "id": "dMUZRSFYkR-n"
      },
      "source": [
        "### Explain what adata.raw, adata.layers and adata.X mean; + include examples after 40 using numpy - normal vs log-transformed\n",
        "✅ Megan: i have done up examples of normal vs log-transformed in the \"NORMALISATION\" SECTION. Not with numpy though..."
      ]
    },
    {
      "cell_type": "markdown",
      "metadata": {
        "id": "TAXfX5e_kR-n"
      },
      "source": [
        "### What is the difference between adata.raw, adata.X, and adata.raw.X?\n"
      ]
    },
    {
      "cell_type": "markdown",
      "metadata": {
        "id": "QGjvKWBskR-n"
      },
      "source": [
        "`adata.raw` = Setting the `.raw` attribute of the `AnnData` object to the normalized and logarithmized raw gene expression for later use in differential testing and visualizations of gene expression. This simply freezes the state of the AnnData object.\n",
        "\n",
        "The raw attribute is initialized with the current content of an object by setting:"
      ]
    },
    {
      "cell_type": "code",
      "execution_count": null,
      "metadata": {
        "id": "BikkOPTEkR-n"
      },
      "outputs": [],
      "source": [
        "adata.raw = adata"
      ]
    },
    {
      "cell_type": "markdown",
      "metadata": {
        "id": "ypSyLJXOkR-n"
      },
      "source": [
        "You can get back an AnnData of the object in .raw by calling .raw.to_adata()."
      ]
    },
    {
      "cell_type": "code",
      "execution_count": null,
      "metadata": {
        "colab": {
          "base_uri": "https://localhost:8080/"
        },
        "id": "F3wbWfOnkR-n",
        "outputId": "e2a2fd23-291f-41ff-dfbf-a126ebd2f8bd"
      },
      "outputs": [],
      "source": [
        "test_data = adata.raw.to_adata()\n",
        "test_data"
      ]
    },
    {
      "cell_type": "markdown",
      "metadata": {
        "id": "6SxuGKBikR-o"
      },
      "source": [
        "adata.X represents the data matrix of n_obs × n_var and so is referencing an explicit layer of .X"
      ]
    },
    {
      "cell_type": "markdown",
      "metadata": {
        "id": "tOeveiMGkR-o"
      },
      "source": [
        "But in our case we will need the .raw attribute to run the next line"
      ]
    },
    {
      "cell_type": "markdown",
      "metadata": {
        "id": "Ob6rvq5DkR-o"
      },
      "source": [
        "# 3. Perform Dimensionality Reduction"
      ]
    },
    {
      "cell_type": "markdown",
      "metadata": {
        "id": "Vu0IpuaAkR-o"
      },
      "source": [
        "## 3a. PCA"
      ]
    },
    {
      "cell_type": "code",
      "execution_count": null,
      "metadata": {
        "colab": {
          "base_uri": "https://localhost:8080/"
        },
        "id": "ujCYgSqikR-o",
        "outputId": "061efc30-09a4-4688-98b8-3bf288c70c70",
        "scrolled": true
      },
      "outputs": [],
      "source": [
        "# Actually do the filtering for PCA\n",
        "adata = adata[\n",
        "    :, adata.var.highly_variable\n",
        "].copy()  # all rows/indexes : columns only selecting for those within high_variable, and then making a copy of itself\n",
        "adata"
      ]
    },
    {
      "cell_type": "markdown",
      "metadata": {
        "id": "SpJWxehWkR-o"
      },
      "source": [
        "#### Regress out effects of \"total_counts\" per cell and percentage of mt genes expressed (\"pct_counts_mt\")."
      ]
    },
    {
      "cell_type": "code",
      "execution_count": null,
      "metadata": {
        "id": "FJnkYcs4kR-p"
      },
      "outputs": [],
      "source": [
        "sc.pp.regress_out(adata, [\"total_counts\", \"pct_counts_mt\"])"
      ]
    },
    {
      "cell_type": "markdown",
      "metadata": {
        "id": "42fj9mNVkR-p"
      },
      "source": [
        "#### Scale each gene to unit variance. Clip values exceeding std of 10."
      ]
    },
    {
      "cell_type": "code",
      "execution_count": null,
      "metadata": {
        "id": "ek0WgP_6kR-p"
      },
      "outputs": [],
      "source": [
        "sc.pp.scale(adata, max_value=10)"
      ]
    },
    {
      "cell_type": "markdown",
      "metadata": {
        "id": "A_-iOqLQkR-p"
      },
      "source": [
        ">❓Why do we need to scale the data?"
      ]
    },
    {
      "cell_type": "markdown",
      "metadata": {
        "id": "wbtw6adP0ZrJ"
      },
      "source": [
        "🔔 OPTIONAL - Scaling the data adjusts the expression values of genes across cells to make them more comparable. How do we confirm?"
      ]
    },
    {
      "cell_type": "code",
      "execution_count": null,
      "metadata": {
        "colab": {
          "base_uri": "https://localhost:8080/"
        },
        "id": "Wshbdq3bhQcr",
        "outputId": "24f15ae6-31c3-400b-a6a8-a8ddff2b3ace"
      },
      "outputs": [],
      "source": [
        "## OPTIONAL\n",
        "# It often involves a centering and scaling step, which will typically give negative - positive values in a small range.\n",
        "\n",
        "scaled_df = adata.to_df()\n",
        "print(scaled_df[5:])\n",
        "\n",
        "# To see this, we will look at the min, max and max sum of gene values for each cell.\n",
        "\n",
        "# Get the min values in all rows combined\n",
        "min_value_all_rows = scaled_df.min().min()\n",
        "print(\"Min gene count in a cell is\", min_value_all_rows)\n",
        "\n",
        "# Calculate row sums and find the maximum\n",
        "max_row_sum = scaled_df.sum(axis=1).max()\n",
        "print(\"Max total gene counts in a cell is\", max_row_sum)\n",
        "\n",
        "# Find the maximum value in all rows combined\n",
        "max_value_all_rows = scaled_df.max().max()\n",
        "print(\"Max gene count in a cell is\", max_value_all_rows)"
      ]
    },
    {
      "cell_type": "code",
      "execution_count": null,
      "metadata": {
        "id": "teCcK9a9kR-p"
      },
      "outputs": [],
      "source": [
        "## get PCA\n",
        "sc.tl.pca(adata, svd_solver=\"arpack\")"
      ]
    },
    {
      "cell_type": "code",
      "execution_count": null,
      "metadata": {
        "colab": {
          "base_uri": "https://localhost:8080/",
          "height": 338
        },
        "id": "mcpaEBtGkR-p",
        "outputId": "9167b905-d565-4692-bdcb-7ce26df121ac"
      },
      "outputs": [],
      "source": [
        "# get elbow plot to see variance contribution by each pc\n",
        "sc.pl.pca_variance_ratio(adata, log=True, n_pcs=50)"
      ]
    },
    {
      "cell_type": "code",
      "execution_count": null,
      "metadata": {
        "id": "hRv3VFrkkR-p"
      },
      "outputs": [],
      "source": [
        "## Computing neighbourhood graph - here UMAP\n",
        "sc.pp.neighbors(adata, n_neighbors=10, n_pcs=40)\n",
        "\n",
        "## n_neighbor: The size of local neighborhood (in terms of number of neighboring data\n",
        "# points) used for manifold approximation. Larger values result in more\n",
        "# global views of the manifold, while smaller values result in more local\n",
        "# data being preserved. In general values should be in the range 2 to 100.\n",
        "# If `knn` is `True`, number of nearest neighbors to be searched. If `knn`\n",
        "# is `False`, a Gaussian kernel width is set to the distance of the\n",
        "# `n_neighbors` neighbor."
      ]
    },
    {
      "cell_type": "markdown",
      "metadata": {
        "id": "FtYnUP9CkR-p"
      },
      "source": [
        "## 3b. UMAP Visualisation"
      ]
    },
    {
      "cell_type": "markdown",
      "metadata": {
        "id": "6E3XVolNkR-p"
      },
      "source": [
        "Embedding the neighbourhood graph using UMAP"
      ]
    },
    {
      "cell_type": "code",
      "execution_count": null,
      "metadata": {
        "id": "0iNxC3D2kR-q"
      },
      "outputs": [],
      "source": [
        "sc.tl.umap(adata, min_dist=0.3)  # 0.3 is personal preference"
      ]
    },
    {
      "cell_type": "markdown",
      "metadata": {
        "id": "AXE8XTElkR-q"
      },
      "source": [
        "#### Visualise UMAP:"
      ]
    },
    {
      "cell_type": "code",
      "execution_count": null,
      "metadata": {
        "colab": {
          "base_uri": "https://localhost:8080/",
          "height": 873
        },
        "id": "wESPRZGBkR-q",
        "outputId": "408f7413-c6d2-4392-f2ed-c16eaa3e6103"
      },
      "outputs": [],
      "source": [
        "sc.pl.umap(\n",
        "    adata,\n",
        "    color=[\n",
        "        \"sample\",\n",
        "        \"sort_type\",\n",
        "        \"donor\",\n",
        "    ],\n",
        "    ncols=1,\n",
        ")"
      ]
    },
    {
      "cell_type": "markdown",
      "metadata": {
        "id": "QySDnXhX09Ei"
      },
      "source": [
        "🔔 plotting multiple small umaps of the same parameter, similar to faceting/split.by\n",
        "##### https://github.com/scverse/scanpy/issues/955"
      ]
    },
    {
      "cell_type": "code",
      "execution_count": null,
      "metadata": {
        "id": "toaOGO_UkR-q"
      },
      "outputs": [],
      "source": [
        "def cluster_small_multiples(\n",
        "    adata, clust_key, size=30, frameon=False, legend_loc=None, **kwargs\n",
        "):\n",
        "    tmp = adata.copy()\n",
        "\n",
        "    for i, clust in enumerate(adata.obs[clust_key].cat.categories):\n",
        "        tmp.obs[clust] = adata.obs[clust_key].isin([clust]).astype(\"category\")\n",
        "        tmp.uns[clust + \"_colors\"] = [\"#d3d3d3\", adata.uns[clust_key + \"_colors\"][i]]\n",
        "\n",
        "    sc.pl.umap(\n",
        "        tmp,\n",
        "        groups=tmp.obs[clust].cat.categories[1:].values,\n",
        "        color=adata.obs[clust_key].cat.categories.tolist(),\n",
        "        size=size,\n",
        "        frameon=frameon,\n",
        "        legend_loc=legend_loc,\n",
        "        **kwargs\n",
        "    )"
      ]
    },
    {
      "cell_type": "code",
      "execution_count": null,
      "metadata": {
        "colab": {
          "base_uri": "https://localhost:8080/",
          "height": 297
        },
        "id": "ntMI0LDgkR-q",
        "outputId": "f25109e5-22e7-48bc-cdf2-f919bf89f886"
      },
      "outputs": [],
      "source": [
        "cluster_small_multiples(adata, \"sort_type\")"
      ]
    },
    {
      "cell_type": "code",
      "execution_count": null,
      "metadata": {
        "colab": {
          "base_uri": "https://localhost:8080/",
          "height": 297
        },
        "id": "5k3v3RINkR-q",
        "outputId": "e917606b-89e1-49f6-8c96-69623c572243"
      },
      "outputs": [],
      "source": [
        "cluster_small_multiples(adata, \"donor\")"
      ]
    },
    {
      "cell_type": "markdown",
      "metadata": {
        "id": "gZWTFqDekR-q"
      },
      "source": [
        "Next, I want to visualise key lineage genes on the UMAP that is subset by their sort_type.\n",
        "\n",
        "####❓ Can I do a quick QC: subset data by sort type, and plot the relevant marker genes on them?\n",
        "\n",
        "We can create an object by sorting for CD4 and then check the table of variables:"
      ]
    },
    {
      "cell_type": "code",
      "execution_count": null,
      "metadata": {
        "colab": {
          "base_uri": "https://localhost:8080/",
          "height": 860
        },
        "id": "t_Eu2vepkR-q",
        "outputId": "c1b452c2-5bb6-4def-bf3f-433fc5c7f20b"
      },
      "outputs": [],
      "source": [
        "adata.obs.info()\n",
        "adata_CD4 = adata[adata.obs[\"sort_type\"] == \"CD4\"]\n",
        "adata_CD4.obs"
      ]
    },
    {
      "cell_type": "markdown",
      "metadata": {
        "id": "g0LgAIUKkR-q"
      },
      "source": [
        "## What are relevant genes for CD4 and CD8?"
      ]
    },
    {
      "cell_type": "markdown",
      "metadata": {
        "id": "Mtht94W2kR-q"
      },
      "source": [
        "### Plot CD8 on adata_CD4\n",
        "Check what CD8 gene is annotated as...\n",
        "\n",
        "How would you colour the plot by?\n",
        "\n",
        "(Instruction to host: Remove everything after colour =...)"
      ]
    },
    {
      "cell_type": "code",
      "execution_count": null,
      "metadata": {
        "colab": {
          "base_uri": "https://localhost:8080/",
          "height": 316
        },
        "id": "93zj_MjWkR-r",
        "outputId": "cadca679-f3c0-45bd-f6cc-fdb3acbf3ab3",
        "scrolled": true
      },
      "outputs": [],
      "source": [
        "sc.pl.umap(adata_CD4, color=[\"sort_type\", \"CD4\", \"CD8B\"], ncols=3)"
      ]
    },
    {
      "cell_type": "markdown",
      "metadata": {
        "id": "rclqbXENkR-r"
      },
      "source": [
        "### How would you sort for CD8?\n",
        "#### Create an object for CD8 sorted cells and plot it as a UMAP\n"
      ]
    },
    {
      "cell_type": "code",
      "execution_count": null,
      "metadata": {
        "colab": {
          "base_uri": "https://localhost:8080/",
          "height": 316
        },
        "id": "2DGc-Sg7kR-r",
        "outputId": "154ece33-b971-495a-8d5e-a54f0e56cf74",
        "scrolled": true
      },
      "outputs": [],
      "source": [
        "adata_CD8 = adata[adata.obs[\"sort_type\"] == \"CD8\"]\n",
        "adata_CD8.obs\n",
        "sc.pl.umap(adata_CD8, color=[\"sort_type\", \"CD4\", \"CD8B\"], ncols=3)"
      ]
    },
    {
      "cell_type": "markdown",
      "metadata": {
        "id": "UVjhvALTkR-r"
      },
      "source": [
        "### Repeat for DP sort.."
      ]
    },
    {
      "cell_type": "code",
      "execution_count": null,
      "metadata": {
        "colab": {
          "base_uri": "https://localhost:8080/",
          "height": 316
        },
        "id": "MRL_ePU4kR-r",
        "outputId": "38e1e115-b5cb-45ad-9e41-d7ef8c7d9eea"
      },
      "outputs": [],
      "source": [
        "adata_DP = adata[adata.obs[\"sort_type\"] == \"DP\"]\n",
        "adata_DP.obs\n",
        "sc.pl.umap(adata_DP, color=[\"sort_type\", \"CD4\", \"CD8B\"], ncols=3)\n",
        "\n",
        "## expression of CD4 in general isn't great... But most of the DP sorted cells seem to sit closer to the middle where CD4-sorted cells are."
      ]
    },
    {
      "cell_type": "markdown",
      "metadata": {
        "id": "E2X-6HSXkR-r"
      },
      "source": [
        "## Another way of plotting..."
      ]
    },
    {
      "cell_type": "markdown",
      "metadata": {
        "id": "bsPBQirakR-r"
      },
      "source": [
        "## How would you visualise different T cell marker genes? ❓\n",
        "\n",
        "Earlier, we saw genes CD4, CD8B. What are other cell surface markers found on T cells?\n",
        "\n",
        "Some hints from https://www.nature.com/articles/s41467-019-12464-3"
      ]
    },
    {
      "cell_type": "code",
      "execution_count": null,
      "metadata": {
        "colab": {
          "base_uri": "https://localhost:8080/",
          "height": 1000
        },
        "id": "6oD7dsU4kR-r",
        "outputId": "8388a38a-fae5-45ce-ff2b-0177485edebd"
      },
      "outputs": [],
      "source": [
        "sc.pl.umap(\n",
        "    adata,\n",
        "    color=[\n",
        "        \"CD4\",\n",
        "        \"CD8B\",\n",
        "        \"FOXP3\",\n",
        "        \"SELL\",\n",
        "        \"CCR7\",\n",
        "        \"MKI67\",\n",
        "        \"NKG7\",\n",
        "        \"GATA3\",\n",
        "        \"RORC\",\n",
        "        \"CXCR5\",\n",
        "        \"CD69\",\n",
        "        \"GZMK\",\n",
        "    ],\n",
        "    ncols=3,\n",
        "    size=5,\n",
        "    color_map=tools.cmp(),\n",
        ")"
      ]
    },
    {
      "cell_type": "markdown",
      "metadata": {
        "id": "sKVfk3VDBiBp"
      },
      "source": []
    },
    {
      "cell_type": "markdown",
      "metadata": {
        "id": "SIhNqsqUBT0D"
      },
      "source": [
        ">>❓ **POP QUIZ: What does it mean when you try plotting a gene and it spits out an error to say that the gene cannot be found? **"
      ]
    },
    {
      "cell_type": "markdown",
      "metadata": {
        "id": "IDyD8P139xjO"
      },
      "source": [
        "**🔔** Note: This is something for later in \"BATCH CORRECTION\""
      ]
    },
    {
      "cell_type": "code",
      "execution_count": null,
      "metadata": {
        "colab": {
          "base_uri": "https://localhost:8080/"
        },
        "id": "pRheEhJYkR-s",
        "outputId": "1f243435-0318-42b3-be55-be7e4c11cff9"
      },
      "outputs": [],
      "source": [
        "adata.uns[\"log1p\"]\n",
        "# {'base': None}"
      ]
    },
    {
      "cell_type": "markdown",
      "metadata": {
        "id": "reeCERKfkR-s"
      },
      "source": [
        "Let's just save this..."
      ]
    },
    {
      "cell_type": "code",
      "execution_count": null,
      "metadata": {
        "id": "Y_B9FBMHkR-s"
      },
      "outputs": [],
      "source": [
        "adata.write_h5ad(\"adata_processed_v2_MS_070823.h5ad\", compression=\"gzip\")"
      ]
    },
    {
      "cell_type": "markdown",
      "metadata": {
        "id": "UANOpkXakR-s"
      },
      "source": [
        "# 4. Batch Correction"
      ]
    },
    {
      "cell_type": "markdown",
      "metadata": {
        "id": "hIHX7ui9kR-s"
      },
      "source": [
        "##### There are a number of methods or algorithms that can combine diverse datasets and remove batch effects. We call that batch correction.\n",
        "\n",
        "##### Batch balanced k nearest neighbour (BBKNN) is a fairly recent algorithm that is \"one to two orders of magnitude faster than existing methods\". More info: https://academic.oup.com/bioinformatics/article/36/3/964/5545955\n",
        "\n",
        "##### BBKNN is batch effect removal tool that can be directly used in the scanpy workflow.\n",
        "##### It serves as an alternative to scanpy.pp.neighbors(), with both functions creating a neighbour graph for subsequent use in clustering, pseudotime and UMAP visualisation"
      ]
    },
    {
      "cell_type": "markdown",
      "metadata": {
        "id": "vv9e2w01950q"
      },
      "source": [
        ">❓Why do we want to batch-correct? Especially in cases where there are \"variation\" in your dataset such as multiple donors, you will usually see these coming up and influencing your data structure."
      ]
    },
    {
      "cell_type": "code",
      "execution_count": null,
      "metadata": {
        "colab": {
          "base_uri": "https://localhost:8080/",
          "height": 297
        },
        "id": "_yu_A56ZlFBb",
        "outputId": "a5d0186b-edaf-42a2-f956-683f436c5d6d"
      },
      "outputs": [],
      "source": [
        "cluster_small_multiples(adata, \"donor\")"
      ]
    },
    {
      "cell_type": "markdown",
      "metadata": {
        "id": "tK9hyCevkR-s"
      },
      "source": [
        "## Batch correction with BBKNN"
      ]
    },
    {
      "cell_type": "markdown",
      "metadata": {
        "id": "bKKeXBfPkR-s"
      },
      "source": [
        "Running BBKNN\n",
        "https://scanpy-tutorials.readthedocs.io/en/latest/integrating-data-using-ingest.html\n",
        "\n",
        "To run BBKNN, you can either continue on from before, or re-start by importing the object you have previously saved. NOTE: No batch-correction has been done prior to this."
      ]
    },
    {
      "cell_type": "code",
      "execution_count": null,
      "metadata": {
        "id": "HMrUAduIkR-s"
      },
      "outputs": [],
      "source": [
        "adata = sc.read_h5ad(\"adata_processed_v2_MS_070823.h5ad\")"
      ]
    },
    {
      "cell_type": "code",
      "execution_count": null,
      "metadata": {
        "colab": {
          "base_uri": "https://localhost:8080/"
        },
        "id": "1jBVHuIYkR-s",
        "outputId": "5970d171-6034-4310-879d-665b3a695a78",
        "scrolled": true
      },
      "outputs": [],
      "source": [
        "adata.uns[\"log1p\"]"
      ]
    },
    {
      "cell_type": "markdown",
      "metadata": {
        "id": "Gp-REA6LkR-s"
      },
      "source": [
        "🔔 Note it is empty now - this happens after the save h5ad step! https://github.com/scverse/scanpy/issues/2239    And if you continue from here, there is an issue as BBKNN doesn't like this slot to be empty.."
      ]
    },
    {
      "cell_type": "markdown",
      "metadata": {
        "id": "esrupPagkR-t"
      },
      "source": [
        "Install `bbknn` if you haven't. Just uncomment the next line and run it."
      ]
    },
    {
      "cell_type": "code",
      "execution_count": null,
      "metadata": {
        "id": "Qth14LgVkR-t",
        "scrolled": true
      },
      "outputs": [],
      "source": [
        "# !pip install bbknn"
      ]
    },
    {
      "cell_type": "markdown",
      "metadata": {
        "id": "8YDMPLQtkR-t"
      },
      "source": [
        "#### Apply bbknn to batch correct by sample"
      ]
    },
    {
      "cell_type": "code",
      "execution_count": null,
      "metadata": {
        "colab": {
          "base_uri": "https://localhost:8080/"
        },
        "id": "vSa1S1_QkR-t",
        "outputId": "3caffe15-06d9-47cc-9ff7-b3303b739e51"
      },
      "outputs": [],
      "source": [
        "sc.external.pp.bbknn(adata, batch_key=\"sample\")"
      ]
    },
    {
      "cell_type": "markdown",
      "metadata": {
        "id": "D6UkfkLF-Zf_"
      },
      "source": [
        "🔔 If you didn't read in the saved h5ad `adata_processed_v2_MS_070823.h5ad`, but just continued from the workflow PRIOR to \"Batch-correction\" then your output of `adata.uns.pop(\"log1p\")= {'base' : None}` which won't be an issue.\n",
        "But if not, this code chunk will automatically remove the problematic slot if it's there."
      ]
    },
    {
      "cell_type": "code",
      "execution_count": null,
      "metadata": {
        "id": "dEWeVMuQkR-t"
      },
      "outputs": [],
      "source": [
        "try:\n",
        "    adata.uns.pop(\"log1p\")\n",
        "except:\n",
        "    pass"
      ]
    },
    {
      "cell_type": "markdown",
      "metadata": {
        "id": "l0GuOX34kR-t"
      },
      "source": [
        "### Plotting the neighbourhood graph using bbknn\n",
        "\n",
        "Note: we skip neighbourhood construction step as bbknn does that already\n",
        "min_dist : float (default: 0.5).\n",
        "\n",
        "The effective minimum distance between embedded points. Smaller values will result in a more clustered/clumped embedding where nearby points on the manifold are drawn closer together, while larger values will result on a more even dispersal of points. The value should be set relative to the spread value, which determines the scale at which embedded points will be spread out.\n",
        "\n",
        "The default in the umap-learn package is 0.1. Try inserting different values to find your personal preference in the next few steps through visualisation."
      ]
    },
    {
      "cell_type": "code",
      "execution_count": null,
      "metadata": {
        "id": "MCrYWuoykR-t"
      },
      "outputs": [],
      "source": [
        "sc.tl.umap(adata, min_dist=0.3)"
      ]
    },
    {
      "cell_type": "markdown",
      "metadata": {
        "id": "ate1Tv4gkR-t"
      },
      "source": [
        "#### ❓How would you visualise this across the three main T cell types? You can do a loop too"
      ]
    },
    {
      "cell_type": "code",
      "execution_count": null,
      "metadata": {
        "colab": {
          "base_uri": "https://localhost:8080/",
          "height": 902
        },
        "id": "kX4naHxAkR-t",
        "outputId": "65e0dce7-7a91-4d7e-bb90-31f42e76e231"
      },
      "outputs": [],
      "source": [
        "for g in [\"CD4\", \"CD8\", \"DP\"]:\n",
        "    sc.pl.umap(\n",
        "        adata,\n",
        "        color=[\"sort_type\"],\n",
        "        groups=g,\n",
        "        na_in_legend=False,\n",
        "    )"
      ]
    },
    {
      "cell_type": "markdown",
      "metadata": {
        "id": "kXmkBkRkkR-u"
      },
      "source": [
        "#### How would you visualise by donor? Create a different loop this time and plot the UMAP:"
      ]
    },
    {
      "cell_type": "code",
      "execution_count": null,
      "metadata": {
        "colab": {
          "base_uri": "https://localhost:8080/",
          "height": 1000
        },
        "id": "eqN1MJaHkR-u",
        "outputId": "7aa2660a-0afb-453d-9477-fe2a54826d61",
        "scrolled": true
      },
      "outputs": [],
      "source": [
        "adata.obs[\"donor\"]  # L01, P01, V, WY\n",
        "# visualise this..\n",
        "for d in [\"L01\", \"P01\", \"V\", \"WY\"]:\n",
        "    sc.pl.umap(\n",
        "        adata,\n",
        "        color=[\"donor\"],\n",
        "        groups=d,\n",
        "        na_in_legend=False,\n",
        "    )"
      ]
    },
    {
      "cell_type": "markdown",
      "metadata": {
        "id": "9AvNNcuBkR-u"
      },
      "source": [
        "### Inspect the changes post-batch correction.\n",
        "\n",
        "#### Now how do you sort for CD4 T cells? And then display them in UMAPs?"
      ]
    },
    {
      "cell_type": "code",
      "execution_count": null,
      "metadata": {
        "colab": {
          "base_uri": "https://localhost:8080/",
          "height": 316
        },
        "id": "CxGzWxAskR-u",
        "outputId": "8fcea324-b93a-49b9-e239-7e2e313abe44",
        "scrolled": true
      },
      "outputs": [],
      "source": [
        "adata_CD4 = adata[adata.obs[\"sort_type\"] == \"CD4\"]\n",
        "adata_CD4.obs\n",
        "sc.pl.umap(adata_CD4, color=[\"sort_type\", \"donor\", \"CD4\", \"CD8B\"], ncols=4, size=20)"
      ]
    },
    {
      "cell_type": "markdown",
      "metadata": {
        "id": "fzZYD19VkR-u"
      },
      "source": [
        "### Inspect changes post-batch correction\n",
        "\n",
        "#### Now how do you sort for CD8 T cells? And then display them in UMAPs?"
      ]
    },
    {
      "cell_type": "code",
      "execution_count": null,
      "metadata": {
        "colab": {
          "base_uri": "https://localhost:8080/",
          "height": 316
        },
        "id": "Ht-Bh5fRkR-u",
        "outputId": "2e7e2728-d8c0-4f06-eeed-04ec26e353b7",
        "scrolled": true
      },
      "outputs": [],
      "source": [
        "adata_CD8 = adata[adata.obs[\"sort_type\"] == \"CD8\"]\n",
        "adata_CD8.obs\n",
        "sc.pl.umap(adata_CD8, color=[\"sort_type\", \"donor\", \"CD4\", \"CD8B\"], ncols=4, size=20)"
      ]
    },
    {
      "cell_type": "markdown",
      "metadata": {
        "id": "hI7EGixikR-u"
      },
      "source": [
        "#### Now how do you sort for DP T cells? And then display them in UMAPs?"
      ]
    },
    {
      "cell_type": "code",
      "execution_count": null,
      "metadata": {
        "colab": {
          "base_uri": "https://localhost:8080/",
          "height": 316
        },
        "id": "UzuO15GwkR-u",
        "outputId": "8d3e022c-a732-43b8-eb65-785f1ba85e9b"
      },
      "outputs": [],
      "source": [
        "adata_DP = adata[adata.obs[\"sort_type\"] == \"DP\"]\n",
        "adata_DP.obs\n",
        "sc.pl.umap(adata_DP, color=[\"sort_type\", \"donor\", \"CD4\", \"CD8B\"], ncols=4, size=20)"
      ]
    },
    {
      "cell_type": "markdown",
      "metadata": {
        "id": "Zk7PHYPVkR-u"
      },
      "source": [
        "❓Why are there CD4-sorted T cells also found in the CD8 cluster, but they are with low expression of CD4??\n",
        "\n",
        "As a starting point, let's visualise some QC metrics.. if needed, we can just recluster and compare downstream. The tail bit of umap seems to be a bit higher in mito content, but otherwise nothing seems too out of the blue.\n"
      ]
    },
    {
      "cell_type": "code",
      "execution_count": null,
      "metadata": {
        "colab": {
          "base_uri": "https://localhost:8080/",
          "height": 316
        },
        "id": "wj7FnJ5_kR-u",
        "outputId": "e6f8fddb-dc09-46a6-9d4e-40a26209adb9",
        "scrolled": true
      },
      "outputs": [],
      "source": [
        "adata.obs\n",
        "# n_genes_by_counts, total_cpunts, pct_count_mt, filter_rna\n",
        "\n",
        "sc.pl.umap(\n",
        "    adata,\n",
        "    color=[\"n_genes_by_counts\", \"total_counts\", \"pct_counts_mt\"],\n",
        "    ncols=3,\n",
        "    size=20,\n",
        "    color_map=tools.cmp(),\n",
        ")"
      ]
    },
    {
      "cell_type": "markdown",
      "metadata": {
        "id": "XwBlWOOwkR-v"
      },
      "source": [
        "### How do you visualize the expression of common T cell markers across the entire data set in three columns?\n",
        "\n",
        "🔔 Hint: Using the same markers as we did earlier?"
      ]
    },
    {
      "cell_type": "code",
      "execution_count": null,
      "metadata": {
        "colab": {
          "base_uri": "https://localhost:8080/",
          "height": 1000
        },
        "id": "2LdqMLbvkR-v",
        "outputId": "5ffcd86a-361b-4a61-c9d4-0a5cbc342a55"
      },
      "outputs": [],
      "source": [
        "sc.pl.umap(\n",
        "    adata,\n",
        "    color=[\n",
        "        \"CD4\",\n",
        "        \"CD8B\",\n",
        "        \"FOXP3\",\n",
        "        \"SELL\",\n",
        "        \"CCR7\",\n",
        "        \"MKI67\",\n",
        "        \"NKG7\",\n",
        "        \"GATA3\",\n",
        "        \"RORC\",\n",
        "        \"CXCR5\",\n",
        "        \"CD69\",\n",
        "        \"GZMK\",\n",
        "    ],\n",
        "    ncols=3,\n",
        "    size=5,\n",
        "    color_map=tools.cmp(),\n",
        ")"
      ]
    },
    {
      "cell_type": "markdown",
      "metadata": {
        "id": "C_YgsI8skR-v"
      },
      "source": [
        "### Comments:✋\n",
        "These cells are not too different transcriptionally - because they are simply T cells?\n",
        "Also, umap seems to cluster more based on \"activation status\" and then \"cell lineage\"\n",
        "But we can see that most of the DP cells are located within the middle where the bulk of CD4 cells are."
      ]
    },
    {
      "cell_type": "markdown",
      "metadata": {
        "id": "mzHz4EgTkR-v"
      },
      "source": [
        "## Save post-BBKNN"
      ]
    },
    {
      "cell_type": "code",
      "execution_count": null,
      "metadata": {
        "id": "6StZn0pukR-v"
      },
      "outputs": [],
      "source": [
        "adata.write_h5ad(\"adata_processed_v2_BBKNN_MS_100823.h5ad\", compression=\"gzip\")"
      ]
    },
    {
      "cell_type": "code",
      "execution_count": null,
      "metadata": {
        "colab": {
          "base_uri": "https://localhost:8080/"
        },
        "id": "BY2mTxubkR-v",
        "outputId": "76ad67fb-2afa-4d0e-df33-9676250b4d92"
      },
      "outputs": [],
      "source": [
        "sc.external.pp.bbknn(adata, batch_key=\"donor\")"
      ]
    },
    {
      "cell_type": "code",
      "execution_count": null,
      "metadata": {
        "id": "5-ZDdezRkR-v"
      },
      "outputs": [],
      "source": [
        "sc.tl.umap(adata, min_dist=0.3)"
      ]
    },
    {
      "cell_type": "markdown",
      "metadata": {
        "id": "sihozZZskR-v"
      },
      "source": [
        "### How do you visualise CD4, CD8 and DP T cells by donor post-BBKNN batch correction?"
      ]
    },
    {
      "cell_type": "code",
      "execution_count": null,
      "metadata": {
        "colab": {
          "base_uri": "https://localhost:8080/",
          "height": 902
        },
        "id": "JVXRAJ-CkR-v",
        "outputId": "c0390fab-b681-40ef-efa9-6bbc0dde5afe"
      },
      "outputs": [],
      "source": [
        "for g in [\"CD4\", \"CD8\", \"DP\"]:\n",
        "    sc.pl.umap(\n",
        "        adata,\n",
        "        color=[\"sort_type\"],\n",
        "        groups=g,\n",
        "        na_in_legend=False,\n",
        "    )"
      ]
    },
    {
      "cell_type": "markdown",
      "metadata": {
        "id": "IQGi1nQ0E6mL"
      },
      "source": [
        "### How to visualise individual UMAPS based of each donor type?"
      ]
    },
    {
      "cell_type": "code",
      "execution_count": null,
      "metadata": {
        "colab": {
          "base_uri": "https://localhost:8080/",
          "height": 1000
        },
        "id": "lvOm5SHQkR-w",
        "outputId": "08ce3d8d-22eb-4b7f-c69d-64a6ef6f887e"
      },
      "outputs": [],
      "source": [
        "adata.obs[\"donor\"]  # L01, P01, V, WY\n",
        "\n",
        "for d in [\"L01\", \"P01\", \"V\", \"WY\"]:\n",
        "    sc.pl.umap(\n",
        "        adata,\n",
        "        color=[\"donor\"],\n",
        "        groups=d,\n",
        "        na_in_legend=False,\n",
        "    )"
      ]
    },
    {
      "cell_type": "markdown",
      "metadata": {
        "id": "vy8a8XeukR-w"
      },
      "source": [
        "# Read in Data post-BBKNN"
      ]
    },
    {
      "cell_type": "code",
      "execution_count": null,
      "metadata": {
        "id": "vvYvrRnAkR-w"
      },
      "outputs": [],
      "source": [
        "adata = sc.read_h5ad(\"adata_processed_v2_BBKNN_MS_100823.h5ad\")\n",
        "try:\n",
        "    adata.uns.pop(\"log1p\")\n",
        "except:\n",
        "    pass"
      ]
    },
    {
      "cell_type": "code",
      "execution_count": null,
      "metadata": {
        "id": "4QhCzf2EkR-w"
      },
      "outputs": [],
      "source": [
        "sc.tl.umap(adata, min_dist=0.3)"
      ]
    },
    {
      "cell_type": "markdown",
      "metadata": {
        "id": "zt5azf7CkR-w"
      },
      "source": [
        "#### Visualise this, you can do it with a loop too:"
      ]
    },
    {
      "cell_type": "code",
      "execution_count": null,
      "metadata": {
        "colab": {
          "base_uri": "https://localhost:8080/",
          "height": 902
        },
        "id": "NPu08cjnkR-w",
        "outputId": "d127c7d0-d0c8-4249-f12c-76651f8ad446"
      },
      "outputs": [],
      "source": [
        "for g in [\"CD4\", \"CD8\", \"DP\"]:\n",
        "    sc.pl.umap(adata, color=[\"sort_type\"], groups=g, size=20)"
      ]
    },
    {
      "cell_type": "markdown",
      "metadata": {
        "id": "rZmafZwBkR-w"
      },
      "source": [
        "### How do I view proportion of CD4 expression in CD8+ cells? ❓\n",
        "\n",
        "🔔 Hint: you can use a method of score_genes under scanpy. Then visualise the score by plotting the umap."
      ]
    },
    {
      "cell_type": "code",
      "execution_count": null,
      "metadata": {
        "id": "rdn60t1bkR-w"
      },
      "outputs": [],
      "source": [
        "sc.tl.score_genes(adata, gene_list=[\"CD4\", \"CD8B\", \"CD8A\"], score_name=\"CD4.CD8.score\")"
      ]
    },
    {
      "cell_type": "code",
      "execution_count": null,
      "metadata": {
        "colab": {
          "base_uri": "https://localhost:8080/",
          "height": 313
        },
        "id": "dCZhJ8b0kR-w",
        "outputId": "d17a8277-43e6-4b8b-a11f-870e534825a6"
      },
      "outputs": [],
      "source": [
        "sc.pl.umap(adata, color=\"CD4.CD8.score\", size=10)"
      ]
    },
    {
      "cell_type": "markdown",
      "metadata": {
        "id": "xLBi-tMnkR-x"
      },
      "source": [
        "### Now that we've seen what a batch corrected data is visualised on a UMAP, let's compare it with the UMAP of our adata:\n",
        "We'll name the previous non-batch corrected data as \"preadata\""
      ]
    },
    {
      "cell_type": "code",
      "execution_count": null,
      "metadata": {
        "id": "jQRgBv6vkR-x"
      },
      "outputs": [],
      "source": [
        "preadata = sc.read_h5ad(\"adata_processed_v2_MS_070823.h5ad\")\n",
        "try:\n",
        "    preadata.uns.pop(\"log1p\")\n",
        "except:\n",
        "    pass"
      ]
    },
    {
      "cell_type": "code",
      "execution_count": null,
      "metadata": {
        "id": "UbVN8V0-kR-x"
      },
      "outputs": [],
      "source": [
        "sc.tl.umap(preadata, min_dist=0.3)"
      ]
    },
    {
      "cell_type": "code",
      "execution_count": null,
      "metadata": {
        "id": "-QIbflU4kR-x"
      },
      "outputs": [],
      "source": [
        "sc.tl.score_genes(\n",
        "    preadata, gene_list=[\"CD4\", \"CD8B\", \"CD8A\"], score_name=\"CD4.CD8.score\"\n",
        ")"
      ]
    },
    {
      "cell_type": "code",
      "execution_count": null,
      "metadata": {
        "colab": {
          "base_uri": "https://localhost:8080/",
          "height": 313
        },
        "id": "8h5WFYK_kR-x",
        "outputId": "3427f1bd-4c66-4038-bd15-1a7afcf091a4"
      },
      "outputs": [],
      "source": [
        "sc.pl.umap(preadata, color=\"CD4.CD8.score\", size=10)"
      ]
    },
    {
      "cell_type": "markdown",
      "metadata": {
        "id": "fBgaUUnukR-x"
      },
      "source": [
        "❓ - So can you see the difference in the UMAPs pre- and post-batch correction?\n",
        "\n",
        "Now, moving back to our batch corrected adata object, let's check the annotations of variables:"
      ]
    },
    {
      "cell_type": "code",
      "execution_count": null,
      "metadata": {
        "colab": {
          "base_uri": "https://localhost:8080/",
          "height": 424
        },
        "id": "iceXkDT7kR-y",
        "outputId": "746d99ba-ccd4-4b02-fee8-3595b24680ed"
      },
      "outputs": [],
      "source": [
        "adata.var"
      ]
    },
    {
      "cell_type": "markdown",
      "metadata": {
        "id": "0vepDG3nkR-y"
      },
      "source": [
        "> 🔔 Next, let's use an existing CD4/CD8 gene set from Szabo et al. to score the expression of various CD4/CD8 markers on our dataset.\n",
        "\n",
        "> Read in the csv file and label it \"szabo\""
      ]
    },
    {
      "cell_type": "code",
      "execution_count": null,
      "metadata": {
        "colab": {
          "base_uri": "https://localhost:8080/",
          "height": 424
        },
        "id": "1GxTibyukR-y",
        "outputId": "f59a28dc-22c4-4b2d-c2e8-36245b5862f0"
      },
      "outputs": [],
      "source": [
        "szabo = pd.read_csv(\"geneset/Szabo_T_cell_gene_modules.txt\", sep=\"\\t\")\n",
        "szabo"
      ]
    },
    {
      "cell_type": "markdown",
      "metadata": {
        "id": "9zJ5ZYY5kR-y"
      },
      "source": [
        "Embed a score to the Szabo's \"CD4/CD8\" gene list and name the score as \"CD4/CD8_geneset\""
      ]
    },
    {
      "cell_type": "code",
      "execution_count": null,
      "metadata": {
        "colab": {
          "base_uri": "https://localhost:8080/"
        },
        "id": "jRjsro43kR-y",
        "outputId": "6be6dfee-18c0-4fbd-8d67-cc3bdf50700f",
        "scrolled": true
      },
      "outputs": [],
      "source": [
        "sc.tl.score_genes(adata, gene_list=szabo[\"CD4/CD8\"], score_name=\"CD4/CD8_geneset\")\n",
        "\n",
        "# So if it scores higher = it is more CD4-like..."
      ]
    },
    {
      "cell_type": "markdown",
      "metadata": {
        "id": "k28T7HufDlLH"
      },
      "source": [
        "Plot the usual CD4, CD8 genes together with two other T cell markers: CD44 and CD27 which are involved in acquiring activation, whereas CD27 is high on naive cells and lost upon activation."
      ]
    },
    {
      "cell_type": "code",
      "execution_count": null,
      "metadata": {
        "colab": {
          "base_uri": "https://localhost:8080/",
          "height": 594
        },
        "id": "_NxyJy_mkR-y",
        "outputId": "6d583f4e-8d6f-434c-ffde-cd046d17388a"
      },
      "outputs": [],
      "source": [
        "sc.pl.umap(\n",
        "    adata,\n",
        "    color=[\"CD4/CD8_geneset\", \"sort_type\", \"CD4\", \"CD8B\", \"CD27\", \"CD44\"],\n",
        "    ncols=3,\n",
        "    size=5,\n",
        ")"
      ]
    },
    {
      "cell_type": "markdown",
      "metadata": {
        "id": "2g6W9aBrkR-y"
      },
      "source": [
        "✋ It's a bit weird but the CD4/CD8 marker expression doesn't fully coincide with the CD4/CD8 lineage of sorted identities.\n",
        "\n",
        "Let's do unsupervised clustering and see if there is any way we can understand CD4 vs CD8 on clusters."
      ]
    },
    {
      "cell_type": "markdown",
      "metadata": {
        "id": "jXUBjZwDkR-z"
      },
      "source": [
        "# 5. Redo UMAP\n",
        "\n",
        "# Try running Leiden unsupervised clustering:"
      ]
    },
    {
      "cell_type": "markdown",
      "metadata": {
        "id": "3GfugU5LkR-z"
      },
      "source": [
        "Run leiden clustering with scanpy (BBKNN already has a neighbourhood construction step so can skip this)"
      ]
    },
    {
      "cell_type": "code",
      "execution_count": null,
      "metadata": {
        "id": "hC0yD9h8kR-z"
      },
      "outputs": [],
      "source": [
        "sc.tl.leiden(adata, resolution=2.0)"
      ]
    },
    {
      "cell_type": "markdown",
      "metadata": {
        "id": "B7w-GrwikR-z"
      },
      "source": [
        "#### Plot a UMAP and choose a resolution (\"size\") of 20 clusters:\n",
        "\n",
        "Reference for what other types of resolution mean:\n",
        "\n",
        "resolution 1.0 (10 clusters), resolution 1.5 (12 clusters), resolution 1.8 (15 clusters), resolution 2.0 (16 clusters) - but looks heaps better!\n"
      ]
    },
    {
      "cell_type": "code",
      "execution_count": null,
      "metadata": {
        "colab": {
          "base_uri": "https://localhost:8080/",
          "height": 313
        },
        "id": "MZ0UGxiMkR-z",
        "outputId": "2ce2e164-6d25-4925-d0ef-213ec71b6b0b"
      },
      "outputs": [],
      "source": [
        "sc.pl.umap(adata, color=\"leiden\", size=20)"
      ]
    },
    {
      "cell_type": "code",
      "execution_count": null,
      "metadata": {
        "colab": {
          "base_uri": "https://localhost:8080/",
          "height": 313
        },
        "id": "XgZglIJlkR-z",
        "outputId": "c6161fd6-a6f8-4ede-f002-c93d9af8497e",
        "scrolled": true
      },
      "outputs": [],
      "source": [
        "# putting legend on top\n",
        "sc.pl.umap(adata, color=\"leiden\", legend_loc=\"on data\", legend_fontoutline=2, size=10)"
      ]
    },
    {
      "cell_type": "code",
      "execution_count": null,
      "metadata": {
        "colab": {
          "base_uri": "https://localhost:8080/"
        },
        "id": "sdCIyTdZkR-z",
        "outputId": "f84926f7-c57b-42b0-b848-aeb6e1fd5678"
      },
      "outputs": [],
      "source": [
        "### just getting how many cells are there per cluster\n",
        "adata.obs.groupby([\"leiden\"]).apply(len)"
      ]
    },
    {
      "cell_type": "markdown",
      "metadata": {
        "id": "JirPLK9SkR-z"
      },
      "source": [
        "Creating bar plot distribution per cluster"
      ]
    },
    {
      "cell_type": "code",
      "execution_count": null,
      "metadata": {
        "colab": {
          "base_uri": "https://localhost:8080/",
          "height": 206
        },
        "id": "67TXxg9XkR-z",
        "outputId": "de1ec0f2-6ee5-46a6-81d2-1dd0fa5a6c1b"
      },
      "outputs": [],
      "source": [
        "import matplotlib.pyplot as plt\n",
        "\n",
        "#  https://pbpython.com/pandas-crosstab.html\n",
        "# basically, cross-tabbing relates to two columns/ series together...\n",
        "\n",
        "pd.crosstab(adata.obs[\"donor\"], adata.obs[\"leiden\"])"
      ]
    },
    {
      "cell_type": "code",
      "execution_count": null,
      "metadata": {
        "colab": {
          "base_uri": "https://localhost:8080/",
          "height": 206
        },
        "id": "MRSTNOiakR-z",
        "outputId": "c526d64f-e925-4d7d-fa03-496491bd113d"
      },
      "outputs": [],
      "source": [
        "########   generating it as frequency...\n",
        "# axis : t specifies the axis along which the means are computed\n",
        "# https://stackoverflow.com/questions/22149584/what-does-axis-in-pandas-mean\n",
        "#   Usually axis=0 is said to be \"column-wise\" (and axis=1 \"row-wise\")\n",
        "\n",
        "pd.crosstab(adata.obs[\"donor\"], adata.obs[\"leiden\"]).apply(\n",
        "    lambda r: r / r.sum() * 100, axis=1\n",
        ")"
      ]
    },
    {
      "cell_type": "code",
      "execution_count": null,
      "metadata": {
        "colab": {
          "base_uri": "https://localhost:8080/",
          "height": 413
        },
        "id": "kyipEQJdkR-0",
        "outputId": "032a6e6a-a4ca-4306-b208-3d8ccd66ee2b"
      },
      "outputs": [],
      "source": [
        "#### Creating a stacked bar\n",
        "pd.crosstab(adata.obs[\"sort_type\"], adata.obs[\"leiden\"]).apply(\n",
        "    lambda r: r / r.sum() * 100, axis=1\n",
        ").plot.bar(stacked=True)\n",
        "plt.legend(bbox_to_anchor=(1, 0.5), loc=\"center left\", frameon=False)"
      ]
    },
    {
      "cell_type": "markdown",
      "metadata": {
        "id": "2vx1SZEbLKyH"
      },
      "source": [
        " - `bbox_to_anchor=(1, 0.5)`: This parameter specifies the position of the legend in relation to the axes. In this case, (1, 0.5) means the legend will be placed at the right side of the plot, and vertically centered (at 50% height of the plot).\n",
        " - `loc='center left'`: This parameter determines where the legend should be anchored within the bounding box specified by bbox_to_anchor. In this case, the legend will be positioned along the center-left edge of the bounding box.\n",
        " - `frameon=False`: This parameter specifies whether to draw a frame around the legend. By setting it to False, you're indicating that the legend should not have a visible frame."
      ]
    },
    {
      "cell_type": "code",
      "execution_count": null,
      "metadata": {
        "colab": {
          "base_uri": "https://localhost:8080/",
          "height": 303
        },
        "id": "G_tJT2E8kR-0",
        "outputId": "6c2c8851-c9f2-41c2-8ccd-7179739e463b"
      },
      "outputs": [],
      "source": [
        "### Quickly plot Violin plots for QC...\n",
        "sc.pl.violin(\n",
        "    adata,\n",
        "    [\"total_counts\", \"n_genes_by_counts\", \"pct_counts_mt\"],\n",
        "    size=0.1,\n",
        "    groupby=\"leiden\",\n",
        "    multi_panel=True,\n",
        "    rotation=90,\n",
        ")\n",
        "\n",
        "# cluster 12 - a lot of mito genes, cluster 15 is basically non-existent!"
      ]
    },
    {
      "cell_type": "code",
      "execution_count": null,
      "metadata": {
        "colab": {
          "base_uri": "https://localhost:8080/",
          "height": 580
        },
        "id": "J0368RI8kR-0",
        "outputId": "82e57b48-432f-46f8-e10f-dcb1b96219f3"
      },
      "outputs": [],
      "source": [
        "## check CD4/CD8 score over cluster.. - higher score = more CD4.. - cluster 2,3,4, 6,7,8, 11,13,14\n",
        "sc.pl.matrixplot(adata, \"CD4/CD8_geneset\", groupby=\"leiden\")"
      ]
    },
    {
      "cell_type": "markdown",
      "metadata": {
        "id": "5ftdEGktkR-0"
      },
      "source": [
        "✋ This is in line with UMAP structure governed mainly by activation etc... Whereas lineage of CD4/CD8 of sorted identities are not distinct in the UMAP. CD4-like cells tend to sit on the upper half!"
      ]
    },
    {
      "cell_type": "code",
      "execution_count": null,
      "metadata": {
        "colab": {
          "base_uri": "https://localhost:8080/",
          "height": 303
        },
        "id": "qeWEHsdakR-0",
        "outputId": "f89dd277-2cff-4c31-c75c-4e82391a8989",
        "scrolled": true
      },
      "outputs": [],
      "source": [
        "sc.pl.violin(\n",
        "    adata,\n",
        "    [\"CD4\", \"CD8A\", \"CD8B\"],\n",
        "    size=0.1,\n",
        "    groupby=\"leiden\",\n",
        "    multi_panel=True,\n",
        "    rotation=90,\n",
        ")"
      ]
    },
    {
      "cell_type": "markdown",
      "metadata": {
        "id": "aEseggWhkR-0"
      },
      "source": [
        "# 6. Refining clusters based on marker gene expression\n",
        "# (Manual way #1)"
      ]
    },
    {
      "cell_type": "markdown",
      "metadata": {
        "id": "qrO4QLO8kR-0"
      },
      "source": [
        "Using the Leiden clusters, rank the highly expressed genes for each cluster using a dot plot.\n",
        "Try adding a new key to refine the number of clusters. Label it as \"leiden_A\""
      ]
    },
    {
      "cell_type": "code",
      "execution_count": null,
      "metadata": {
        "colab": {
          "base_uri": "https://localhost:8080/",
          "height": 316
        },
        "id": "22vOr7oxkR-0",
        "outputId": "13428789-b422-4115-d4d7-cea77d45a971",
        "scrolled": true
      },
      "outputs": [],
      "source": [
        "sc.tl.leiden(adata, key_added=\"leiden_A\")\n",
        "sc.pl.umap(\n",
        "    adata, color=[\"leiden\", \"leiden_A\"], legend_fontoutline=2, legend_loc=\"on data\"\n",
        ")"
      ]
    },
    {
      "cell_type": "code",
      "execution_count": null,
      "metadata": {
        "id": "xb8YHbRukR-0"
      },
      "outputs": [],
      "source": [
        "sc.tl.rank_genes_groups(adata, groupby=\"leiden_A\", method=\"wilcoxon\")"
      ]
    },
    {
      "cell_type": "code",
      "execution_count": null,
      "metadata": {
        "colab": {
          "base_uri": "https://localhost:8080/",
          "height": 388
        },
        "id": "NyS3EaB7kR-0",
        "outputId": "454c16d3-a143-4ab5-8107-ce2c1480b9f2"
      },
      "outputs": [],
      "source": [
        "sc.pl.rank_genes_groups_dotplot(\n",
        "    adata, n_genes=5, min_logfoldchange=0.5, standard_scale=\"var\", color_map=\"viridis\"\n",
        ")"
      ]
    },
    {
      "cell_type": "markdown",
      "metadata": {
        "id": "NoKgd0O7kR-1"
      },
      "source": [
        "Now label each cluster with an annotation based on the most highly expressed genes while genes that are housekeeping or non-specific can be assigned to \"Ambiguous\" if they are not genes of interest.\n",
        "Also consider the fraction of cells and their mean gene expression in tandem"
      ]
    },
    {
      "cell_type": "markdown",
      "metadata": {
        "id": "8xXjjbfBkR-1"
      },
      "source": [
        "You can also look at the genes in a tabular format for easier viewing. Still, use it in tandem with the dotplot above."
      ]
    },
    {
      "cell_type": "code",
      "execution_count": null,
      "metadata": {
        "colab": {
          "base_uri": "https://localhost:8080/",
          "height": 363
        },
        "id": "mF3RG025kR-1",
        "outputId": "eeda6db7-3be6-446a-ae94-8153a91435e6",
        "scrolled": true
      },
      "outputs": [],
      "source": [
        "pd.DataFrame(adata.uns[\"rank_genes_groups\"][\"names\"]).head(10)"
      ]
    },
    {
      "cell_type": "markdown",
      "metadata": {
        "id": "3IYSDJLukR-1"
      },
      "source": [
        "#### Now name the clusters based on the listed genes together with references to literature.\n",
        "\n",
        "Notice that most of the clusters have lots of non-specific annd/or housekeeping genes that makes it hard to name the clusters.\n",
        "\n",
        "So you can also just manually inspect and plot a few genes using a cell marker dictionary that we will then used to label the above clusters.\n",
        "\n",
        "**I am leaving the next few lines of code partlially blank so that you can decide what kind genes to plot and how to annotate your celltypes. If you just run as it, you will encounter errors.**"
      ]
    },
    {
      "cell_type": "code",
      "execution_count": null,
      "metadata": {
        "id": "8hQqq_xYkR-1"
      },
      "outputs": [],
      "source": [
        "cellmarker_dict = {\n",
        "    \"T cell\": [\"CD3D\", \"TRAC\"],\n",
        "    \"NK\": [\"NCAM1\", \"NCR1\"],\n",
        "    \"CD4 vs CD8\": [\"CD4\", \"CD8B\"],\n",
        "    \"Memory\": [\"SELL\", \"CCR7\", \"CD44\"],\n",
        "    \"Th1\": [],\n",
        "    \"Cytokines\": [],\n",
        "    \"Chemokines\": [],\n",
        "    \"Exhausted\": [],\n",
        "    \"Other\": [],\n",
        "}"
      ]
    },
    {
      "cell_type": "code",
      "execution_count": null,
      "metadata": {
        "colab": {
          "base_uri": "https://localhost:8080/",
          "height": 365
        },
        "id": "sYeqWqN7kR-2",
        "outputId": "adfbe6cd-7c43-4e92-91a2-98e5ab191cfe"
      },
      "outputs": [],
      "source": [
        "sc.pl.dotplot(\n",
        "    adata, cellmarker_dict, groupby=\"leiden_A\", standard_scale=\"var\", color_map=\"Blues\"\n",
        ")"
      ]
    },
    {
      "cell_type": "markdown",
      "metadata": {
        "id": "h3Xn0b15M0U6"
      },
      "source": [
        "### To map the identified clusters to a cell type annotation label"
      ]
    },
    {
      "cell_type": "code",
      "execution_count": null,
      "metadata": {
        "id": "avfTKXo9kR-2"
      },
      "outputs": [],
      "source": [
        "celltypesannot = {\n",
        "    \"0\": \"\",\n",
        "    \"1\": \"\",\n",
        "    \"2\": \"\",\n",
        "    \"3\": \"\",\n",
        "    \"4\": \"\",\n",
        "    \"5\": \"\",\n",
        "    \"6\": \"\",\n",
        "    \"7\": \"\",\n",
        "    \"8\": \"\",\n",
        "    \"9\": \"\",\n",
        "}\n",
        "# add a new '.obs'column called 'cell type' by mapping clusters to annotation using pandas 'map'function\n",
        "adata.obs[\"cell type\"] = adata.obs[\"leiden_A\"].map(celltypesannot).astype(\"category\")"
      ]
    },
    {
      "cell_type": "code",
      "execution_count": null,
      "metadata": {
        "colab": {
          "base_uri": "https://localhost:8080/",
          "height": 294
        },
        "id": "ZlImUtkgkR-5",
        "outputId": "f13b61f2-92c8-444f-989d-b000cd421872"
      },
      "outputs": [],
      "source": [
        "sc.pl.umap(\n",
        "    adata,\n",
        "    color=\"cell type\",\n",
        "    legend_loc=\"on data\",\n",
        "    frameon=False,\n",
        "    legend_fontsize=7,\n",
        "    legend_fontoutline=2,\n",
        ")"
      ]
    },
    {
      "cell_type": "code",
      "execution_count": null,
      "metadata": {
        "id": "5wJWPE8qkR-5"
      },
      "outputs": [],
      "source": [
        "adata2 = adata[\n",
        "    adata.obs[\"cell type\"].isin(\n",
        "        [\n",
        "            \"\",\n",
        "            \"\",\n",
        "            \"\",\n",
        "        ]\n",
        "    )\n",
        "].copy()\n",
        "sc.pl.umap(adata2, color=\"cell type\")"
      ]
    },
    {
      "cell_type": "code",
      "execution_count": null,
      "metadata": {
        "id": "x_YGbcCYkR-5"
      },
      "outputs": [],
      "source": [
        "adata2.write(\"celltypes_annot_01.h5ad\")"
      ]
    },
    {
      "cell_type": "code",
      "execution_count": null,
      "metadata": {
        "id": "S5bwB4ZykR-5"
      },
      "outputs": [],
      "source": [
        "adata2 = sc.read_h5ad(\"celltypes_annot_01.h5ad\")  # run this if reimporting\n",
        "adata2"
      ]
    },
    {
      "cell_type": "markdown",
      "metadata": {
        "id": "B19_YxcCkR-6"
      },
      "source": [
        "So the above steps would be how you run a manual annotation and you can refine the clusters further using your newly labeled object \"adata2\""
      ]
    },
    {
      "cell_type": "markdown",
      "metadata": {
        "id": "oBy2TqiMkR-6"
      },
      "source": [
        "# 7. Other ways of refining cluster annotations:"
      ]
    },
    {
      "cell_type": "markdown",
      "metadata": {
        "id": "KwrAw8ZakR-6"
      },
      "source": [
        "## Alternative method of cluster annotations: Automated Celltypist annotation"
      ]
    },
    {
      "cell_type": "markdown",
      "metadata": {
        "id": "7zSYvNhEkR-6"
      },
      "source": [
        "### First, write out the raw data for input for celltypist"
      ]
    },
    {
      "cell_type": "code",
      "execution_count": null,
      "metadata": {
        "id": "i6_prrt7kR-6"
      },
      "outputs": [],
      "source": [
        "adata.raw.to_adata().write_h5ad(\n",
        "    \"adata_processed_v2_BBKNN_MS_raw-for_celltypist_300823.h5ad\", compression=\"gzip\"\n",
        ")\n",
        "\n",
        "#### Quick note... Kelvin also did a comparison on the pre-batch-correction data, but since we are happy with batch correction.. just continue on."
      ]
    },
    {
      "cell_type": "markdown",
      "metadata": {
        "id": "f9xrOmMskR-6"
      },
      "source": [
        "### Make a directory for the output after running celltypist on our data"
      ]
    },
    {
      "cell_type": "code",
      "execution_count": null,
      "metadata": {
        "id": "_q9VQs88kR-6"
      },
      "outputs": [],
      "source": [
        "!mkdir celltypist_bbknn"
      ]
    },
    {
      "cell_type": "markdown",
      "metadata": {
        "id": "TiknLv6VkR-7"
      },
      "source": [
        "#### Run celltypist on our processed-BBKNN-batch corrected data and allow it to predict labels on each single cell with all the specifications needed.\n",
        "\n",
        "#### The labels will be given a variable name of \"majority_voting\""
      ]
    },
    {
      "cell_type": "code",
      "execution_count": null,
      "metadata": {
        "id": "G2-sq_19kR-7",
        "scrolled": true
      },
      "outputs": [],
      "source": [
        "!celltypist --indata adata_processed_v2_BBKNN_MS_raw-for_celltypist_300823.h5ad --model Immune_All_Low.pkl --outdir celltypist_bbknn --majority-voting"
      ]
    },
    {
      "cell_type": "markdown",
      "metadata": {
        "id": "75pXC60BkR-7"
      },
      "source": [
        "#### Import and label the object for predicted_labels.csv as \"celltypistdf1\" and set an index_col=0.\n",
        "\n",
        "index_col: This is to allow you to set which columns to be used as the index of the dataframe. The default value is None, and pandas will add a new column start from 0 to specify the index column. It can be set as a column name or column index, which will be used as the index column.\n",
        "\n",
        "#### Then run the new object\n",
        "\n",
        "majority_voting: predicted labels after majority voting in local subclusters"
      ]
    },
    {
      "cell_type": "code",
      "execution_count": null,
      "metadata": {
        "id": "51k1VytakR-7"
      },
      "outputs": [],
      "source": [
        "celltypistdf1 = pd.read_csv(\"celltypist_bbknn/predicted_labels.csv\", index_col=0)\n",
        "celltypistdf1"
      ]
    },
    {
      "cell_type": "markdown",
      "metadata": {
        "id": "w-h1EqRTkR-7"
      },
      "source": [
        "#### Check the columns of adata:"
      ]
    },
    {
      "cell_type": "code",
      "execution_count": null,
      "metadata": {
        "id": "zeHodwzmkR-7"
      },
      "outputs": [],
      "source": [
        "adata.obs"
      ]
    },
    {
      "cell_type": "markdown",
      "metadata": {
        "id": "nmP06wn_kR-7"
      },
      "source": [
        "#### Include the majority_voting data from celltypistdf1 in the adata - Label it as \"celltypist_majority_voting\""
      ]
    },
    {
      "cell_type": "code",
      "execution_count": null,
      "metadata": {
        "id": "XUvbACgokR-7"
      },
      "outputs": [],
      "source": [
        "adata.obs[\"celltypist_majority_voting\"] = pd.Series(celltypistdf1[\"majority_voting\"])\n",
        "adata.obs.info()"
      ]
    },
    {
      "cell_type": "markdown",
      "metadata": {
        "id": "gtf0uzBSkR-7"
      },
      "source": [
        "#### Check the columns that you've added the new column in correctly:"
      ]
    },
    {
      "cell_type": "code",
      "execution_count": null,
      "metadata": {
        "id": "vyNDV_eQkR-7"
      },
      "outputs": [],
      "source": [
        "adata.obs"
      ]
    },
    {
      "cell_type": "markdown",
      "metadata": {
        "id": "bOPECKwkkR-7"
      },
      "source": [
        "#### Data can also be imported this way without \"pd.Series\" at the start - not sure what difference is!:\n",
        "\n",
        "adata.obs[\"celltypist_majority_voting\"] = celltypistdf1[\"majority_voting\"]"
      ]
    },
    {
      "cell_type": "markdown",
      "metadata": {
        "id": "f1SL00YukR-8"
      },
      "source": [
        "#### Visualise the data via umap\n",
        "\n",
        "##### Hint: color it by your new celltypist labels"
      ]
    },
    {
      "cell_type": "code",
      "execution_count": null,
      "metadata": {
        "id": "D_v6QdiYkR-8",
        "scrolled": true
      },
      "outputs": [],
      "source": [
        "sc.pl.umap(adata, color=[\"celltypist_majority_voting\"], size=20)"
      ]
    },
    {
      "cell_type": "markdown",
      "metadata": {
        "id": "IWsab63TkR-8"
      },
      "source": [
        "### Plot distribution by sorting by cell type"
      ]
    },
    {
      "cell_type": "code",
      "execution_count": null,
      "metadata": {
        "id": "iLYc5e28kR-8",
        "scrolled": true
      },
      "outputs": [],
      "source": [
        "pd.crosstab(adata.obs[\"sort_type\"], adata.obs[\"celltypist_majority_voting\"]).apply(\n",
        "    lambda r: r / r.sum() * 100, axis=1\n",
        ").plot.bar(stacked=True)\n",
        "plt.legend(bbox_to_anchor=(1, 0.5), loc=\"center left\", frameon=False)"
      ]
    },
    {
      "cell_type": "markdown",
      "metadata": {
        "id": "qAStiscYkR-8"
      },
      "source": [
        "### Plot a crosstab chart by sorting into CD4, CD8 and DP using the package matplotlib.pyplot:"
      ]
    },
    {
      "cell_type": "code",
      "execution_count": null,
      "metadata": {
        "id": "PmXUxXeckR-8"
      },
      "outputs": [],
      "source": [
        "import matplotlib.pyplot as plt\n",
        "\n",
        "pd.crosstab(\n",
        "    adata.obs[\"celltypist_majority_voting\"],\n",
        "    adata.obs[\"sort_type\"],\n",
        ").apply(\n",
        "    lambda r: r / r.sum() * 100, axis=1\n",
        ").plot.bar(stacked=True)\n",
        "plt.legend(bbox_to_anchor=(1, 0.5), loc=\"center left\", frameon=False)"
      ]
    },
    {
      "cell_type": "markdown",
      "metadata": {
        "id": "ayvHDgRqkR-8"
      },
      "source": [
        "### Plot a UMAP and colour it by leiden and place the legend 'on data'"
      ]
    },
    {
      "cell_type": "code",
      "execution_count": null,
      "metadata": {
        "id": "BQEx4yshkR-8"
      },
      "outputs": [],
      "source": [
        "sc.pl.umap(adata, color=\"leiden\", legend_loc=\"on data\", legend_fontoutline=2, size=10)"
      ]
    },
    {
      "cell_type": "code",
      "execution_count": null,
      "metadata": {
        "id": "t19t7zKqkR-8"
      },
      "outputs": [],
      "source": [
        "pd.crosstab(adata.obs[\"leiden\"], adata.obs[\"celltypist_majority_voting\"]).apply(\n",
        "    lambda r: r / r.sum() * 100, axis=1\n",
        ").plot.bar(stacked=True)\n",
        "plt.legend(bbox_to_anchor=(1, 0.5), loc=\"center left\", frameon=False)"
      ]
    },
    {
      "cell_type": "markdown",
      "metadata": {
        "id": "tp43zOBlkR-9"
      },
      "source": [
        "At the end of all these, a theme has emerged:\n",
        "CD4 sorted cells are mostly \"naive\"-like\n",
        "CD8 sorted cells are mostly \"cytotoxic\"\n",
        "DP are more related to CD4s, but have some differentianted Th cells"
      ]
    },
    {
      "cell_type": "markdown",
      "metadata": {
        "id": "NZT3HsMAkR-9"
      },
      "source": [
        "#### But if this is the case, none of the current annotation will have DP cells as a whole - the question is are DP cells more related to CD4/CD8 cells. So... we will group all DP cells and annotate them as DP cells without further clustering etc.\n",
        "\n",
        "#### So next, create a new column in adata called  \"celltypist_annotation\":"
      ]
    },
    {
      "cell_type": "code",
      "execution_count": null,
      "metadata": {
        "id": "qR4T5i_EkR-9"
      },
      "outputs": [],
      "source": [
        "adata.obs[\"celltypist_annotation\"] = adata.obs[\"celltypist_majority_voting\"]\n",
        "adata.obs.info()"
      ]
    },
    {
      "cell_type": "code",
      "execution_count": null,
      "metadata": {
        "id": "4RwQJqHnkR-9"
      },
      "outputs": [],
      "source": [
        "# convert from category to object so I can play around...\n",
        "adata.obs[\"celltypist_annotation\"] = adata.obs[\"celltypist_annotation\"].astype(\"object\")\n",
        "adata.obs.info()"
      ]
    },
    {
      "cell_type": "code",
      "execution_count": null,
      "metadata": {
        "id": "_buP4J7BkR-9"
      },
      "outputs": [],
      "source": [
        "### This function works only on object but NOT category!\n",
        "for i in adata.obs.index:\n",
        "    if adata.obs.at[i, \"sort_type\"] == \"DP\":\n",
        "        adata.obs.at[i, \"celltypist_annotation\"] = \"DP\"\n",
        "adata.obs.info()"
      ]
    },
    {
      "cell_type": "code",
      "execution_count": null,
      "metadata": {
        "id": "80G01-jZkR-9"
      },
      "outputs": [],
      "source": [
        "adata.obs"
      ]
    },
    {
      "cell_type": "markdown",
      "metadata": {
        "id": "ynT6W3L3kR-9"
      },
      "source": [
        "### Plot a umap and color it by the celltypist annotations."
      ]
    },
    {
      "cell_type": "code",
      "execution_count": null,
      "metadata": {
        "id": "bw4wdyKHkR-9"
      },
      "outputs": [],
      "source": [
        "sc.pl.umap(adata, color=[\"celltypist_annotation\"], size=20, ncols=2)"
      ]
    },
    {
      "cell_type": "markdown",
      "metadata": {
        "id": "19VLzIwJkR-9"
      },
      "source": [
        "## Stop here.... and save and do marker genes etc...."
      ]
    },
    {
      "cell_type": "code",
      "execution_count": null,
      "metadata": {
        "id": "hVsBECLikR--"
      },
      "outputs": [],
      "source": [
        "adata.write_h5ad(\n",
        "    \"adata_processed_v2_BBKNN_celltypist_MS_300823.h5ad\", compression=\"gzip\"\n",
        ")"
      ]
    },
    {
      "cell_type": "code",
      "execution_count": null,
      "metadata": {
        "id": "V3vevcedkR--"
      },
      "outputs": [],
      "source": [
        "adata = sc.read_h5ad(\"adata_processed_v2_BBKNN_celltypist_MS_300823.h5ad\")\n",
        "#### NOTE: This step is only necessary if you are running from any of the SAVED H5ad object, because adata.uns['log1p'] is an empty dictionary! So will trigger error when running any DGEA..\n",
        "# pop is used to remove and return an element from a collection (if assigned to something), here it is to simply remove log1p\n",
        "try:\n",
        "    adata.uns.pop(\"log1p\")\n",
        "except:\n",
        "    pass\n",
        "adata"
      ]
    },
    {
      "cell_type": "markdown",
      "metadata": {
        "id": "d5hijhIskR--"
      },
      "source": [
        "## Finding Marker Genes Manually"
      ]
    },
    {
      "cell_type": "code",
      "execution_count": null,
      "metadata": {
        "id": "TYw4IVdxkR-_"
      },
      "outputs": [],
      "source": [
        "sc.tl.rank_genes_groups(adata, groupby=\"leiden\", method=\"wilcoxon\")"
      ]
    },
    {
      "cell_type": "markdown",
      "metadata": {
        "id": "KXpR4ra1kR-_"
      },
      "source": [
        "Plot the above out:"
      ]
    },
    {
      "cell_type": "code",
      "execution_count": null,
      "metadata": {
        "id": "cyN2SAOMkR-_",
        "scrolled": true
      },
      "outputs": [],
      "source": [
        "sc.pl.rank_genes_groups(adata, n_genes=25, sharey=False)  # sharey means each panel"
      ]
    },
    {
      "cell_type": "markdown",
      "metadata": {
        "id": "jDmVVD4dkR-_"
      },
      "source": [
        "Plot it out as dotplot:"
      ]
    },
    {
      "cell_type": "code",
      "execution_count": null,
      "metadata": {
        "id": "wWHVTLGhkR-_"
      },
      "outputs": [],
      "source": [
        "sc.pl.rank_genes_groups_dotplot(\n",
        "    adata, n_genes=5, standard_scale=\"var\", color_map=\"viridis\", min_logfoldchange=1\n",
        ")"
      ]
    },
    {
      "cell_type": "markdown",
      "metadata": {
        "id": "mSp0-nMbkR-_"
      },
      "source": [
        "Let's try to plot my marker genes of \"CD4\", \"CD8B\", \"FOXP3\", \"CTLA4\", \"SELL\", \"CCR7\", \"MKI67\", \"NKG7\", \"GATA3\", \"RORC\", \"CXCR5\", \"CD69\", \"GZMK\", \"BCL6\", \"TRAV1-2\" - label this set of genes as \"my_genes\", and plot it as a dotplot"
      ]
    },
    {
      "cell_type": "code",
      "execution_count": null,
      "metadata": {
        "id": "5drLOpWpkR-_",
        "scrolled": true
      },
      "outputs": [],
      "source": [
        "my_genes = [\n",
        "    \"CD4\",\n",
        "    \"CD8B\",\n",
        "    \"FOXP3\",\n",
        "    \"CTLA4\",\n",
        "    \"SELL\",\n",
        "    \"CCR7\",\n",
        "    \"MKI67\",\n",
        "    \"NKG7\",\n",
        "    \"GATA3\",\n",
        "    \"RORC\",\n",
        "    \"CXCR5\",\n",
        "    \"CD69\",\n",
        "    \"GZMK\",\n",
        "    \"BCL6\",\n",
        "    \"TRAV1-2\",\n",
        "]\n",
        "sc.pl.dotplot(adata, var_names=my_genes, groupby=\"leiden\", color_map=\"viridis\")"
      ]
    },
    {
      "cell_type": "markdown",
      "metadata": {
        "id": "-Txl1ffWkR-_"
      },
      "source": [
        "Plot Violin plots for QC using the stacked_violin function:"
      ]
    },
    {
      "cell_type": "code",
      "execution_count": null,
      "metadata": {
        "id": "KOVtDjn-kR-_"
      },
      "outputs": [],
      "source": [
        "sc.pl.stacked_violin(\n",
        "    adata,\n",
        "    my_genes,\n",
        "    groupby=\"leiden\",\n",
        "    row_palette=\"viridis\",\n",
        "    colorbar_title=\"median expression\",\n",
        ")"
      ]
    },
    {
      "cell_type": "markdown",
      "metadata": {
        "id": "1kmzSoNmkR_A"
      },
      "source": [
        "Plot a stacked_violin chart again but groupby as 'celltypist_annotation'"
      ]
    },
    {
      "cell_type": "code",
      "execution_count": null,
      "metadata": {
        "id": "r6qLcflmkR_A"
      },
      "outputs": [],
      "source": [
        "sc.pl.stacked_violin(\n",
        "    adata,\n",
        "    my_genes,\n",
        "    groupby=\"celltypist_annotation\",\n",
        "    row_palette=\"viridis\",\n",
        "    colorbar_title=\"median expression\",\n",
        ")"
      ]
    },
    {
      "cell_type": "markdown",
      "metadata": {
        "id": "3qmj_gqAkR_A"
      },
      "source": [
        "Show the top 10 ranked genes for each cluster as a dataframe using the `rank_genes_groups` function"
      ]
    },
    {
      "cell_type": "code",
      "execution_count": null,
      "metadata": {
        "id": "aGhSKfKnkR_A",
        "scrolled": true
      },
      "outputs": [],
      "source": [
        "pd.DataFrame(adata.uns[\"rank_genes_groups\"][\"names\"]).head(10)"
      ]
    },
    {
      "cell_type": "markdown",
      "metadata": {
        "id": "p9Iw9D01kR_A"
      },
      "source": [
        "Plot the umap and color by 'leiden' and set a size of 20:"
      ]
    },
    {
      "cell_type": "code",
      "execution_count": null,
      "metadata": {
        "id": "Qe_ZNXyQkR_A"
      },
      "outputs": [],
      "source": [
        "sc.pl.umap(adata, color=\"leiden\", size=20)"
      ]
    },
    {
      "cell_type": "markdown",
      "metadata": {
        "id": "iMmFe1qSkR_A"
      },
      "source": [
        "Redo the above steps with celltypist_annotation:"
      ]
    },
    {
      "cell_type": "code",
      "execution_count": null,
      "metadata": {
        "id": "qD0kJsCzkR_A"
      },
      "outputs": [],
      "source": [
        "sc.tl.rank_genes_groups(adata, groupby=\"celltypist_annotation\", method=\"wilcoxon\")"
      ]
    },
    {
      "cell_type": "markdown",
      "metadata": {
        "id": "mv1oBylhkR_A"
      },
      "source": [
        "Plot it out as dotplot with rank_genes_groups"
      ]
    },
    {
      "cell_type": "code",
      "execution_count": null,
      "metadata": {
        "id": "RheNhkOlkR_A"
      },
      "outputs": [],
      "source": [
        "sc.pl.rank_genes_groups_dotplot(\n",
        "    adata, n_genes=10, standard_scale=\"var\", color_map=\"viridis\", min_logfoldchange=1\n",
        ")"
      ]
    },
    {
      "cell_type": "markdown",
      "metadata": {
        "id": "F455lU-XkR_B"
      },
      "source": [
        "Plot violin plots for QC with 'my_genes':"
      ]
    },
    {
      "cell_type": "code",
      "execution_count": null,
      "metadata": {
        "id": "JnhdinAfkR_B"
      },
      "outputs": [],
      "source": [
        "my_genes = [\n",
        "    \"CD4\",\n",
        "    \"CD8B\",\n",
        "    \"FOXP3\",\n",
        "    \"IL2RA\",\n",
        "    \"CTLA4\",\n",
        "    \"GZMK\",\n",
        "    \"NKG7\",\n",
        "    \"CCL5\",\n",
        "    \"SELL\",\n",
        "    \"CCR7\",\n",
        "    \"CD44\",\n",
        "    \"CD27\",\n",
        "    \"TRAV1-2\",\n",
        "    \"KLRG1\",\n",
        "    \"CX3CR1\",\n",
        "    \"CD69\",\n",
        "    \"ITGA1\",\n",
        "    \"CXCR6\",\n",
        "]\n",
        "sc.pl.stacked_violin(\n",
        "    adata,\n",
        "    my_genes,\n",
        "    groupby=\"celltypist_annotation\",\n",
        "    row_palette=\"viridis\",\n",
        "    colorbar_title=\"median expression\",\n",
        ")"
      ]
    },
    {
      "cell_type": "markdown",
      "metadata": {
        "id": "onqJoAvnkR_B"
      },
      "source": [
        "\n",
        "Plot umap with clusters coloured by celltypist_annotation"
      ]
    },
    {
      "cell_type": "code",
      "execution_count": null,
      "metadata": {
        "id": "pUCE8PNHkR_B"
      },
      "outputs": [],
      "source": [
        "sc.pl.umap(adata, color=\"celltypist_annotation\", size=10)"
      ]
    },
    {
      "cell_type": "markdown",
      "metadata": {
        "id": "6w44z2gdkR_B"
      },
      "source": [
        "Show the top 10 ranked genes for each cluster as a dataframe using 'rank_genes_groups'"
      ]
    },
    {
      "cell_type": "code",
      "execution_count": null,
      "metadata": {
        "id": "bZF7fTsgkR_B"
      },
      "outputs": [],
      "source": [
        "pd.DataFrame(adata.uns[\"rank_genes_groups\"][\"names\"]).head(10)"
      ]
    },
    {
      "cell_type": "markdown",
      "metadata": {
        "id": "w5YC62rsN_Ff"
      },
      "source": [
        "Do you want to try and give each cluster your own annotation and see if it agrees with the celltypist ones?"
      ]
    },
    {
      "cell_type": "markdown",
      "metadata": {
        "id": "nNjdC73HkR_B"
      },
      "source": [
        "This marks the end of the tutorial. Good job!"
      ]
    },
    {
      "cell_type": "code",
      "execution_count": null,
      "metadata": {
        "id": "j4wGknhjGoNz"
      },
      "outputs": [],
      "source": []
    }
  ],
  "metadata": {
    "colab": {
      "include_colab_link": true,
      "provenance": []
    },
    "kernelspec": {
      "display_name": "Python 3 (ipykernel)",
      "language": "python",
      "name": "python3"
    },
    "language_info": {
      "codemirror_mode": {
        "name": "ipython",
        "version": 3
      },
      "file_extension": ".py",
      "mimetype": "text/x-python",
      "name": "python",
      "nbconvert_exporter": "python",
      "pygments_lexer": "ipython3",
      "version": "3.10.12"
    }
  },
  "nbformat": 4,
  "nbformat_minor": 0
}
